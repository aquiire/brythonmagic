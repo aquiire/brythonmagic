{
 "metadata": {
  "name": ""
 },
 "nbformat": 3,
 "nbformat_minor": 0,
 "worksheets": [
  {
   "cells": [
    {
     "cell_type": "markdown",
     "metadata": {},
     "source": [
      "The brythonmagic extension has been tested on:"
     ]
    },
    {
     "cell_type": "code",
     "collapsed": false,
     "input": [
      "import IPython\n",
      "IPython.version_info"
     ],
     "language": "python",
     "metadata": {},
     "outputs": []
    },
    {
     "cell_type": "heading",
     "level": 1,
     "metadata": {},
     "source": [
      "brythonmagic installation"
     ]
    },
    {
     "cell_type": "markdown",
     "metadata": {},
     "source": [
      "Just type the following:"
     ]
    },
    {
     "cell_type": "code",
     "collapsed": false,
     "input": [
      "%install_ext https://raw.github.com/kikocorreoso/brythonmagic/master/brythonmagic.py"
     ],
     "language": "python",
     "metadata": {},
     "outputs": [
      {
       "output_type": "stream",
       "stream": "stdout",
       "text": [
        "Installed brythonmagic.py. To use it, type:\n",
        "  %load_ext brythonmagic\n"
       ]
      }
     ],
     "prompt_number": 1
    },
    {
     "cell_type": "code",
     "collapsed": false,
     "input": [
      "%load_ext brythonmagic"
     ],
     "language": "python",
     "metadata": {},
     "outputs": [],
     "prompt_number": 2
    },
    {
     "cell_type": "markdown",
     "metadata": {},
     "source": [
      "And load the brython js lib in the notebook:"
     ]
    },
    {
     "cell_type": "code",
     "collapsed": false,
     "input": [
      "%%HTML\n",
      "<script type=\"text/javascript\" src=\"http://brython.info/src/brython_dist.js\"></script>"
     ],
     "language": "python",
     "metadata": {},
     "outputs": [
      {
       "html": [
        "<script type=\"text/javascript\" src=\"http://brython.info/src/brython_dist.js\"></script>"
       ],
       "metadata": {},
       "output_type": "display_data",
       "text": [
        "<IPython.core.display.HTML at 0x7f0343335710>"
       ]
      }
     ],
     "prompt_number": 3
    },
    {
     "cell_type": "heading",
     "level": 1,
     "metadata": {},
     "source": [
      "Usage:"
     ]
    },
    {
     "cell_type": "markdown",
     "metadata": {},
     "source": [
      "The brythonmagic provides you a cell magic, `%%brython`, to run brython code and show the results in a html `div` tag below the code cell.\n",
      "\n",
      "You can use several options:\n",
      "\n",
      "* -p, --print: will show you the generated html code below the results obtained from the brython code.\n",
      "\n",
      "\n",
      "* -c, --container: you can define de name of the `div` container in case you want to 'play' with it in other cell. If you don't define an output the `div` will have and `id` with the following format 'brython-container-[random number between 0 and 999999]'\n",
      "\n",
      "\n",
      "* -i, --input: you can pass variables defined in the Python namespace separated by commas. If you pass a python list it will be converted to a brython list, a python tuple will be converted to a brython tuple, a python dict will be converted to a brython dict, a python string will be converted to a brython string.\n",
      "\n",
      "\n",
      "* -h, --html: you can pass a string with html markup code. This html code will be inserted inside the div container. In this way you can avoid the generation of HTML markup code via a Brython script so you can separate the layout from the 'action'.\n",
      "\n",
      "\n",
      "* -s, --script: Use this option to provide and id to the script defined in the Brython code cell. Also, this value could be used to run the code of this cell in other brython cells.\n",
      "\n",
      "\n",
      "* -S, --scripts: Use this option to run code previously defined in other Brython code cells. The values should be the provided values in the -s/--script option in other Brython code cells.\n",
      "\n",
      "\n",
      "[WARNING] This options may change as the brythonmagic is in active development."
     ]
    },
    {
     "cell_type": "heading",
     "level": 3,
     "metadata": {},
     "source": [
      "`-p, --print` option"
     ]
    },
    {
     "cell_type": "markdown",
     "metadata": {},
     "source": [
      "The following example shows the use of the `-p`, `--print` option. \n",
      "\n",
      "[HINT] The result of the print is shown in the javascript console of your browser."
     ]
    },
    {
     "cell_type": "code",
     "collapsed": false,
     "input": [
      "%%brython -p\n",
      "print('hello world!')"
     ],
     "language": "python",
     "metadata": {},
     "outputs": [
      {
       "html": [
        "<script id=\"871267\" type=\"text/python\">\n",
        "print('hello world!')\n",
        "</script>\n",
        "<script type=\"text/javascript\">brython({debug:1, ipy_id: [\"871267\"]});</script>\n",
        "<div id=\"brython_container_871267\"></div>"
       ],
       "metadata": {},
       "output_type": "display_data",
       "text": [
        "<IPython.core.display.HTML at 0x7f03402adc10>"
       ]
      },
      {
       "output_type": "stream",
       "stream": "stdout",
       "text": [
        "<script id=\"871267\" type=\"text/python\">\n",
        "print('hello world!')\n",
        "</script>\n",
        "<script type=\"text/javascript\">brython({debug:1, ipy_id: [\"871267\"]});</script>\n",
        "<div id=\"brython_container_871267\"></div>\n"
       ]
      }
     ],
     "prompt_number": 4
    },
    {
     "cell_type": "heading",
     "level": 3,
     "metadata": {},
     "source": [
      "`-c, --container` option"
     ]
    },
    {
     "cell_type": "markdown",
     "metadata": {},
     "source": [
      "In the following example can be seen the use of the `-c`, `--container`. The `-p` is also used to show you the result. See the `id` attribute of the `div` tag created:"
     ]
    },
    {
     "cell_type": "code",
     "collapsed": false,
     "input": [
      "%%brython -c my_container -p\n",
      "from browser import doc, html\n",
      "\n",
      "# This will be printed in the js console of your browser\n",
      "print('Hello world!')\n",
      "\n",
      "# This will be printed in the container div on the output below\n",
      "doc[\"my_container\"] <= html.P(\"This text is inside the div\", \n",
      "                              style = {\"backgroundColor\": \"cyan\"})"
     ],
     "language": "python",
     "metadata": {},
     "outputs": [
      {
       "html": [
        "<script id=\"706270\" type=\"text/python\">\n",
        "from browser import doc, html\n",
        "\n",
        "# This will be printed in the js console of your browser\n",
        "print('Hello world!')\n",
        "\n",
        "# This will be printed in the container div on the output below\n",
        "doc[\"my_container\"] <= html.P(\"This text is inside the div\", \n",
        "                              style = {\"backgroundColor\": \"cyan\"})\n",
        "</script>\n",
        "<script type=\"text/javascript\">brython({debug:1, ipy_id: [\"706270\"]});</script>\n",
        "<div id=\"my_container\"></div>"
       ],
       "metadata": {},
       "output_type": "display_data",
       "text": [
        "<IPython.core.display.HTML at 0x7f03402ada10>"
       ]
      },
      {
       "output_type": "stream",
       "stream": "stdout",
       "text": [
        "<script id=\"706270\" type=\"text/python\">\n",
        "from browser import doc, html\n",
        "\n",
        "# This will be printed in the js console of your browser\n",
        "print('Hello world!')\n",
        "\n",
        "# This will be printed in the container div on the output below\n",
        "doc[\"my_container\"] <= html.P(\"This text is inside the div\", \n",
        "                              style = {\"backgroundColor\": \"cyan\"})\n",
        "</script>\n",
        "<script type=\"text/javascript\">brython({debug:1, ipy_id: [\"706270\"]});</script>\n",
        "<div id=\"my_container\"></div>\n"
       ]
      }
     ],
     "prompt_number": 28
    },
    {
     "cell_type": "heading",
     "level": 3,
     "metadata": {},
     "source": [
      "`-i, --input` option"
     ]
    },
    {
     "cell_type": "markdown",
     "metadata": {},
     "source": [
      "In this example you can see how the data are passed to brython from python using the `-i` or `--input` option. First, we create some data in a regular Python cell."
     ]
    },
    {
     "cell_type": "code",
     "collapsed": false,
     "input": [
      "data_list = [1,2,3,4]\n",
      "\n",
      "data_tuple = (1,2,3,4)\n",
      "\n",
      "data_dict = {'one': 1, 'two': 2}\n",
      "\n",
      "data_str = \"\"\"\n",
      "Hello\n",
      "GoodBye\n",
      "\"\"\"\n",
      "\n",
      "# A numpy array can be converted to a list and you will obtain a brython list\n",
      "import numpy as np\n",
      "data_arr = np.empty((3,2))\n",
      "data_arr = data_arr.tolist()"
     ],
     "language": "python",
     "metadata": {},
     "outputs": [],
     "prompt_number": 29
    },
    {
     "cell_type": "markdown",
     "metadata": {},
     "source": [
      "And now, the created data are passed to Brython and used in the Brython code cell. **Remember that only Python lists, tuples, dicts and strings are allowed as inputs**."
     ]
    },
    {
     "cell_type": "code",
     "collapsed": false,
     "input": [
      "%%brython -c p2b_data_example -i data_list,data_tuple,data_dict,data_str,data_arr\n",
      "from browser import doc, html\n",
      "\n",
      "doc[\"p2b_data_example\"] <= html.P(str(data_list))\n",
      "doc[\"p2b_data_example\"] <= html.P(str(type(data_list)))\n",
      "\n",
      "doc[\"p2b_data_example\"] <= html.P(str(data_tuple))\n",
      "doc[\"p2b_data_example\"] <= html.P(str(type(data_tuple)))\n",
      "\n",
      "doc[\"p2b_data_example\"] <= html.P(str(data_dict))\n",
      "doc[\"p2b_data_example\"] <= html.P(str(type(data_dict)))\n",
      "\n",
      "doc[\"p2b_data_example\"] <= html.P(data_str.replace('Hello', 'Hi'))\n",
      "doc[\"p2b_data_example\"] <= html.P(str(type(data_str)))\n",
      "\n",
      "doc[\"p2b_data_example\"] <= html.P(str(data_arr))\n",
      "doc[\"p2b_data_example\"] <= html.P(str(type(data_arr)))"
     ],
     "language": "python",
     "metadata": {},
     "outputs": [
      {
       "html": [
        "<script id=\"676368\" type=\"text/python\">\n",
        "## Variables defined in the Python namespace\n",
        "data_arr = [[6.89972952048454e-310, 6.89972952048454e-310], [2.578335e-317, 2.5e-323], [0.0, 0.0]]\n",
        "data_str = \"\\nHello\\nGoodBye\\n\"\n",
        "data_tuple = tuple([1, 2, 3, 4])\n",
        "data_dict = {\"two\": 2, \"one\": 1}\n",
        "data_list = [1, 2, 3, 4]\n",
        "## End of variables defined in the IPython namespace\n",
        "\n",
        "from browser import doc, html\n",
        "\n",
        "doc[\"p2b_data_example\"] <= html.P(str(data_list))\n",
        "doc[\"p2b_data_example\"] <= html.P(str(type(data_list)))\n",
        "\n",
        "doc[\"p2b_data_example\"] <= html.P(str(data_tuple))\n",
        "doc[\"p2b_data_example\"] <= html.P(str(type(data_tuple)))\n",
        "\n",
        "doc[\"p2b_data_example\"] <= html.P(str(data_dict))\n",
        "doc[\"p2b_data_example\"] <= html.P(str(type(data_dict)))\n",
        "\n",
        "doc[\"p2b_data_example\"] <= html.P(data_str.replace('Hello', 'Hi'))\n",
        "doc[\"p2b_data_example\"] <= html.P(str(type(data_str)))\n",
        "\n",
        "doc[\"p2b_data_example\"] <= html.P(str(data_arr))\n",
        "doc[\"p2b_data_example\"] <= html.P(str(type(data_arr)))\n",
        "</script>\n",
        "<script type=\"text/javascript\">brython({debug:1, ipy_id: [\"676368\"]});</script>\n",
        "<div id=\"p2b_data_example\"></div>"
       ],
       "metadata": {},
       "output_type": "display_data",
       "text": [
        "<IPython.core.display.HTML at 0x7f032631e690>"
       ]
      }
     ],
     "prompt_number": 30
    },
    {
     "cell_type": "heading",
     "level": 3,
     "metadata": {},
     "source": [
      "`-h, --html` option"
     ]
    },
    {
     "cell_type": "markdown",
     "metadata": {},
     "source": [
      "In this example you can see how to create some HTML code in a cell and then use that HTML code in the brython cell. In this way you do not need to create the HTML code via scripting with Brython."
     ]
    },
    {
     "cell_type": "code",
     "collapsed": false,
     "input": [
      "html = \"\"\"\n",
      "<div id=\"paragraph\">Hi</div>\n",
      "\"\"\""
     ],
     "language": "python",
     "metadata": {},
     "outputs": [],
     "prompt_number": 31
    },
    {
     "cell_type": "code",
     "collapsed": false,
     "input": [
      "%%brython -c html_ex -h html\n",
      "from browser import doc\n",
      "\n",
      "doc[\"paragraph\"].style = {\"color\": \"yellow\",\n",
      "                          \"fontSize\": \"100px\",\n",
      "                          \"lineHeight\": \"150px\",\n",
      "                          \"textAlign\": \"center\",\n",
      "                          \"backgroundColor\": \"black\"}"
     ],
     "language": "python",
     "metadata": {},
     "outputs": [
      {
       "html": [
        "<script id=\"263577\" type=\"text/python\">\n",
        "from browser import doc\n",
        "\n",
        "doc[\"paragraph\"].style = {\"color\": \"yellow\",\n",
        "                          \"fontSize\": \"100px\",\n",
        "                          \"lineHeight\": \"150px\",\n",
        "                          \"textAlign\": \"center\",\n",
        "                          \"backgroundColor\": \"black\"}\n",
        "</script>\n",
        "<script type=\"text/javascript\">brython({debug:1, ipy_id: [\"263577\"]});</script>\n",
        "<div id=\"html_ex\">\n",
        "<div id=\"paragraph\">Hi</div>\n",
        "</div>"
       ],
       "metadata": {},
       "output_type": "display_data",
       "text": [
        "<IPython.core.display.HTML at 0x7f03433356d0>"
       ]
      }
     ],
     "prompt_number": 32
    },
    {
     "cell_type": "heading",
     "level": 3,
     "metadata": {},
     "source": [
      "`-s, --script` option"
     ]
    },
    {
     "cell_type": "markdown",
     "metadata": {},
     "source": [
      "With this option you are creating a reference of the code in the Brython cell (e.g., an `id` of the HTML `script` tag created to run the Brython code). So, if you need to use the code of the Brython cell in a future Brython cell you could reference it by its `id`. Let's see this on an example (the `-p` option is used to show you the generated code and how the `id` of the `script` tag is created):"
     ]
    },
    {
     "cell_type": "code",
     "collapsed": false,
     "input": [
      "%%brython -s my_dummy_function -p\n",
      "def dummy_function(some_text):\n",
      "    print(some_text)"
     ],
     "language": "python",
     "metadata": {},
     "outputs": [
      {
       "html": [
        "<script id=\"my_dummy_function\" type=\"text/python\">\n",
        "def dummy_function(some_text):\n",
        "    print(some_text)\n",
        "</script>\n",
        "<script type=\"text/javascript\">brython({debug:1, ipy_id: [\"my_dummy_function\"]});</script>\n",
        "<div id=\"brython_container_80013\"></div>"
       ],
       "metadata": {},
       "output_type": "display_data",
       "text": [
        "<IPython.core.display.HTML at 0x7f0340067fd0>"
       ]
      },
      {
       "output_type": "stream",
       "stream": "stdout",
       "text": [
        "<script id=\"my_dummy_function\" type=\"text/python\">\n",
        "def dummy_function(some_text):\n",
        "    print(some_text)\n",
        "</script>\n",
        "<script type=\"text/javascript\">brython({debug:1, ipy_id: [\"my_dummy_function\"]});</script>\n",
        "<div id=\"brython_container_80013\"></div>\n"
       ]
      }
     ],
     "prompt_number": 34
    },
    {
     "cell_type": "heading",
     "level": 3,
     "metadata": {},
     "source": [
      "`-S, --scripts` option"
     ]
    },
    {
     "cell_type": "markdown",
     "metadata": {},
     "source": [
      "Finally, this option could be used to call code created in a previous Brython code cell using its `id` (see the `-s` option above). In the following code cell we will use the `dummy_function` created in another Brython code cell. The `dummy_function` was created in a `script` tag with an `id=\"my_dummy_function\"`.\n",
      "\n",
      "[HINT] The result of the Brython code cell below is shown in the javascript console of your browser."
     ]
    },
    {
     "cell_type": "code",
     "collapsed": false,
     "input": [
      "%%brython -S my_dummy_function\n",
      "dummy_function('Hi')"
     ],
     "language": "python",
     "metadata": {},
     "outputs": [
      {
       "html": [
        "<script id=\"708827\" type=\"text/python\">\n",
        "dummy_function('Hi')\n",
        "</script>\n",
        "<script type=\"text/javascript\">brython({debug:1, ipy_id: [\"my_dummy_function\", \"708827\"]});</script>\n",
        "<div id=\"brython_container_708827\"></div>"
       ],
       "metadata": {},
       "output_type": "display_data",
       "text": [
        "<IPython.core.display.HTML at 0x7f0343335d90>"
       ]
      }
     ],
     "prompt_number": 36
    },
    {
     "cell_type": "heading",
     "level": 1,
     "metadata": {},
     "source": [
      "How to use Brython in the IPython notebook"
     ]
    },
    {
     "cell_type": "markdown",
     "metadata": {},
     "source": [
      "First step should be to learn the brython documentation. You can find the docs here:\n",
      "\n",
      "http://brython.info/doc/en/index.html?lang=en\n",
      "\n",
      "In the following section I will show you some dummy examples."
     ]
    },
    {
     "cell_type": "heading",
     "level": 2,
     "metadata": {},
     "source": [
      "Hello world example"
     ]
    },
    {
     "cell_type": "markdown",
     "metadata": {},
     "source": [
      "In this example let's see how to pop up an alert window. This could be an standard 'Hello world!' example in the Brython world."
     ]
    },
    {
     "cell_type": "code",
     "collapsed": false,
     "input": [
      "%%brython\n",
      "from browser import alert\n",
      "\n",
      "alert('Hello world!, Welcome to the brythonmagic!')"
     ],
     "language": "python",
     "metadata": {},
     "outputs": [
      {
       "html": [
        "<script id=\"546618\" type=\"text/python\">\n",
        "from browser import alert\n",
        "\n",
        "alert('Hello world!, Welcome to the brythonmagic!')\n",
        "</script>\n",
        "<script type=\"text/javascript\">brython({debug:1, ipy_id: [\"546618\"]});</script>\n",
        "<div id=\"brython_container_546618\"></div>"
       ],
       "metadata": {},
       "output_type": "display_data",
       "text": [
        "<IPython.core.display.HTML at 0x7f0343335710>"
       ]
      }
     ],
     "prompt_number": 37
    },
    {
     "cell_type": "heading",
     "level": 2,
     "metadata": {},
     "source": [
      "Simple example, writing some numbers in the `div` container"
     ]
    },
    {
     "cell_type": "markdown",
     "metadata": {},
     "source": [
      "In this example we just write inside a `<div>` ten numbers using a `<P>` tag for each number.\n",
      "\n",
      "[HINT] To see the line numbers in the code cell just go to the cell and press **`<CTRL>-m`** and then **`l`**.\n",
      "\n",
      "* Line 2: We import the libraries to use\n",
      "* Line 4: A for loop :-P\n",
      "* Line 10: We create a `P` tag and write the value of `i` inside. Finally, add the `P` element to the selected `div`, in this case the `div` with \"simple_example\" `id` attribute."
     ]
    },
    {
     "cell_type": "code",
     "collapsed": false,
     "input": [
      "%%brython -c simple_example\n",
      "from browser import doc, html\n",
      "\n",
      "for i in range(10):\n",
      "    doc[\"simple_example\"] <= html.P(i)"
     ],
     "language": "python",
     "metadata": {},
     "outputs": [
      {
       "html": [
        "<script id=\"153963\" type=\"text/python\">\n",
        "from browser import doc, html\n",
        "\n",
        "for i in range(10):\n",
        "    doc[\"simple_example\"] <= html.P(i)\n",
        "</script>\n",
        "<script type=\"text/javascript\">brython({debug:1, ipy_id: [\"153963\"]});</script>\n",
        "<div id=\"simple_example\"></div>"
       ],
       "metadata": {},
       "output_type": "display_data",
       "text": [
        "<IPython.core.display.HTML at 0x7f0343335ed0>"
       ]
      }
     ],
     "prompt_number": 38
    },
    {
     "cell_type": "heading",
     "level": 2,
     "metadata": {},
     "source": [
      "A more useful example: A multiplication table"
     ]
    },
    {
     "cell_type": "markdown",
     "metadata": {},
     "source": [
      "In the following cell we create a multiplication table. First, we create a `table` tag. We append the table rows and cells (`TR` and `TD` tags) and, finally, we append the final table to the `div` with \"table\" `id` attribute."
     ]
    },
    {
     "cell_type": "code",
     "collapsed": false,
     "input": [
      "%%brython -c table\n",
      "from browser import doc, html\n",
      "\n",
      "table = html.TABLE()\n",
      "\n",
      "for i in range(10):\n",
      "    color = ['cyan','#dddddd'] * 5\n",
      "    table <= html.TR(\n",
      "                     html.TD(str(i+1) + ' x 2 =', style = {'backgroundColor':color[i]}) + \n",
      "                     html.TD((i+1)*2, style = {'backgroundColor':color[i]}))\n",
      "doc['table'] <= table"
     ],
     "language": "python",
     "metadata": {},
     "outputs": [
      {
       "html": [
        "<script id=\"371027\" type=\"text/python\">\n",
        "from browser import doc, html\n",
        "\n",
        "table = html.TABLE()\n",
        "\n",
        "for i in range(10):\n",
        "    color = ['cyan','#dddddd'] * 5\n",
        "    table <= html.TR(\n",
        "                     html.TD(str(i+1) + ' x 2 =', style = {'backgroundColor':color[i]}) + \n",
        "                     html.TD((i+1)*2, style = {'backgroundColor':color[i]}))\n",
        "doc['table'] <= table\n",
        "</script>\n",
        "<script type=\"text/javascript\">brython({debug:1, ipy_id: [\"371027\"]});</script>\n",
        "<div id=\"table\"></div>"
       ],
       "metadata": {},
       "output_type": "display_data",
       "text": [
        "<IPython.core.display.HTML at 0x7f0340067fd0>"
       ]
      }
     ],
     "prompt_number": 39
    },
    {
     "cell_type": "heading",
     "level": 2,
     "metadata": {},
     "source": [
      "Let's add some animation using HTML5 canvas technology..."
     ]
    },
    {
     "cell_type": "markdown",
     "metadata": {},
     "source": [
      "In the following example we draw a shape using the HTML5 `canvas`. Also, we add some controls to stop and animate the shape. The example has been adapted from the javascript example available [here](http://www.paulirish.com/2011/requestanimationframe-for-smart-animating/)."
     ]
    },
    {
     "cell_type": "code",
     "collapsed": false,
     "input": [
      "%%brython -c canvas_example\n",
      "from browser.timer import request_animation_frame as raf\n",
      "from browser.timer import cancel_animation_frame as caf\n",
      "from browser import doc, html\n",
      "from time import time\n",
      "import math\n",
      "\n",
      "# First we create a table to insert the elements\n",
      "table = html.TABLE(cellpadding = 10)\n",
      "btn_anim = html.BUTTON('Animate', Id=\"btn-anim\", type=\"button\")\n",
      "btn_stop = html.BUTTON('Stop', Id=\"btn-stop\", type=\"button\")\n",
      "cnvs = html.CANVAS(Id=\"raf-canvas\", width=256, height=256)\n",
      "\n",
      "table <= html.TR(html.TD(btn_anim + btn_stop) +\n",
      "                 html.TD(cnvs))\n",
      "\n",
      "doc['canvas_example'] <= table\n",
      "# Now we access the canvas context\n",
      "ctx = doc['raf-canvas'].getContext( '2d' ) \n",
      "\n",
      "# And we create several functions in charge to animate and stop the draw animation\n",
      "toggle = True\n",
      "\n",
      "def draw():\n",
      "    t = time() * 3\n",
      "    x = math.sin(t) * 96 + 128\n",
      "    y = math.cos(t * 0.9) * 96 + 128\n",
      "    global toggle\n",
      "    if toggle:\n",
      "        toggle = False\n",
      "    else:\n",
      "        toggle = True\n",
      "    ctx.fillStyle = 'rgb(200,200,20)' if toggle else 'rgb(20,20,200)'\n",
      "    ctx.beginPath()\n",
      "    ctx.arc( x, y, 6, 0, math.pi * 2, True)\n",
      "    ctx.closePath()\n",
      "    ctx.fill()\n",
      "\n",
      "def animate(i):\n",
      "    global id\n",
      "    id = raf(animate)\n",
      "    draw()\n",
      "\n",
      "def stop(i):\n",
      "    print(id)\n",
      "    caf(id)\n",
      "\n",
      "doc[\"btn-anim\"].bind(\"click\", animate)\n",
      "doc[\"btn-stop\"].bind(\"click\", stop)"
     ],
     "language": "python",
     "metadata": {},
     "outputs": [
      {
       "html": [
        "<script id=\"979346\" type=\"text/python\">\n",
        "from browser.timer import request_animation_frame as raf\n",
        "from browser.timer import cancel_animation_frame as caf\n",
        "from browser import doc, html\n",
        "from time import time\n",
        "import math\n",
        "\n",
        "# First we create a table to insert the elements\n",
        "table = html.TABLE(cellpadding = 10)\n",
        "btn_anim = html.BUTTON('Animate', Id=\"btn-anim\", type=\"button\")\n",
        "btn_stop = html.BUTTON('Stop', Id=\"btn-stop\", type=\"button\")\n",
        "cnvs = html.CANVAS(Id=\"raf-canvas\", width=256, height=256)\n",
        "\n",
        "table <= html.TR(html.TD(btn_anim + btn_stop) +\n",
        "                 html.TD(cnvs))\n",
        "\n",
        "doc['canvas_example'] <= table\n",
        "# Now we access the canvas context\n",
        "ctx = doc['raf-canvas'].getContext( '2d' ) \n",
        "\n",
        "# And we create several functions in charge to animate and stop the draw animation\n",
        "toggle = True\n",
        "\n",
        "def draw():\n",
        "    t = time() * 3\n",
        "    x = math.sin(t) * 96 + 128\n",
        "    y = math.cos(t * 0.9) * 96 + 128\n",
        "    global toggle\n",
        "    if toggle:\n",
        "        toggle = False\n",
        "    else:\n",
        "        toggle = True\n",
        "    ctx.fillStyle = 'rgb(200,200,20)' if toggle else 'rgb(20,20,200)'\n",
        "    ctx.beginPath()\n",
        "    ctx.arc( x, y, 6, 0, math.pi * 2, True)\n",
        "    ctx.closePath()\n",
        "    ctx.fill()\n",
        "\n",
        "def animate(i):\n",
        "    global id\n",
        "    id = raf(animate)\n",
        "    draw()\n",
        "\n",
        "def stop(i):\n",
        "    print(id)\n",
        "    caf(id)\n",
        "\n",
        "doc[\"btn-anim\"].bind(\"click\", animate)\n",
        "doc[\"btn-stop\"].bind(\"click\", stop)\n",
        "</script>\n",
        "<script type=\"text/javascript\">brython({debug:1, ipy_id: [\"979346\"]});</script>\n",
        "<div id=\"canvas_example\"></div>"
       ],
       "metadata": {},
       "output_type": "display_data",
       "text": [
        "<IPython.core.display.HTML at 0x7f03402ad450>"
       ]
      }
     ],
     "prompt_number": 40
    },
    {
     "cell_type": "heading",
     "level": 2,
     "metadata": {},
     "source": [
      "Interaction with other javascript libraries: D3.js"
     ]
    },
    {
     "cell_type": "markdown",
     "metadata": {},
     "source": [
      "In Brython there is a javascript library that allows to access objects available in the javascript namespace. In this example we are using a javascript object (D3.js library) from Brython.\n",
      "\n",
      "So, in order to allow Brython to access to D3 first you should load the D3 library."
     ]
    },
    {
     "cell_type": "code",
     "collapsed": false,
     "input": [
      "%%HTML\n",
      "<script type=\"text/javascript\" src=\"http://d3js.org/d3.v2.js\"></script>"
     ],
     "language": "python",
     "metadata": {},
     "outputs": [
      {
       "html": [
        "<script type=\"text/javascript\" src=\"http://d3js.org/d3.v2.js\"></script>"
       ],
       "metadata": {},
       "output_type": "display_data",
       "text": [
        "<IPython.core.display.HTML at 0x7f0343335cd0>"
       ]
      }
     ],
     "prompt_number": 41
    },
    {
     "cell_type": "markdown",
     "metadata": {},
     "source": [
      "Now, we can access D3 objects using `JSObject` (see example below)."
     ]
    },
    {
     "cell_type": "code",
     "collapsed": false,
     "input": [
      "%%brython -c simple_d3\n",
      "from browser import win, doc, html\n",
      "from javascript import JSObject\n",
      "\n",
      "container = JSObject(d3.select(\"#simple_d3\"))\n",
      "svg = container.append(\"svg\").attr(\"width\", 100).attr(\"height\", 100)\n",
      "circle1 = svg.append(\"circle\").style(\"stroke\", \"gray\").style(\"fill\", \"gray\").attr(\"r\", 40)\n",
      "circle1.attr(\"cx\", 50).attr(\"cy\", 50).attr(\"id\", \"mycircle\")\n",
      "\n",
      "circle2 = svg.append(\"circle\").style(\"stroke\", \"gray\").style(\"fill\", \"white\").attr(\"r\", 20)\n",
      "circle2.attr(\"cx\", 50).attr(\"cy\", 50)\n",
      "\n",
      "def over(ev):\n",
      "    doc[\"mycircle\"].style.fill = \"blue\"\n",
      "\n",
      "def out(ev):\n",
      "    doc[\"mycircle\"].style.fill = \"gray\"\n",
      "\n",
      "doc[\"mycircle\"].bind(\"mouseover\", over)\n",
      "doc[\"mycircle\"].bind(\"mouseout\", out)\n",
      "\n",
      "#circle.on(\"mouseover\", over) #THIS DOESN'T WORK\n",
      "#circle.on(\"mouseout\", out)   #THIS DOESN'T WORK"
     ],
     "language": "python",
     "metadata": {},
     "outputs": [
      {
       "html": [
        "<script id=\"48989\" type=\"text/python\">\n",
        "from browser import win, doc, html\n",
        "from javascript import JSObject\n",
        "\n",
        "container = JSObject(d3.select(\"#simple_d3\"))\n",
        "svg = container.append(\"svg\").attr(\"width\", 100).attr(\"height\", 100)\n",
        "circle1 = svg.append(\"circle\").style(\"stroke\", \"gray\").style(\"fill\", \"gray\").attr(\"r\", 40)\n",
        "circle1.attr(\"cx\", 50).attr(\"cy\", 50).attr(\"id\", \"mycircle\")\n",
        "\n",
        "circle2 = svg.append(\"circle\").style(\"stroke\", \"gray\").style(\"fill\", \"white\").attr(\"r\", 20)\n",
        "circle2.attr(\"cx\", 50).attr(\"cy\", 50)\n",
        "\n",
        "def over(ev):\n",
        "    doc[\"mycircle\"].style.fill = \"blue\"\n",
        "\n",
        "def out(ev):\n",
        "    doc[\"mycircle\"].style.fill = \"gray\"\n",
        "\n",
        "doc[\"mycircle\"].bind(\"mouseover\", over)\n",
        "doc[\"mycircle\"].bind(\"mouseout\", out)\n",
        "\n",
        "#circle.on(\"mouseover\", over) #THIS DOESN'T WORK\n",
        "#circle.on(\"mouseout\", out)   #THIS DOESN'T WORK\n",
        "</script>\n",
        "<script type=\"text/javascript\">brython({debug:1, ipy_id: [\"48989\"]});</script>\n",
        "<div id=\"simple_d3\"></div>"
       ],
       "metadata": {},
       "output_type": "display_data",
       "text": [
        "<IPython.core.display.HTML at 0x7f03402ad610>"
       ]
      }
     ],
     "prompt_number": 42
    },
    {
     "cell_type": "heading",
     "level": 2,
     "metadata": {},
     "source": [
      "Manipulating the IPython notebook"
     ]
    },
    {
     "cell_type": "markdown",
     "metadata": {},
     "source": [
      "An example to hide or show the code cells using a button."
     ]
    },
    {
     "cell_type": "code",
     "collapsed": false,
     "input": [
      "%%brython -c manipulating\n",
      "from browser import doc, html\n",
      "\n",
      "def hide(ev):\n",
      "    divs = doc.get(selector = 'div.input')\n",
      "    for div in divs:\n",
      "        div.style.display = \"none\"\n",
      "\n",
      "def show(ev):\n",
      "    divs = doc.get(selector = 'div.input')\n",
      "    for div in divs:\n",
      "        div.style.display = \"inherit\"\n",
      "\n",
      "doc[\"manipulating\"] <= html.BUTTON('Hide code cells', Id=\"btn-hide\")\n",
      "doc[\"btn-hide\"].bind(\"click\", hide)\n",
      "\n",
      "doc[\"manipulating\"] <= html.BUTTON('Show code cells', Id=\"btn-show\")\n",
      "doc[\"btn-show\"].bind(\"click\", show)"
     ],
     "language": "python",
     "metadata": {},
     "outputs": [
      {
       "html": [
        "<script id=\"112216\" type=\"text/python\">\n",
        "from browser import doc, html\n",
        "\n",
        "def hide(ev):\n",
        "    divs = doc.get(selector = 'div.input')\n",
        "    for div in divs:\n",
        "        div.style.display = \"none\"\n",
        "\n",
        "def show(ev):\n",
        "    divs = doc.get(selector = 'div.input')\n",
        "    for div in divs:\n",
        "        div.style.display = \"inherit\"\n",
        "\n",
        "doc[\"manipulating\"] <= html.BUTTON('Hide code cells', Id=\"btn-hide\")\n",
        "doc[\"btn-hide\"].bind(\"click\", hide)\n",
        "\n",
        "doc[\"manipulating\"] <= html.BUTTON('Show code cells', Id=\"btn-show\")\n",
        "doc[\"btn-show\"].bind(\"click\", show)\n",
        "</script>\n",
        "<script type=\"text/javascript\">brython({debug:1, ipy_id: [\"112216\"]});</script>\n",
        "<div id=\"manipulating\"></div>"
       ],
       "metadata": {},
       "output_type": "display_data",
       "text": [
        "<IPython.core.display.HTML at 0x7f034333f4d0>"
       ]
      }
     ],
     "prompt_number": 43
    },
    {
     "cell_type": "heading",
     "level": 2,
     "metadata": {},
     "source": [
      "A more complete d3 example calculating things in Python and drawing results in Brython using D3.js"
     ]
    },
    {
     "cell_type": "markdown",
     "metadata": {},
     "source": [
      "A more complete D3 example. In this case, first we create some data in Python."
     ]
    },
    {
     "cell_type": "code",
     "collapsed": false,
     "input": [
      "from random import randint\n",
      "\n",
      "n = 500\n",
      "x = [randint(0,800) for i in range(n)]\n",
      "y = [randint(0,600) for i in range(n)]\n",
      "r = [randint(20,30) for i in range(n)]\n",
      "red = [randint(0,255) for i in range(n)]\n",
      "green = [randint(0,255) for i in range(n)]\n",
      "blue = [randint(0,255) for i in range(n)]"
     ],
     "language": "python",
     "metadata": {},
     "outputs": [],
     "prompt_number": 44
    },
    {
     "cell_type": "markdown",
     "metadata": {},
     "source": [
      "And now, the data is passed to Brython to be used in a D3 plot. In this case, the D3.js library is already loaded so it is not necessary to load it."
     ]
    },
    {
     "cell_type": "code",
     "collapsed": false,
     "input": [
      "%%brython -c other_d3 -i x,y,r,red,green,blue\n",
      "from browser import win, doc, html\n",
      "from javascript import JSObject\n",
      "\n",
      "WIDTH = 800\n",
      "HEIGHT = 600\n",
      "\n",
      "container = JSObject(d3.select(\"#other_d3\"))\n",
      "svg = container.append(\"svg\").attr(\"width\", WIDTH).attr(\"height\", HEIGHT)\n",
      "\n",
      "class AddShapes:\n",
      "    def __init__(self, x, y, r, red, green, blue, shape = \"circle\", interactive = True):\n",
      "        self.shape = shape\n",
      "        self.interactive = interactive\n",
      "        self._color = \"gray\"\n",
      "        self.add(x, y, r, red, green, blue)\n",
      "\n",
      "    def over(self, ev):\n",
      "        self._color = ev.target.style.fill\n",
      "        doc[ev.target.id].style.fill = \"white\"\n",
      "        \n",
      "    def out(self, ev):\n",
      "        doc[ev.target.id].style.fill = self._color\n",
      "    \n",
      "    def add(self, x, y, r, red, green, blue):\n",
      "        for i in range(len(x)):\n",
      "            self.idx = self.shape + '_' + str(i) \n",
      "            self._color = \"rgb(%s,%s,%s)\" % (red[i], green[i], blue[i])\n",
      "            shaped = svg.append(self.shape).style(\"stroke\", \"gray\").style(\"fill\", self._color).attr(\"r\", r[i])\n",
      "            shaped.attr(\"cx\", x[i]).attr(\"cy\", y[i]).attr(\"id\", self.idx)\n",
      "            if self.interactive:\n",
      "                doc[self.idx].bind(\"mouseover\", self.over)\n",
      "                doc[self.idx].bind(\"mouseout\", self.out)\n",
      "\n",
      "plot = AddShapes(x, y, r, red, green, blue, interactive = True)"
     ],
     "language": "python",
     "metadata": {},
     "outputs": [
      {
       "html": [
        "<script id=\"677822\" type=\"text/python\">\n",
        "## Variables defined in the Python namespace\n",
        "blue = [118, 161, 119, 49, 106, 178, 149, 163, 58, 225, 160, 145, 12, 18, 89, 149, 184, 114, 245, 204, 62, 125, 231, 254, 222, 154, 103, 212, 46, 204, 236, 109, 97, 104, 94, 88, 169, 234, 17, 108, 135, 42, 162, 172, 124, 48, 144, 122, 247, 150, 44, 35, 6, 158, 98, 76, 156, 16, 10, 211, 154, 70, 167, 145, 139, 227, 152, 37, 222, 197, 152, 184, 121, 9, 47, 59, 141, 219, 209, 134, 199, 114, 16, 188, 55, 239, 140, 52, 175, 12, 115, 149, 195, 197, 154, 26, 51, 121, 102, 189, 98, 61, 31, 103, 73, 87, 53, 71, 71, 68, 114, 109, 11, 114, 27, 179, 67, 140, 159, 52, 201, 191, 170, 80, 228, 106, 125, 15, 178, 145, 233, 134, 157, 192, 76, 98, 156, 214, 158, 150, 73, 5, 50, 53, 26, 163, 176, 198, 207, 44, 57, 83, 1, 143, 137, 244, 10, 21, 39, 236, 142, 81, 207, 161, 137, 109, 255, 228, 47, 103, 29, 78, 155, 174, 155, 38, 255, 62, 220, 128, 210, 119, 76, 254, 71, 238, 227, 78, 31, 67, 2, 64, 222, 105, 148, 124, 177, 88, 201, 66, 54, 215, 72, 4, 141, 21, 227, 75, 211, 208, 129, 43, 11, 216, 165, 218, 51, 141, 215, 116, 154, 25, 189, 134, 194, 247, 112, 144, 160, 112, 192, 215, 37, 99, 253, 222, 2, 250, 207, 156, 170, 48, 7, 246, 251, 85, 40, 145, 207, 80, 148, 92, 250, 182, 236, 122, 237, 185, 65, 250, 124, 36, 186, 182, 130, 100, 172, 50, 157, 29, 187, 8, 76, 27, 105, 5, 91, 66, 47, 195, 6, 223, 185, 80, 2, 53, 151, 168, 90, 182, 239, 230, 199, 82, 63, 64, 115, 26, 82, 238, 45, 60, 223, 88, 191, 253, 231, 149, 83, 219, 54, 72, 35, 51, 183, 110, 82, 153, 87, 76, 104, 165, 148, 244, 50, 121, 137, 171, 209, 66, 175, 177, 107, 131, 42, 131, 115, 247, 211, 137, 152, 93, 163, 54, 168, 222, 65, 221, 102, 183, 166, 248, 76, 23, 207, 165, 7, 7, 36, 113, 16, 106, 165, 194, 77, 188, 234, 110, 13, 143, 145, 10, 249, 133, 26, 198, 123, 24, 112, 218, 17, 34, 192, 204, 97, 184, 187, 180, 85, 244, 30, 220, 86, 161, 105, 230, 167, 219, 209, 130, 172, 39, 181, 219, 79, 65, 86, 245, 178, 17, 52, 8, 198, 42, 234, 188, 72, 16, 204, 87, 249, 162, 44, 95, 180, 219, 254, 214, 63, 34, 143, 255, 36, 95, 132, 184, 16, 204, 238, 146, 179, 14, 247, 171, 79, 78, 185, 74, 198, 232, 212, 176, 164, 190, 8, 26, 18, 110, 184, 243, 207, 74, 238, 160, 83, 222, 98, 30, 136, 228, 140, 127, 0, 3, 145, 29, 88, 140, 103, 139, 255, 51, 110, 120, 141, 147, 164, 250, 44, 169, 1, 110, 104, 143, 38, 107, 82, 39, 177, 134]\n",
        "y = [63, 331, 467, 157, 338, 587, 15, 40, 416, 354, 354, 118, 536, 28, 273, 377, 430, 378, 200, 122, 156, 533, 536, 73, 533, 569, 598, 232, 376, 69, 474, 587, 181, 58, 354, 389, 269, 308, 557, 287, 80, 379, 353, 118, 140, 280, 131, 6, 3, 462, 542, 86, 309, 53, 553, 136, 231, 361, 377, 528, 533, 313, 181, 303, 333, 143, 228, 401, 164, 446, 40, 577, 121, 529, 382, 561, 332, 101, 131, 119, 120, 65, 405, 354, 376, 254, 146, 324, 272, 243, 541, 168, 549, 411, 67, 364, 184, 400, 74, 166, 314, 570, 184, 523, 561, 214, 325, 168, 586, 576, 575, 42, 264, 231, 89, 219, 265, 569, 42, 339, 512, 55, 333, 226, 385, 505, 172, 593, 380, 578, 224, 323, 314, 284, 491, 223, 551, 316, 457, 350, 164, 63, 442, 349, 64, 292, 348, 574, 38, 156, 512, 64, 465, 184, 100, 290, 516, 497, 74, 298, 370, 254, 143, 1, 220, 24, 353, 465, 514, 112, 545, 363, 598, 371, 210, 223, 314, 246, 359, 116, 140, 174, 22, 292, 301, 212, 218, 451, 408, 0, 542, 338, 507, 41, 174, 283, 200, 477, 317, 238, 92, 88, 396, 542, 15, 302, 334, 211, 471, 502, 401, 412, 95, 316, 195, 508, 552, 433, 487, 223, 27, 475, 467, 266, 563, 233, 238, 94, 478, 387, 395, 283, 350, 394, 288, 27, 405, 248, 452, 149, 67, 42, 266, 540, 175, 23, 362, 186, 41, 341, 516, 6, 65, 388, 489, 176, 101, 144, 456, 45, 236, 321, 229, 286, 248, 378, 473, 162, 162, 196, 201, 49, 272, 519, 153, 325, 102, 528, 227, 304, 520, 197, 82, 149, 127, 207, 461, 26, 283, 466, 591, 382, 460, 271, 31, 510, 147, 381, 403, 37, 459, 472, 47, 96, 58, 423, 500, 366, 483, 431, 13, 537, 37, 409, 132, 235, 451, 388, 395, 423, 139, 86, 134, 177, 464, 278, 250, 516, 326, 344, 3, 218, 576, 3, 209, 250, 213, 563, 98, 524, 103, 51, 414, 250, 417, 280, 585, 460, 482, 379, 193, 593, 459, 211, 374, 284, 33, 248, 478, 411, 394, 305, 308, 191, 256, 458, 442, 271, 165, 211, 490, 50, 446, 315, 577, 537, 506, 229, 65, 326, 331, 297, 183, 503, 17, 301, 151, 407, 240, 434, 468, 83, 511, 72, 594, 487, 153, 201, 168, 471, 472, 440, 39, 94, 175, 600, 194, 178, 278, 227, 475, 34, 452, 507, 372, 566, 502, 599, 122, 497, 97, 559, 201, 396, 498, 576, 408, 127, 364, 436, 59, 368, 64, 519, 113, 236, 482, 140, 44, 469, 114, 75, 10, 249, 511, 260, 214, 311, 62, 263, 55, 261, 333, 497, 11, 296, 97, 68, 480, 10, 594, 225, 389, 272, 49, 522, 12, 468, 108, 226, 305, 344, 476, 335, 591, 173, 52, 44, 119, 248, 74, 261, 297, 50, 444, 379, 44, 467, 325, 385, 236, 422, 325, 455, 373, 38, 67, 397, 271, 582]\n",
        "x = [788, 134, 241, 442, 298, 774, 106, 227, 320, 509, 635, 687, 796, 535, 321, 393, 165, 331, 10, 478, 714, 571, 388, 319, 170, 685, 681, 431, 686, 360, 205, 85, 332, 22, 558, 220, 176, 385, 695, 302, 97, 498, 511, 314, 115, 673, 500, 99, 173, 331, 558, 319, 221, 714, 505, 193, 677, 661, 442, 324, 571, 493, 700, 592, 107, 649, 211, 460, 570, 402, 193, 709, 607, 74, 665, 245, 524, 789, 168, 71, 459, 584, 240, 797, 252, 378, 74, 311, 45, 540, 244, 427, 623, 648, 322, 529, 223, 356, 552, 648, 518, 449, 797, 23, 175, 767, 619, 795, 421, 795, 302, 347, 34, 368, 646, 316, 279, 694, 362, 371, 108, 512, 675, 780, 161, 125, 721, 503, 697, 147, 603, 642, 66, 342, 143, 701, 320, 496, 408, 493, 133, 474, 766, 416, 365, 392, 226, 571, 540, 713, 607, 558, 275, 211, 332, 610, 83, 40, 507, 352, 625, 356, 320, 760, 794, 634, 194, 103, 296, 379, 576, 761, 119, 76, 179, 650, 52, 187, 6, 760, 493, 199, 408, 594, 94, 573, 88, 782, 585, 753, 783, 739, 786, 284, 550, 137, 532, 209, 255, 329, 291, 172, 173, 459, 670, 240, 683, 31, 725, 599, 258, 439, 140, 559, 800, 22, 447, 377, 524, 371, 126, 101, 124, 625, 238, 283, 383, 446, 495, 222, 508, 140, 285, 770, 246, 323, 212, 183, 660, 491, 585, 189, 473, 719, 631, 431, 683, 568, 451, 385, 50, 179, 536, 432, 230, 16, 739, 60, 762, 333, 150, 519, 431, 258, 31, 390, 108, 151, 779, 227, 434, 77, 143, 685, 635, 718, 216, 485, 306, 780, 300, 787, 469, 588, 331, 562, 136, 731, 3, 274, 276, 286, 594, 88, 673, 68, 27, 93, 744, 82, 630, 48, 367, 319, 730, 728, 28, 382, 473, 597, 297, 100, 26, 555, 369, 582, 220, 593, 407, 229, 33, 265, 383, 642, 629, 191, 46, 8, 627, 99, 781, 797, 568, 26, 376, 164, 663, 374, 730, 124, 391, 18, 104, 601, 393, 235, 451, 557, 270, 628, 521, 134, 159, 160, 85, 271, 242, 660, 737, 168, 164, 643, 530, 699, 700, 746, 533, 423, 513, 338, 10, 122, 760, 407, 768, 49, 430, 187, 625, 233, 265, 612, 364, 678, 103, 685, 453, 268, 104, 186, 262, 784, 206, 385, 7, 728, 578, 662, 782, 24, 743, 225, 535, 723, 642, 31, 523, 588, 429, 673, 526, 96, 301, 511, 45, 6, 704, 50, 782, 171, 211, 753, 50, 517, 373, 507, 689, 552, 119, 661, 237, 13, 155, 310, 491, 277, 756, 221, 672, 626, 592, 741, 556, 229, 711, 624, 18, 500, 769, 352, 153, 495, 298, 423, 142, 275, 628, 253, 623, 791, 298, 482, 682, 528, 792, 727, 151, 95, 353, 400, 641, 22, 444, 205, 647, 516, 578, 245, 563, 481, 364, 426, 651, 672, 469, 262, 11, 206, 655, 551, 683, 403, 726, 453, 640, 341, 129, 766, 283, 722]\n",
        "green = [202, 229, 253, 232, 176, 209, 209, 163, 29, 169, 231, 14, 122, 49, 143, 175, 181, 175, 22, 192, 234, 98, 129, 82, 126, 191, 1, 250, 74, 126, 185, 98, 123, 126, 135, 118, 190, 119, 218, 70, 225, 194, 83, 154, 71, 181, 82, 191, 60, 184, 108, 133, 249, 150, 137, 150, 90, 36, 208, 250, 232, 27, 44, 236, 185, 122, 194, 57, 173, 122, 127, 95, 34, 40, 187, 111, 10, 234, 158, 194, 159, 250, 12, 195, 200, 47, 122, 69, 181, 3, 176, 107, 17, 182, 174, 130, 128, 93, 126, 180, 163, 220, 72, 140, 235, 3, 10, 190, 9, 21, 74, 92, 237, 255, 180, 118, 187, 234, 71, 170, 204, 84, 58, 45, 68, 21, 203, 144, 7, 117, 12, 214, 193, 58, 115, 49, 65, 27, 82, 6, 4, 149, 224, 200, 64, 17, 90, 251, 227, 210, 38, 77, 146, 103, 156, 202, 5, 190, 74, 153, 198, 14, 14, 64, 166, 40, 104, 113, 38, 114, 194, 30, 14, 141, 247, 145, 28, 125, 104, 49, 6, 142, 188, 250, 109, 253, 193, 125, 133, 42, 56, 164, 136, 29, 231, 208, 168, 192, 138, 42, 116, 101, 32, 25, 56, 30, 190, 16, 57, 135, 107, 178, 90, 56, 154, 28, 233, 222, 46, 129, 198, 73, 159, 104, 238, 143, 36, 173, 206, 50, 232, 161, 73, 186, 97, 45, 232, 108, 101, 110, 29, 28, 210, 165, 86, 105, 203, 95, 232, 232, 232, 129, 40, 31, 212, 184, 224, 250, 98, 202, 96, 187, 198, 2, 161, 79, 57, 254, 236, 136, 21, 171, 195, 182, 79, 236, 141, 57, 152, 74, 249, 52, 63, 156, 179, 33, 76, 205, 114, 73, 95, 196, 207, 54, 69, 250, 143, 24, 94, 23, 185, 29, 121, 173, 78, 142, 172, 51, 157, 51, 250, 188, 234, 72, 33, 43, 237, 223, 235, 22, 30, 131, 1, 213, 200, 243, 154, 136, 137, 88, 36, 171, 96, 40, 187, 215, 180, 70, 163, 180, 95, 186, 58, 242, 247, 131, 127, 170, 201, 12, 173, 66, 82, 137, 194, 47, 34, 169, 216, 78, 14, 106, 223, 69, 221, 99, 86, 62, 210, 158, 44, 208, 140, 122, 200, 50, 251, 88, 239, 63, 72, 39, 24, 100, 199, 60, 165, 81, 190, 211, 127, 123, 213, 8, 94, 57, 172, 11, 149, 205, 95, 84, 223, 119, 118, 120, 76, 134, 211, 102, 206, 63, 26, 219, 229, 204, 190, 167, 148, 46, 141, 133, 240, 12, 58, 153, 154, 222, 133, 54, 35, 91, 109, 213, 172, 122, 228, 87, 20, 172, 186, 202, 83, 177, 243, 228, 53, 99, 200, 163, 171, 129, 77, 165, 88, 233, 33, 101, 190, 139, 36, 231, 137, 110, 41, 42, 83, 209, 95, 231, 95, 55, 115, 105, 217, 66, 53, 47, 19, 223, 178, 228, 194, 177, 251, 106, 155, 169, 116, 60, 146, 43, 232, 156, 157, 168, 218, 64, 176, 255]\n",
        "red = [247, 182, 184, 60, 112, 14, 170, 96, 185, 132, 116, 163, 230, 139, 142, 220, 86, 93, 38, 175, 132, 156, 180, 77, 25, 47, 35, 189, 177, 132, 23, 19, 236, 105, 144, 187, 55, 203, 143, 176, 202, 147, 62, 185, 85, 68, 150, 51, 110, 115, 7, 216, 150, 51, 53, 21, 110, 233, 14, 47, 105, 241, 118, 150, 43, 52, 225, 0, 125, 84, 203, 205, 141, 53, 163, 145, 68, 130, 141, 118, 36, 40, 201, 141, 207, 99, 118, 13, 32, 66, 115, 71, 178, 132, 9, 222, 108, 222, 95, 61, 236, 241, 125, 178, 246, 211, 234, 116, 46, 59, 190, 215, 134, 17, 202, 191, 212, 82, 89, 151, 52, 177, 66, 109, 201, 57, 161, 37, 238, 181, 248, 180, 121, 66, 156, 1, 199, 66, 94, 55, 35, 191, 41, 178, 160, 47, 186, 206, 245, 70, 232, 228, 89, 24, 26, 16, 206, 247, 235, 91, 236, 195, 12, 104, 40, 121, 248, 115, 239, 232, 1, 187, 16, 88, 92, 150, 54, 168, 190, 60, 252, 84, 187, 39, 0, 9, 113, 157, 79, 12, 171, 168, 217, 96, 84, 97, 82, 124, 105, 181, 85, 93, 117, 110, 107, 53, 114, 94, 151, 67, 28, 7, 95, 31, 75, 216, 15, 250, 142, 173, 123, 217, 96, 228, 51, 226, 21, 49, 162, 49, 188, 87, 50, 114, 249, 178, 90, 115, 110, 80, 226, 227, 245, 60, 68, 153, 33, 100, 105, 85, 41, 28, 190, 116, 211, 160, 236, 144, 212, 63, 106, 78, 11, 213, 124, 129, 1, 70, 5, 219, 52, 41, 163, 125, 160, 33, 196, 151, 215, 153, 50, 36, 18, 92, 62, 61, 125, 68, 56, 29, 90, 185, 123, 54, 188, 42, 1, 249, 62, 198, 178, 42, 248, 43, 150, 17, 54, 249, 61, 113, 112, 208, 200, 119, 168, 249, 221, 176, 162, 136, 111, 94, 80, 241, 86, 193, 60, 25, 141, 221, 104, 228, 66, 82, 169, 94, 81, 179, 64, 10, 246, 231, 242, 202, 48, 22, 49, 229, 47, 177, 200, 103, 91, 123, 63, 27, 208, 73, 113, 14, 9, 17, 53, 81, 131, 121, 162, 231, 32, 2, 238, 176, 18, 60, 102, 54, 157, 71, 125, 15, 69, 139, 68, 129, 120, 59, 152, 137, 122, 39, 12, 88, 225, 72, 84, 200, 14, 2, 84, 108, 78, 67, 198, 175, 188, 84, 224, 111, 162, 83, 52, 87, 79, 94, 102, 71, 175, 49, 177, 46, 43, 211, 175, 177, 60, 75, 131, 148, 188, 18, 118, 71, 31, 43, 118, 66, 87, 51, 67, 188, 47, 184, 116, 252, 184, 178, 72, 52, 86, 235, 222, 234, 127, 55, 198, 158, 203, 160, 10, 29, 94, 91, 167, 207, 92, 237, 146, 172, 183, 246, 232, 85, 34, 97, 245, 199, 73, 218, 209, 240, 40, 110, 244, 140, 209, 124, 3, 214, 224, 240, 16, 138, 121, 2, 140, 191, 84, 229, 221, 75]\n",
        "r = [20, 26, 27, 25, 25, 23, 22, 23, 23, 21, 25, 29, 29, 20, 20, 23, 23, 29, 22, 27, 23, 30, 23, 27, 30, 27, 26, 21, 22, 21, 26, 24, 30, 28, 23, 30, 22, 23, 25, 26, 30, 20, 22, 23, 26, 23, 22, 20, 24, 28, 26, 20, 27, 28, 23, 22, 21, 24, 28, 21, 30, 29, 27, 21, 29, 29, 28, 24, 24, 21, 29, 30, 27, 20, 29, 22, 29, 29, 22, 27, 27, 24, 24, 25, 26, 24, 23, 28, 22, 25, 30, 28, 20, 24, 21, 26, 25, 22, 30, 24, 24, 29, 30, 23, 20, 25, 29, 28, 30, 20, 24, 26, 20, 29, 25, 20, 20, 24, 24, 22, 28, 22, 21, 22, 29, 27, 23, 29, 22, 23, 24, 26, 25, 24, 29, 20, 30, 29, 25, 28, 20, 24, 22, 20, 26, 30, 24, 25, 25, 25, 28, 27, 24, 24, 28, 28, 21, 30, 24, 25, 21, 20, 21, 28, 29, 22, 28, 22, 24, 28, 25, 30, 23, 25, 29, 22, 21, 21, 24, 30, 27, 26, 28, 29, 22, 24, 25, 23, 20, 21, 24, 20, 26, 28, 26, 27, 30, 29, 27, 28, 24, 21, 23, 23, 22, 22, 26, 25, 25, 23, 24, 26, 28, 23, 21, 25, 30, 24, 27, 26, 27, 25, 26, 22, 30, 24, 20, 27, 21, 22, 28, 29, 26, 23, 23, 24, 29, 20, 27, 26, 28, 26, 28, 24, 21, 27, 24, 21, 26, 23, 21, 29, 27, 20, 23, 22, 26, 24, 27, 28, 30, 23, 25, 24, 30, 21, 23, 27, 26, 24, 27, 24, 29, 24, 24, 23, 26, 29, 24, 24, 24, 22, 21, 25, 24, 23, 20, 27, 26, 25, 25, 23, 25, 24, 26, 24, 27, 25, 27, 25, 27, 30, 26, 26, 22, 22, 22, 22, 25, 30, 29, 25, 29, 26, 26, 21, 26, 21, 22, 29, 21, 21, 28, 20, 23, 26, 20, 23, 23, 29, 27, 20, 23, 27, 26, 30, 22, 22, 27, 20, 30, 24, 21, 21, 22, 20, 28, 28, 23, 21, 24, 20, 20, 20, 30, 30, 21, 24, 22, 20, 25, 23, 25, 28, 28, 27, 24, 21, 25, 22, 27, 21, 29, 27, 29, 28, 29, 23, 29, 20, 29, 22, 28, 26, 28, 22, 30, 24, 24, 22, 29, 28, 25, 23, 25, 24, 23, 28, 21, 30, 24, 29, 20, 28, 27, 30, 28, 23, 23, 26, 20, 20, 23, 21, 24, 24, 29, 29, 26, 24, 23, 29, 30, 22, 21, 21, 23, 27, 28, 21, 21, 25, 22, 25, 24, 27, 25, 22, 30, 23, 23, 23, 26, 26, 24, 23, 28, 24, 27, 23, 30, 26, 24, 24, 28, 28, 25, 22, 25, 24, 20, 22, 24, 22, 26, 27, 20, 27, 28, 24, 24, 24, 25, 20, 29, 22, 20, 28, 27, 29, 28, 21, 22, 30, 27, 20, 28, 24, 25, 26, 27, 29, 26, 27, 20, 25, 24, 22, 20, 23]\n",
        "## End of variables defined in the IPython namespace\n",
        "\n",
        "from browser import win, doc, html\n",
        "from javascript import JSObject\n",
        "\n",
        "WIDTH = 800\n",
        "HEIGHT = 600\n",
        "\n",
        "container = JSObject(d3.select(\"#other_d3\"))\n",
        "svg = container.append(\"svg\").attr(\"width\", WIDTH).attr(\"height\", HEIGHT)\n",
        "\n",
        "class AddShapes:\n",
        "    def __init__(self, x, y, r, red, green, blue, shape = \"circle\", interactive = True):\n",
        "        self.shape = shape\n",
        "        self.interactive = interactive\n",
        "        self._color = \"gray\"\n",
        "        self.add(x, y, r, red, green, blue)\n",
        "\n",
        "    def over(self, ev):\n",
        "        self._color = ev.target.style.fill\n",
        "        doc[ev.target.id].style.fill = \"white\"\n",
        "        \n",
        "    def out(self, ev):\n",
        "        doc[ev.target.id].style.fill = self._color\n",
        "    \n",
        "    def add(self, x, y, r, red, green, blue):\n",
        "        for i in range(len(x)):\n",
        "            self.idx = self.shape + '_' + str(i) \n",
        "            self._color = \"rgb(%s,%s,%s)\" % (red[i], green[i], blue[i])\n",
        "            shaped = svg.append(self.shape).style(\"stroke\", \"gray\").style(\"fill\", self._color).attr(\"r\", r[i])\n",
        "            shaped.attr(\"cx\", x[i]).attr(\"cy\", y[i]).attr(\"id\", self.idx)\n",
        "            if self.interactive:\n",
        "                doc[self.idx].bind(\"mouseover\", self.over)\n",
        "                doc[self.idx].bind(\"mouseout\", self.out)\n",
        "\n",
        "plot = AddShapes(x, y, r, red, green, blue, interactive = True)\n",
        "</script>\n",
        "<script type=\"text/javascript\">brython({debug:1, ipy_id: [\"677822\"]});</script>\n",
        "<div id=\"other_d3\"></div>"
       ],
       "metadata": {},
       "output_type": "display_data",
       "text": [
        "<IPython.core.display.HTML at 0x7f03263249d0>"
       ]
      }
     ],
     "prompt_number": 45
    },
    {
     "cell_type": "heading",
     "level": 2,
     "metadata": {},
     "source": [
      "Mapping with Python in the IPython notebook using OpenLayers?"
     ]
    },
    {
     "cell_type": "markdown",
     "metadata": {},
     "source": [
      "In the following example we will use OpenLayers to center a map in a specific location, with a zoom and a projection and then we will draw some vector points around the location.\n",
      "\n",
      "As before, first we should load the OpenLayers.js library."
     ]
    },
    {
     "cell_type": "code",
     "collapsed": false,
     "input": [
      "%%HTML\n",
      "<script type=\"text/javascript\" src=\"http://openlayers.org/api/OpenLayers.js\"></script>"
     ],
     "language": "python",
     "metadata": {},
     "outputs": [
      {
       "html": [
        "<script type=\"text/javascript\" src=\"http://openlayers.org/api/OpenLayers.js\"></script>"
       ],
       "metadata": {},
       "output_type": "display_data",
       "text": [
        "<IPython.core.display.HTML at 0x7f0326324590>"
       ]
      }
     ],
     "prompt_number": 46
    },
    {
     "cell_type": "markdown",
     "metadata": {},
     "source": [
      "And now we can create a map using `JSConstructor` available in the built-in Brython javascript library "
     ]
    },
    {
     "cell_type": "code",
     "collapsed": false,
     "input": [
      "%%brython -c ol_map\n",
      "from browser import doc\n",
      "from javascript import JSConstructor, JSObject\n",
      "\n",
      "## Div layout\n",
      "doc['ol_map'].style.width = \"800px\"\n",
      "doc['ol_map'].style.height = \"400px\"\n",
      "doc['ol_map'].style.border = \"1px solid black\"\n",
      "\n",
      "## Map\n",
      "_map = JSConstructor(OpenLayers.Map)('ol_map')\n",
      "\n",
      "## Addition of a OpenStreetMap layer\n",
      "_layer = JSConstructor(OpenLayers.Layer.OSM)( 'Simple OSM map')\n",
      "_map.addLayer(_layer)\n",
      "\n",
      "## Map centered on Lon, Lat = (-3.671416, 40.435897) and a zoom = 14\n",
      "## with a projection = \"EPSG:4326\" (Lat-Lon WGS84)\n",
      "_proj = JSConstructor(OpenLayers.Projection)(\"EPSG:4326\")\n",
      "_center = JSConstructor(OpenLayers.LonLat)(-3.671416, 40.435897)\n",
      "_center.transform(_proj, _map.getProjectionObject())\n",
      "_map.setCenter(_center, 10)\n",
      "\n",
      "## Addition of some points around the defined location\n",
      "lons = [-3.670, -3.671, -3.672, -3.672, -3.672,\n",
      "        -3.671, -3.670, -3.670]\n",
      "lats = [40.435, 40.435, 40.435, 40.436, 40.437,\n",
      "        40.437, 40.437, 40.436]\n",
      "\n",
      "site_points = []\n",
      "site_style = {}\n",
      "\n",
      "points_layer = JSConstructor(OpenLayers.Layer.Vector)(\"Point Layer\")\n",
      "_map.addLayer(points_layer)\n",
      "\n",
      "for lon, lat in zip(lons, lats):\n",
      "    point = JSConstructor(OpenLayers.Geometry.Point)(lon, lat)\n",
      "    point.transform(_proj, _map.getProjectionObject())\n",
      "    _feat = JSConstructor(OpenLayers.Feature.Vector)(point)\n",
      "    points_layer.addFeatures(_feat)"
     ],
     "language": "python",
     "metadata": {},
     "outputs": [
      {
       "html": [
        "<script id=\"842684\" type=\"text/python\">\n",
        "from browser import doc\n",
        "from javascript import JSConstructor, JSObject\n",
        "\n",
        "## Div layout\n",
        "doc['ol_map'].style.width = \"800px\"\n",
        "doc['ol_map'].style.height = \"400px\"\n",
        "doc['ol_map'].style.border = \"1px solid black\"\n",
        "\n",
        "## Map\n",
        "_map = JSConstructor(OpenLayers.Map)('ol_map')\n",
        "\n",
        "## Addition of a OpenStreetMap layer\n",
        "_layer = JSConstructor(OpenLayers.Layer.OSM)( 'Simple OSM map')\n",
        "_map.addLayer(_layer)\n",
        "\n",
        "## Map centered on Lon, Lat = (-3.671416, 40.435897) and a zoom = 14\n",
        "## with a projection = \"EPSG:4326\" (Lat-Lon WGS84)\n",
        "_proj = JSConstructor(OpenLayers.Projection)(\"EPSG:4326\")\n",
        "_center = JSConstructor(OpenLayers.LonLat)(-3.671416, 40.435897)\n",
        "_center.transform(_proj, _map.getProjectionObject())\n",
        "_map.setCenter(_center, 10)\n",
        "\n",
        "## Addition of some points around the defined location\n",
        "lons = [-3.670, -3.671, -3.672, -3.672, -3.672,\n",
        "        -3.671, -3.670, -3.670]\n",
        "lats = [40.435, 40.435, 40.435, 40.436, 40.437,\n",
        "        40.437, 40.437, 40.436]\n",
        "\n",
        "site_points = []\n",
        "site_style = {}\n",
        "\n",
        "points_layer = JSConstructor(OpenLayers.Layer.Vector)(\"Point Layer\")\n",
        "_map.addLayer(points_layer)\n",
        "\n",
        "for lon, lat in zip(lons, lats):\n",
        "    point = JSConstructor(OpenLayers.Geometry.Point)(lon, lat)\n",
        "    point.transform(_proj, _map.getProjectionObject())\n",
        "    _feat = JSConstructor(OpenLayers.Feature.Vector)(point)\n",
        "    points_layer.addFeatures(_feat)\n",
        "</script>\n",
        "<script type=\"text/javascript\">brython({debug:1, ipy_id: [\"842684\"]});</script>\n",
        "<div id=\"ol_map\"></div>"
       ],
       "metadata": {},
       "output_type": "display_data",
       "text": [
        "<IPython.core.display.HTML at 0x7f0326324990>"
       ]
      }
     ],
     "prompt_number": 47
    }
   ],
   "metadata": {}
  }
 ]
}