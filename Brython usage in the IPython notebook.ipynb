{
 "metadata": {
  "name": ""
 },
 "nbformat": 3,
 "nbformat_minor": 0,
 "worksheets": [
  {
   "cells": [
    {
     "cell_type": "markdown",
     "metadata": {},
     "source": [
      "The brythonmagic extension has been tested on:"
     ]
    },
    {
     "cell_type": "code",
     "collapsed": false,
     "input": [
      "import IPython\n",
      "IPython.version_info"
     ],
     "language": "python",
     "metadata": {},
     "outputs": [
      {
       "metadata": {},
       "output_type": "pyout",
       "prompt_number": 6,
       "text": [
        "(1, 2, 0, '')"
       ]
      }
     ],
     "prompt_number": 6
    },
    {
     "cell_type": "heading",
     "level": 1,
     "metadata": {},
     "source": [
      "brythonmagic installation"
     ]
    },
    {
     "cell_type": "markdown",
     "metadata": {},
     "source": [
      "Brython version used is [2,0,0,'final',2].\n",
      "\n",
      "To use a working Brython version you should download the following files:\n",
      "\n",
      "* https://raw.github.com/kikocorreoso/brythonmagic/master/brython/brython.js\n",
      "* https://raw.github.com/kikocorreoso/brythonmagic/master/brython/py_VFS.js\n",
      "\n",
      "to the brython folder.\n",
      "\n",
      "First, you should create the 'brython' folder in the 'static/custom/' folder located on:"
     ]
    },
    {
     "cell_type": "code",
     "collapsed": false,
     "input": [
      "IPython.utils.path.locate_profile() # + '/static/custom/brython'"
     ],
     "language": "python",
     "metadata": {},
     "outputs": [
      {
       "metadata": {},
       "output_type": "pyout",
       "prompt_number": 7,
       "text": [
        "'/home/kiko/.config/ipython/profile_default'"
       ]
      }
     ],
     "prompt_number": 7
    },
    {
     "cell_type": "markdown",
     "metadata": {},
     "source": [
      "Once the brython javascript files are in the correct place we should install and load the extension:"
     ]
    },
    {
     "cell_type": "code",
     "collapsed": false,
     "input": [
      "%install_ext https://raw.github.com/kikocorreoso/brythonmagic/master/brythonmagic.py"
     ],
     "language": "python",
     "metadata": {},
     "outputs": [
      {
       "output_type": "stream",
       "stream": "stdout",
       "text": [
        "Installed brythonmagic.py. To use it, type:\n",
        "  %load_ext brythonmagic\n"
       ]
      }
     ],
     "prompt_number": 8
    },
    {
     "cell_type": "code",
     "collapsed": false,
     "input": [
      "%load_ext brythonmagic"
     ],
     "language": "python",
     "metadata": {},
     "outputs": [],
     "prompt_number": 9
    },
    {
     "cell_type": "markdown",
     "metadata": {},
     "source": [
      "Once all is in the correct place we could just load the brython javascript using the following code:"
     ]
    },
    {
     "cell_type": "code",
     "collapsed": false,
     "input": [
      "%%HTML\n",
      "<script type=\"text/javascript\" src=\"http://127.0.0.1:8888/static/custom/brython/brython.js\"></script>\n",
      "<script type=\"text/javascript\" src=\"http://127.0.0.1:8888/static/custom/brython/py_VFS.js\"></script>"
     ],
     "language": "python",
     "metadata": {},
     "outputs": [
      {
       "html": [
        "<script type=\"text/javascript\" src=\"http://127.0.0.1:8888/static/custom/brython/brython.js\"></script>\n",
        "<script type=\"text/javascript\" src=\"http://127.0.0.1:8888/static/custom/brython/py_VFS.js\"></script>"
       ],
       "metadata": {},
       "output_type": "display_data",
       "text": [
        "<IPython.core.display.HTML at 0x7fcf08ae5650>"
       ]
      }
     ],
     "prompt_number": 10
    },
    {
     "cell_type": "markdown",
     "metadata": {},
     "source": [
      "Or use the link below to load the brython javascript in all your sessions:\n",
      "\n",
      "http://nbviewer.ipython.org/github/ipython/ipython-in-depth/blob/master/notebooks/05%20-%20Notebook%20and%20javascript%20extension.ipynb#custom.js"
     ]
    },
    {
     "cell_type": "heading",
     "level": 1,
     "metadata": {},
     "source": [
      "Usage:"
     ]
    },
    {
     "cell_type": "markdown",
     "metadata": {},
     "source": [
      "The brythonmagic provides you a cell magic, `%%brython`, to run brython code on show the results in a html `div` tag below the code cell.\n",
      "\n",
      "You can use several options:\n",
      "\n",
      "* -p, --print: will show you the generated html code below the results obtained from the brython code.\n",
      "\n",
      "\n",
      "* -o, --output: you can define de name of the `div` container in case you want to 'play' with it in other cell. If you don't define an output the `div` will have and `id` with the following format 'brython-container-[random number between 0 and 999999]'\n",
      "\n",
      "\n",
      "* -i, --input: you can pass variables defined in the Python namespace separated by commas. If you pass a python list it will be converted to a brython list, a python tuple will be converted to a brython tuple, a python dict will be converted to a brython dict, a python string will be converted to a brython string.\n",
      "\n",
      "\n",
      "* -l, --libs: you can include external javascript libraries so Brython could have access to their functionality. You can pass the url of several several libraries separated by commas."
     ]
    },
    {
     "cell_type": "markdown",
     "metadata": {},
     "source": [
      "The following example shows the use of the `-p`, `--print` option. \n",
      "\n",
      "[HINT] The result of the print is shown in the javascript console of your browser."
     ]
    },
    {
     "cell_type": "code",
     "collapsed": false,
     "input": [
      "%%brython -p\n",
      "print('hello world!')"
     ],
     "language": "python",
     "metadata": {},
     "outputs": [
      {
       "html": [
        "\n",
        "<script id=\"329873\" type=\"text/python\">\n",
        "## Variables defined in the IPython namespace\n",
        "## End of variables defined in the IPython namespace\n",
        "\n",
        "print('hello world!')\n",
        "</script>\n",
        "<script type=\"text/javascript\">window.onload = brython({debug:1, py_id:'329873'})</script>\n",
        "<div id=\"brython_container_329873\"></div>\n"
       ],
       "metadata": {},
       "output_type": "display_data",
       "text": [
        "<IPython.core.display.HTML at 0x7fcf08ae5790>"
       ]
      },
      {
       "output_type": "stream",
       "stream": "stdout",
       "text": [
        "\n",
        "<script id=\"329873\" type=\"text/python\">\n",
        "## Variables defined in the IPython namespace\n",
        "## End of variables defined in the IPython namespace\n",
        "\n",
        "print('hello world!')\n",
        "</script>\n",
        "<script type=\"text/javascript\">window.onload = brython({debug:1, py_id:'329873'})</script>\n",
        "<div id=\"brython_container_329873\"></div>\n",
        "\n"
       ]
      }
     ],
     "prompt_number": 11
    },
    {
     "cell_type": "markdown",
     "metadata": {},
     "source": [
      "In the following example can be seen the use of the `-o`, `--output`. The `-p` is also used to show you the result. See the `id` attribute of the `div` tag created:"
     ]
    },
    {
     "cell_type": "code",
     "collapsed": false,
     "input": [
      "%%brython -o my_container -p\n",
      "print('Hello world!')"
     ],
     "language": "python",
     "metadata": {},
     "outputs": [
      {
       "html": [
        "\n",
        "<script id=\"437692\" type=\"text/python\">\n",
        "## Variables defined in the IPython namespace\n",
        "## End of variables defined in the IPython namespace\n",
        "\n",
        "print('Hello world!')\n",
        "</script>\n",
        "<script type=\"text/javascript\">window.onload = brython({debug:1, py_id:'437692'})</script>\n",
        "<div id=\"my_container\"></div>\n"
       ],
       "metadata": {},
       "output_type": "display_data",
       "text": [
        "<IPython.core.display.HTML at 0x7fcf08ae58d0>"
       ]
      },
      {
       "output_type": "stream",
       "stream": "stdout",
       "text": [
        "\n",
        "<script id=\"437692\" type=\"text/python\">\n",
        "## Variables defined in the IPython namespace\n",
        "## End of variables defined in the IPython namespace\n",
        "\n",
        "print('Hello world!')\n",
        "</script>\n",
        "<script type=\"text/javascript\">window.onload = brython({debug:1, py_id:'437692'})</script>\n",
        "<div id=\"my_container\"></div>\n",
        "\n"
       ]
      }
     ],
     "prompt_number": 12
    },
    {
     "cell_type": "markdown",
     "metadata": {},
     "source": [
      "In this last usage example you can see how the data are passed to brython from python:"
     ]
    },
    {
     "cell_type": "code",
     "collapsed": false,
     "input": [
      "data_list = [1,2,3,4]\n",
      "\n",
      "data_tuple = (1,2,3,4)\n",
      "\n",
      "data_dict = {'one': 1, 'two': 2}\n",
      "\n",
      "data_str = \"\"\"\n",
      "Hello\n",
      "GoodBye\n",
      "\"\"\"\n",
      "\n",
      "# A numpy array can be converted to a list and you will obtain a brython list\n",
      "import numpy as np\n",
      "data_arr = np.empty((3,2))\n",
      "data_arr = data_arr.tolist()"
     ],
     "language": "python",
     "metadata": {},
     "outputs": [],
     "prompt_number": 13
    },
    {
     "cell_type": "code",
     "collapsed": false,
     "input": [
      "%%brython -o p2b_data_example -i data_list,data_tuple,data_dict,data_str,data_arr\n",
      "from browser import doc, html\n",
      "\n",
      "doc[\"p2b_data_example\"] <= html.P(str(data_list))\n",
      "doc[\"p2b_data_example\"] <= html.P(str(type(data_list)))\n",
      "\n",
      "doc[\"p2b_data_example\"] <= html.P(str(data_tuple))\n",
      "doc[\"p2b_data_example\"] <= html.P(str(type(data_tuple)))\n",
      "\n",
      "doc[\"p2b_data_example\"] <= html.P(str(data_dict))\n",
      "doc[\"p2b_data_example\"] <= html.P(str(type(data_dict)))\n",
      "\n",
      "doc[\"p2b_data_example\"] <= html.P(data_str.replace('Hello', 'Hi'))\n",
      "doc[\"p2b_data_example\"] <= html.P(str(type(data_str)))\n",
      "\n",
      "doc[\"p2b_data_example\"] <= html.P(str(data_arr))\n",
      "doc[\"p2b_data_example\"] <= html.P(str(type(data_arr)))"
     ],
     "language": "python",
     "metadata": {},
     "outputs": [
      {
       "html": [
        "\n",
        "<script id=\"717271\" type=\"text/python\">\n",
        "## Variables defined in the IPython namespace\n",
        "data_tuple = tuple([1, 2, 3, 4])\n",
        "data_list = [1, 2, 3, 4]\n",
        "data_arr = [[6.94299618041753e-310, 6.94299618041753e-310], [6.9429653493339e-310, 4.7911403e-317], [6.94299579772456e-310, 6.3659873729403e-311]]\n",
        "data_str = \"\\nHello\\nGoodBye\\n\"\n",
        "data_dict = {\"one\": 1, \"two\": 2}\n",
        "## End of variables defined in the IPython namespace\n",
        "\n",
        "from browser import doc, html\n",
        "\n",
        "doc[\"p2b_data_example\"] <= html.P(str(data_list))\n",
        "doc[\"p2b_data_example\"] <= html.P(str(type(data_list)))\n",
        "\n",
        "doc[\"p2b_data_example\"] <= html.P(str(data_tuple))\n",
        "doc[\"p2b_data_example\"] <= html.P(str(type(data_tuple)))\n",
        "\n",
        "doc[\"p2b_data_example\"] <= html.P(str(data_dict))\n",
        "doc[\"p2b_data_example\"] <= html.P(str(type(data_dict)))\n",
        "\n",
        "doc[\"p2b_data_example\"] <= html.P(data_str.replace('Hello', 'Hi'))\n",
        "doc[\"p2b_data_example\"] <= html.P(str(type(data_str)))\n",
        "\n",
        "doc[\"p2b_data_example\"] <= html.P(str(data_arr))\n",
        "doc[\"p2b_data_example\"] <= html.P(str(type(data_arr)))\n",
        "</script>\n",
        "<script type=\"text/javascript\">window.onload = brython({debug:1, py_id:'717271'})</script>\n",
        "<div id=\"p2b_data_example\"></div>\n"
       ],
       "metadata": {},
       "output_type": "display_data",
       "text": [
        "<IPython.core.display.HTML at 0x7fcf08ae5650>"
       ]
      }
     ],
     "prompt_number": 14
    },
    {
     "cell_type": "markdown",
     "metadata": {},
     "source": [
      "To see the use of the `-l`, `--libs` option you can see the **'Interaction with other javascript libraries: D3.js'** example below."
     ]
    },
    {
     "cell_type": "heading",
     "level": 1,
     "metadata": {},
     "source": [
      "How to use Brython in the IPython notebook"
     ]
    },
    {
     "cell_type": "markdown",
     "metadata": {},
     "source": [
      "First step should be to learn the brython documentation. You can find the docs here:\n",
      "\n",
      "http://brython.info/doc/en/index.html?lang=en\n",
      "\n",
      "In the following section I will show you some dummy examples."
     ]
    },
    {
     "cell_type": "heading",
     "level": 2,
     "metadata": {},
     "source": [
      "Hello world example"
     ]
    },
    {
     "cell_type": "markdown",
     "metadata": {},
     "source": [
      "In this example let's see how to pop up an alert window. This could be an standard 'Hello world!' example in the Brython world."
     ]
    },
    {
     "cell_type": "code",
     "collapsed": false,
     "input": [
      "%%brython\n",
      "from browser import alert\n",
      "\n",
      "alert('Hello world!, Welcome to the brythonmagic!')"
     ],
     "language": "python",
     "metadata": {},
     "outputs": [
      {
       "html": [
        "\n",
        "<script id=\"651217\" type=\"text/python\">\n",
        "## Variables defined in the IPython namespace\n",
        "## End of variables defined in the IPython namespace\n",
        "\n",
        "from browser import alert\n",
        "\n",
        "alert('Hello world!, Welcome to the brythonmagic!')\n",
        "</script>\n",
        "<script type=\"text/javascript\">window.onload = brython({debug:1, py_id:'651217'})</script>\n",
        "<div id=\"brython_container_651217\"></div>\n"
       ],
       "metadata": {},
       "output_type": "display_data",
       "text": [
        "<IPython.core.display.HTML at 0x7fcf08ae5790>"
       ]
      }
     ],
     "prompt_number": 16
    },
    {
     "cell_type": "heading",
     "level": 2,
     "metadata": {},
     "source": [
      "Simple example, writing some numbers in the `div` container"
     ]
    },
    {
     "cell_type": "markdown",
     "metadata": {},
     "source": [
      "In this example we just write inside a `<div>` ten numbers using a `<P>` tag for each number.\n",
      "\n",
      "[HINT] To see the line numbers in the code cell just go to the cell and press **`<CTRL>-m`** and then **`l`**.\n",
      "\n",
      "* Line 2: We import the libraries to use\n",
      "* Line 4: A for loop :-P\n",
      "* Line 10: We create a `P` tag and write the value of `i` inside. Finally, add the `P` element to the selected `div`, in this case the `div` with \"simple_example\" `id` attribute."
     ]
    },
    {
     "cell_type": "code",
     "collapsed": false,
     "input": [
      "%%brython -o simple_example\n",
      "from browser import doc, html\n",
      "\n",
      "for i in range(10):\n",
      "    doc[\"simple_example\"] <= html.P(i)"
     ],
     "language": "python",
     "metadata": {},
     "outputs": [
      {
       "html": [
        "\n",
        "<script id=\"751032\" type=\"text/python\">\n",
        "## Variables defined in the IPython namespace\n",
        "## End of variables defined in the IPython namespace\n",
        "\n",
        "from browser import doc, html\n",
        "\n",
        "for i in range(10):\n",
        "    doc[\"simple_example\"] <= html.P(i)\n",
        "</script>\n",
        "<script type=\"text/javascript\">window.onload = brython({debug:1, py_id:'751032'})</script>\n",
        "<div id=\"simple_example\"></div>\n"
       ],
       "metadata": {},
       "output_type": "display_data",
       "text": [
        "<IPython.core.display.HTML at 0x7fcf08ae5690>"
       ]
      }
     ],
     "prompt_number": 17
    },
    {
     "cell_type": "heading",
     "level": 2,
     "metadata": {},
     "source": [
      "A more useful example: A multiplication table"
     ]
    },
    {
     "cell_type": "markdown",
     "metadata": {},
     "source": [
      "In the following cell we create a multiplication table. First, we create a `table` tag. We append the table rows and cells (`TR` and `TD` tags) and, finally, we append the final table to the `div` with \"table\" `id` attribute."
     ]
    },
    {
     "cell_type": "code",
     "collapsed": false,
     "input": [
      "%%brython -o table\n",
      "from browser import doc, html\n",
      "\n",
      "table = html.TABLE()\n",
      "\n",
      "for i in range(10):\n",
      "    color = ['cyan','#dddddd'] * 5\n",
      "    table <= html.TR(\n",
      "                     html.TD(str(i+1) + ' x 2 =', style = {'backgroundColor':color[i]}) + \n",
      "                     html.TD((i+1)*2, style = {'backgroundColor':color[i]}))\n",
      "doc['table'] <= table"
     ],
     "language": "python",
     "metadata": {},
     "outputs": [
      {
       "html": [
        "\n",
        "<script id=\"822145\" type=\"text/python\">\n",
        "## Variables defined in the IPython namespace\n",
        "## End of variables defined in the IPython namespace\n",
        "\n",
        "from browser import doc, html\n",
        "\n",
        "table = html.TABLE()\n",
        "\n",
        "for i in range(10):\n",
        "    color = ['cyan','#dddddd'] * 5\n",
        "    table <= html.TR(\n",
        "                     html.TD(str(i+1) + ' x 2 =', style = {'backgroundColor':color[i]}) + \n",
        "                     html.TD((i+1)*2, style = {'backgroundColor':color[i]}))\n",
        "doc['table'] <= table\n",
        "</script>\n",
        "<script type=\"text/javascript\">window.onload = brython({debug:1, py_id:'822145'})</script>\n",
        "<div id=\"table\"></div>\n"
       ],
       "metadata": {},
       "output_type": "display_data",
       "text": [
        "<IPython.core.display.HTML at 0x7fcf08ae5690>"
       ]
      }
     ],
     "prompt_number": 18
    },
    {
     "cell_type": "heading",
     "level": 2,
     "metadata": {},
     "source": [
      "Let's add some animation..."
     ]
    },
    {
     "cell_type": "markdown",
     "metadata": {},
     "source": [
      "In the following example we draw a shape using the HTML5 `canvas`. Also, we add some controls to stop and animate the shape. The example has been adapted from the javascript example available [here](http://www.paulirish.com/2011/requestanimationframe-for-smart-animating/)."
     ]
    },
    {
     "cell_type": "code",
     "collapsed": false,
     "input": [
      "%%brython -o canvas_example\n",
      "from browser.timer import request_animation_frame as raf\n",
      "from browser.timer import cancel_animation_frame as caf\n",
      "from browser import doc, html\n",
      "from time import time\n",
      "import math\n",
      "\n",
      "# First we create a table to insert the elements\n",
      "table = html.TABLE(cellpadding = 10)\n",
      "btn_anim = html.BUTTON('Animate', Id=\"btn-anim\", type=\"button\")\n",
      "btn_stop = html.BUTTON('Stop', Id=\"btn-stop\", type=\"button\")\n",
      "cnvs = html.CANVAS(Id=\"raf-canvas\", width=256, height=256)\n",
      "\n",
      "table <= html.TR(html.TD(btn_anim + btn_stop) +\n",
      "                 html.TD(cnvs))\n",
      "\n",
      "doc['canvas_example'] <= table\n",
      "# Now we access the canvas context\n",
      "ctx = doc['raf-canvas'].getContext( '2d' ) \n",
      "\n",
      "# And we create several functions in charge to animate and stop the draw animation\n",
      "toggle = True\n",
      "\n",
      "def draw():\n",
      "    t = time() * 3\n",
      "    x = math.sin(t) * 96 + 128\n",
      "    y = math.cos(t * 0.9) * 96 + 128\n",
      "    global toggle\n",
      "    if toggle:\n",
      "        toggle = False\n",
      "    else:\n",
      "        toggle = True\n",
      "    ctx.fillStyle = 'rgb(200,200,20)' if toggle else 'rgb(20,20,200)'\n",
      "    ctx.beginPath()\n",
      "    ctx.arc( x, y, 6, 0, math.pi * 2, True)\n",
      "    ctx.closePath()\n",
      "    ctx.fill()\n",
      "\n",
      "def animate(i):\n",
      "    global id\n",
      "    id = raf(animate)\n",
      "    draw()\n",
      "\n",
      "def stop(i):\n",
      "    print(id)\n",
      "    caf(id)\n",
      "\n",
      "doc[\"btn-anim\"].bind(\"click\", animate)\n",
      "doc[\"btn-stop\"].bind(\"click\", stop)"
     ],
     "language": "python",
     "metadata": {},
     "outputs": [
      {
       "html": [
        "\n",
        "<script id=\"764675\" type=\"text/python\">\n",
        "## Variables defined in the IPython namespace\n",
        "## End of variables defined in the IPython namespace\n",
        "\n",
        "from browser.timer import request_animation_frame as raf\n",
        "from browser.timer import cancel_animation_frame as caf\n",
        "from browser import doc, html\n",
        "from time import time\n",
        "import math\n",
        "\n",
        "# First we create a table to insert the elements\n",
        "table = html.TABLE(cellpadding = 10)\n",
        "btn_anim = html.BUTTON('Animate', Id=\"btn-anim\", type=\"button\")\n",
        "btn_stop = html.BUTTON('Stop', Id=\"btn-stop\", type=\"button\")\n",
        "cnvs = html.CANVAS(Id=\"raf-canvas\", width=256, height=256)\n",
        "\n",
        "table <= html.TR(html.TD(btn_anim + btn_stop) +\n",
        "                 html.TD(cnvs))\n",
        "\n",
        "doc['canvas_example'] <= table\n",
        "# Now we access the canvas context\n",
        "ctx = doc['raf-canvas'].getContext( '2d' ) \n",
        "\n",
        "# And we create several functions in charge to animate and stop the draw animation\n",
        "toggle = True\n",
        "\n",
        "def draw():\n",
        "    t = time() * 3\n",
        "    x = math.sin(t) * 96 + 128\n",
        "    y = math.cos(t * 0.9) * 96 + 128\n",
        "    global toggle\n",
        "    if toggle:\n",
        "        toggle = False\n",
        "    else:\n",
        "        toggle = True\n",
        "    ctx.fillStyle = 'rgb(200,200,20)' if toggle else 'rgb(20,20,200)'\n",
        "    ctx.beginPath()\n",
        "    ctx.arc( x, y, 6, 0, math.pi * 2, True)\n",
        "    ctx.closePath()\n",
        "    ctx.fill()\n",
        "\n",
        "def animate(i):\n",
        "    global id\n",
        "    id = raf(animate)\n",
        "    draw()\n",
        "\n",
        "def stop(i):\n",
        "    print(id)\n",
        "    caf(id)\n",
        "\n",
        "doc[\"btn-anim\"].bind(\"click\", animate)\n",
        "doc[\"btn-stop\"].bind(\"click\", stop)\n",
        "</script>\n",
        "<script type=\"text/javascript\">window.onload = brython({debug:1, py_id:'764675'})</script>\n",
        "<div id=\"canvas_example\"></div>\n"
       ],
       "metadata": {},
       "output_type": "display_data",
       "text": [
        "<IPython.core.display.HTML at 0x7fcf08ae59d0>"
       ]
      }
     ],
     "prompt_number": 19
    },
    {
     "cell_type": "heading",
     "level": 2,
     "metadata": {},
     "source": [
      "Interaction with other javascript libraries: D3.js"
     ]
    },
    {
     "cell_type": "markdown",
     "metadata": {},
     "source": [
      "In Brython there is a javascript library that allows to access objects available in the javascript namespace. In this example we are using a javascript object (D3.js library) from Brython."
     ]
    },
    {
     "cell_type": "code",
     "collapsed": false,
     "input": [
      "%%brython -o simple_d3 -l http://d3js.org/d3.v2.js\n",
      "from browser import win, doc, html\n",
      "from javascript import JSObject\n",
      "\n",
      "container = JSObject(d3.select(\"#simple_d3\"))\n",
      "svg = container.append(\"svg\").attr(\"width\", 100).attr(\"height\", 100)\n",
      "circle1 = svg.append(\"circle\").style(\"stroke\", \"gray\").style(\"fill\", \"gray\").attr(\"r\", 40)\n",
      "circle1.attr(\"cx\", 50).attr(\"cy\", 50).attr(\"id\", \"mycircle\")\n",
      "\n",
      "circle2 = svg.append(\"circle\").style(\"stroke\", \"gray\").style(\"fill\", \"white\").attr(\"r\", 20)\n",
      "circle2.attr(\"cx\", 50).attr(\"cy\", 50)\n",
      "\n",
      "def over(ev):\n",
      "    doc[\"mycircle\"].style.fill = \"blue\"\n",
      "\n",
      "def out(ev):\n",
      "    doc[\"mycircle\"].style.fill = \"gray\"\n",
      "\n",
      "doc[\"mycircle\"].bind(\"mouseover\", over)\n",
      "doc[\"mycircle\"].bind(\"mouseout\", out)\n",
      "\n",
      "#circle.on(\"mouseover\", over) #THIS DOESN'T WORK\n",
      "#circle.on(\"mouseout\", out)   #THIS DOESN'T WORK"
     ],
     "language": "python",
     "metadata": {},
     "outputs": [
      {
       "html": [
        "<!-- third party js libs -->\n",
        "<script type=\"text/javascript\" src=\"http://d3js.org/d3.v2.js\"></script>\n",
        "<!-- End of 3rd party js libs -->\n",
        "\n",
        "<script id=\"645656\" type=\"text/python\">\n",
        "## Variables defined in the IPython namespace\n",
        "## End of variables defined in the IPython namespace\n",
        "\n",
        "from browser import win, doc, html\n",
        "from javascript import JSObject\n",
        "\n",
        "container = JSObject(d3.select(\"#simple_d3\"))\n",
        "svg = container.append(\"svg\").attr(\"width\", 100).attr(\"height\", 100)\n",
        "circle1 = svg.append(\"circle\").style(\"stroke\", \"gray\").style(\"fill\", \"gray\").attr(\"r\", 40)\n",
        "circle1.attr(\"cx\", 50).attr(\"cy\", 50).attr(\"id\", \"mycircle\")\n",
        "\n",
        "circle2 = svg.append(\"circle\").style(\"stroke\", \"gray\").style(\"fill\", \"white\").attr(\"r\", 20)\n",
        "circle2.attr(\"cx\", 50).attr(\"cy\", 50)\n",
        "\n",
        "def over(ev):\n",
        "    doc[\"mycircle\"].style.fill = \"blue\"\n",
        "\n",
        "def out(ev):\n",
        "    doc[\"mycircle\"].style.fill = \"gray\"\n",
        "\n",
        "doc[\"mycircle\"].bind(\"mouseover\", over)\n",
        "doc[\"mycircle\"].bind(\"mouseout\", out)\n",
        "\n",
        "#circle.on(\"mouseover\", over) #THIS DOESN'T WORK\n",
        "#circle.on(\"mouseout\", out)   #THIS DOESN'T WORK\n",
        "</script>\n",
        "<script type=\"text/javascript\">window.onload = brython({debug:1, py_id:'645656'})</script>\n",
        "<div id=\"simple_d3\"></div>\n"
       ],
       "metadata": {},
       "output_type": "display_data",
       "text": [
        "<IPython.core.display.HTML at 0x7fcf08ae5a90>"
       ]
      }
     ],
     "prompt_number": 20
    },
    {
     "cell_type": "heading",
     "level": 2,
     "metadata": {},
     "source": [
      "Manipulating the IPython notebook"
     ]
    },
    {
     "cell_type": "markdown",
     "metadata": {},
     "source": [
      "An example to hide or show the code cells using a button."
     ]
    },
    {
     "cell_type": "code",
     "collapsed": false,
     "input": [
      "%%brython -o manipulating\n",
      "from browser import doc, html\n",
      "\n",
      "def hide(ev):\n",
      "    divs = doc.get(selector = 'div.input')\n",
      "    for div in divs:\n",
      "        div.style.display = \"none\"\n",
      "\n",
      "def show(ev):\n",
      "    divs = doc.get(selector = 'div.input')\n",
      "    for div in divs:\n",
      "        div.style.display = \"inherit\"\n",
      "\n",
      "doc[\"manipulating\"] <= html.BUTTON('Hide code cells', Id=\"btn-hide\")\n",
      "doc[\"btn-hide\"].bind(\"click\", hide)\n",
      "\n",
      "doc[\"manipulating\"] <= html.BUTTON('Show code cells', Id=\"btn-show\")\n",
      "doc[\"btn-show\"].bind(\"click\", show)"
     ],
     "language": "python",
     "metadata": {},
     "outputs": [
      {
       "html": [
        "\n",
        "<script id=\"635646\" type=\"text/python\">\n",
        "## Variables defined in the IPython namespace\n",
        "## End of variables defined in the IPython namespace\n",
        "\n",
        "from browser import doc, html\n",
        "\n",
        "def hide(ev):\n",
        "    divs = doc.get(selector = 'div.input')\n",
        "    for div in divs:\n",
        "        div.style.display = \"none\"\n",
        "\n",
        "def show(ev):\n",
        "    divs = doc.get(selector = 'div.input')\n",
        "    for div in divs:\n",
        "        div.style.display = \"inherit\"\n",
        "\n",
        "doc[\"manipulating\"] <= html.BUTTON('Hide code cells', Id=\"btn-hide\")\n",
        "doc[\"btn-hide\"].bind(\"click\", hide)\n",
        "\n",
        "doc[\"manipulating\"] <= html.BUTTON('Show code cells', Id=\"btn-show\")\n",
        "doc[\"btn-show\"].bind(\"click\", show)\n",
        "</script>\n",
        "<script type=\"text/javascript\">window.onload = brython({debug:1, py_id:'635646'})</script>\n",
        "<div id=\"manipulating\"></div>\n"
       ],
       "metadata": {},
       "output_type": "display_data",
       "text": [
        "<IPython.core.display.HTML at 0x7fcf08ae5a10>"
       ]
      }
     ],
     "prompt_number": 21
    },
    {
     "cell_type": "heading",
     "level": 2,
     "metadata": {},
     "source": [
      "A more complete d3 example calculating things in Python and drawing results in Brython using D3.js"
     ]
    },
    {
     "cell_type": "markdown",
     "metadata": {},
     "source": [
      "A more complete D3 example."
     ]
    },
    {
     "cell_type": "code",
     "collapsed": false,
     "input": [
      "from random import randint\n",
      "\n",
      "n = 50\n",
      "x = [randint(0,500) for i in range(n)]\n",
      "y = [randint(0,300) for i in range(n)]\n",
      "r = [randint(25,50) for i in range(n)]\n",
      "red = [randint(0,255) for i in range(n)]\n",
      "green = [randint(0,255) for i in range(n)]\n",
      "blue = [randint(0,255) for i in range(n)]"
     ],
     "language": "python",
     "metadata": {},
     "outputs": [],
     "prompt_number": 22
    },
    {
     "cell_type": "code",
     "collapsed": false,
     "input": [
      "%%brython -o other_d3 -l http://d3js.org/d3.v2.js -i x,y,r,red,green,blue\n",
      "from browser import win, doc, html\n",
      "from javascript import JSObject\n",
      "\n",
      "WIDTH = 500\n",
      "HEIGHT = 300\n",
      "\n",
      "container = JSObject(d3.select(\"#other_d3\"))\n",
      "svg = container.append(\"svg\").attr(\"width\", WIDTH).attr(\"height\", HEIGHT)\n",
      "\n",
      "class AddShapes:\n",
      "    def __init__(self, x, y, r, red, green, blue, shape = \"circle\", interactive = True):\n",
      "        self.shape = shape\n",
      "        self.interactive = interactive\n",
      "        self._color = \"gray\"\n",
      "        self.add(x, y, r, red, green, blue)\n",
      "\n",
      "    def over(self, ev):\n",
      "        self._color = ev.target.style.fill\n",
      "        doc[ev.target.id].style.fill = \"white\"\n",
      "        \n",
      "    def out(self, ev):\n",
      "        doc[ev.target.id].style.fill = self._color\n",
      "    \n",
      "    def add(self, x, y, r, red, green, blue):\n",
      "        for i in range(len(x)):\n",
      "            self.idx = self.shape + '_' + str(i) \n",
      "            self._color = \"rgb(%s,%s,%s)\" % (red[i], green[i], blue[i])\n",
      "            print(self._color)\n",
      "            shaped = svg.append(self.shape).style(\"stroke\", \"gray\").style(\"fill\", self._color).attr(\"r\", r[i])\n",
      "            shaped.attr(\"cx\", x[i]).attr(\"cy\", y[i]).attr(\"id\", self.idx)\n",
      "            if self.interactive:\n",
      "                doc[self.idx].bind(\"mouseover\", self.over)\n",
      "                doc[self.idx].bind(\"mouseout\", self.out)\n",
      "\n",
      "plot = AddShapes(x, y, r, red, green, blue, interactive = True)"
     ],
     "language": "python",
     "metadata": {},
     "outputs": [
      {
       "html": [
        "<!-- third party js libs -->\n",
        "<script type=\"text/javascript\" src=\"http://d3js.org/d3.v2.js\"></script>\n",
        "<!-- End of 3rd party js libs -->\n",
        "\n",
        "<script id=\"17261\" type=\"text/python\">\n",
        "## Variables defined in the IPython namespace\n",
        "red = [94, 242, 252, 145, 73, 159, 100, 247, 108, 200, 115, 137, 26, 88, 79, 152, 125, 157, 183, 63, 231, 154, 223, 41, 123, 199, 168, 35, 66, 62, 162, 205, 218, 28, 54, 168, 174, 74, 70, 67, 46, 50, 253, 220, 212, 108, 56, 158, 93, 177]\n",
        "x = [239, 330, 254, 336, 2, 103, 315, 440, 88, 402, 353, 121, 66, 2, 455, 154, 303, 463, 191, 363, 139, 467, 254, 452, 373, 465, 206, 330, 462, 237, 407, 12, 106, 273, 192, 494, 232, 350, 400, 162, 9, 434, 482, 31, 239, 250, 434, 486, 195, 416]\n",
        "green = [78, 178, 14, 238, 19, 8, 249, 106, 146, 222, 255, 251, 143, 212, 71, 110, 209, 51, 93, 190, 99, 93, 185, 65, 33, 71, 5, 159, 206, 144, 80, 45, 127, 206, 210, 120, 143, 49, 113, 93, 253, 42, 142, 108, 231, 213, 89, 1, 95, 243]\n",
        "y = [155, 131, 284, 30, 179, 239, 180, 251, 105, 179, 285, 201, 121, 47, 288, 247, 231, 5, 102, 21, 153, 259, 160, 85, 234, 261, 253, 142, 151, 53, 94, 73, 265, 266, 264, 215, 36, 51, 28, 70, 252, 7, 287, 90, 138, 162, 244, 215, 124, 284]\n",
        "r = [35, 49, 40, 31, 45, 50, 43, 38, 45, 31, 38, 43, 35, 25, 46, 44, 50, 43, 35, 40, 43, 31, 48, 28, 39, 43, 26, 27, 32, 41, 27, 33, 28, 30, 42, 41, 38, 27, 46, 48, 39, 43, 48, 30, 41, 37, 47, 33, 30, 44]\n",
        "blue = [68, 99, 219, 136, 204, 60, 110, 13, 119, 165, 97, 125, 24, 15, 130, 187, 118, 45, 36, 243, 183, 23, 181, 110, 224, 82, 195, 38, 113, 142, 55, 220, 151, 220, 108, 224, 132, 168, 124, 159, 5, 227, 49, 148, 44, 94, 78, 169, 33, 37]\n",
        "## End of variables defined in the IPython namespace\n",
        "\n",
        "from browser import win, doc, html\n",
        "from javascript import JSObject\n",
        "\n",
        "WIDTH = 500\n",
        "HEIGHT = 300\n",
        "\n",
        "container = JSObject(d3.select(\"#other_d3\"))\n",
        "svg = container.append(\"svg\").attr(\"width\", WIDTH).attr(\"height\", HEIGHT)\n",
        "\n",
        "class AddShapes:\n",
        "    def __init__(self, x, y, r, red, green, blue, shape = \"circle\", interactive = True):\n",
        "        self.shape = shape\n",
        "        self.interactive = interactive\n",
        "        self._color = \"gray\"\n",
        "        self.add(x, y, r, red, green, blue)\n",
        "\n",
        "    def over(self, ev):\n",
        "        self._color = ev.target.style.fill\n",
        "        doc[ev.target.id].style.fill = \"white\"\n",
        "        \n",
        "    def out(self, ev):\n",
        "        doc[ev.target.id].style.fill = self._color\n",
        "    \n",
        "    def add(self, x, y, r, red, green, blue):\n",
        "        for i in range(len(x)):\n",
        "            self.idx = self.shape + '_' + str(i) \n",
        "            self._color = \"rgb(%s,%s,%s)\" % (red[i], green[i], blue[i])\n",
        "            print(self._color)\n",
        "            shaped = svg.append(self.shape).style(\"stroke\", \"gray\").style(\"fill\", self._color).attr(\"r\", r[i])\n",
        "            shaped.attr(\"cx\", x[i]).attr(\"cy\", y[i]).attr(\"id\", self.idx)\n",
        "            if self.interactive:\n",
        "                doc[self.idx].bind(\"mouseover\", self.over)\n",
        "                doc[self.idx].bind(\"mouseout\", self.out)\n",
        "\n",
        "plot = AddShapes(x, y, r, red, green, blue, interactive = True)\n",
        "</script>\n",
        "<script type=\"text/javascript\">window.onload = brython({debug:1, py_id:'17261'})</script>\n",
        "<div id=\"other_d3\"></div>\n"
       ],
       "metadata": {},
       "output_type": "display_data",
       "text": [
        "<IPython.core.display.HTML at 0x7fcf08ae5f50>"
       ]
      }
     ],
     "prompt_number": 23
    },
    {
     "cell_type": "code",
     "collapsed": false,
     "input": [],
     "language": "python",
     "metadata": {},
     "outputs": []
    }
   ],
   "metadata": {}
  }
 ]
}