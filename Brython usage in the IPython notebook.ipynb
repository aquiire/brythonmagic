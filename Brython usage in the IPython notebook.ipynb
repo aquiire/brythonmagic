{
 "metadata": {
  "name": ""
 },
 "nbformat": 3,
 "nbformat_minor": 0,
 "worksheets": [
  {
   "cells": [
    {
     "cell_type": "markdown",
     "metadata": {},
     "source": [
      "The brythonmagic extension has been tested on:"
     ]
    },
    {
     "cell_type": "code",
     "collapsed": false,
     "input": [
      "import IPython\n",
      "IPython.version_info"
     ],
     "language": "python",
     "metadata": {},
     "outputs": [
      {
       "metadata": {},
       "output_type": "pyout",
       "prompt_number": 1,
       "text": [
        "(1, 2, 0, '')"
       ]
      }
     ],
     "prompt_number": 1
    },
    {
     "cell_type": "heading",
     "level": 1,
     "metadata": {},
     "source": [
      "brythonmagic installation"
     ]
    },
    {
     "cell_type": "heading",
     "level": 2,
     "metadata": {},
     "source": [
      "If you want to use the brythonmagic offline:"
     ]
    },
    {
     "cell_type": "markdown",
     "metadata": {},
     "source": [
      "First, you should create the 'brython' folder in the 'static/custom/' folder located on:"
     ]
    },
    {
     "cell_type": "code",
     "collapsed": false,
     "input": [
      "IPython.utils.path.locate_profile() # + '/static/custom/brython'"
     ],
     "language": "python",
     "metadata": {},
     "outputs": [
      {
       "metadata": {},
       "output_type": "pyout",
       "prompt_number": 2,
       "text": [
        "'/home/kiko/.config/ipython/profile_default'"
       ]
      }
     ],
     "prompt_number": 2
    },
    {
     "cell_type": "markdown",
     "metadata": {},
     "source": [
      "Brython files used are a slightly modified version of Brython [2,0,0,'final',2].\n",
      "\n",
      "So you should download the Brython version available on this repository:\n",
      "\n",
      "* https://raw.github.com/kikocorreoso/brythonmagic/master/brython/brython.js\n",
      "* https://raw.github.com/kikocorreoso/brythonmagic/master/brython/py_VFS.js\n",
      "\n",
      "to the brython folder recently created."
     ]
    },
    {
     "cell_type": "markdown",
     "metadata": {},
     "source": [
      "Once the brython javascript files are in the correct place we should install and load the extension:"
     ]
    },
    {
     "cell_type": "code",
     "collapsed": false,
     "input": [
      "%install_ext https://raw.github.com/kikocorreoso/brythonmagic/master/brythonmagic.py"
     ],
     "language": "python",
     "metadata": {},
     "outputs": [
      {
       "output_type": "stream",
       "stream": "stdout",
       "text": [
        "Installed brythonmagic.py. To use it, type:\n",
        "  %load_ext brythonmagic\n"
       ]
      }
     ],
     "prompt_number": 3
    },
    {
     "cell_type": "code",
     "collapsed": false,
     "input": [
      "%load_ext brythonmagic"
     ],
     "language": "python",
     "metadata": {},
     "outputs": [],
     "prompt_number": 4
    },
    {
     "cell_type": "markdown",
     "metadata": {},
     "source": [
      "Once all is in the correct place we could just load the brython javascript using the following code:"
     ]
    },
    {
     "cell_type": "code",
     "collapsed": false,
     "input": [
      "%%HTML\n",
      "<script type=\"text/javascript\" src=\"http://127.0.0.1:8888/static/custom/brython/brython.js\"></script>\n",
      "<script type=\"text/javascript\" src=\"http://127.0.0.1:8888/static/custom/brython/py_VFS.js\"></script>"
     ],
     "language": "python",
     "metadata": {},
     "outputs": [
      {
       "html": [
        "<script type=\"text/javascript\" src=\"http://127.0.0.1:8888/static/custom/brython/brython.js\"></script>\n",
        "<script type=\"text/javascript\" src=\"http://127.0.0.1:8888/static/custom/brython/py_VFS.js\"></script>"
       ],
       "metadata": {},
       "output_type": "display_data",
       "text": [
        "<IPython.core.display.HTML at 0x7fcea41649d0>"
       ]
      }
     ],
     "prompt_number": 5
    },
    {
     "cell_type": "markdown",
     "metadata": {},
     "source": [
      "Or use the link below to load the brython javascript in all your sessions of the chosen profile (in this case I am using the default profile):\n",
      "\n",
      "http://nbviewer.ipython.org/github/ipython/ipython-in-depth/blob/master/notebooks/05%20-%20Notebook%20and%20javascript%20extension.ipynb#custom.js"
     ]
    },
    {
     "cell_type": "heading",
     "level": 2,
     "metadata": {},
     "source": [
      "If you have an internet conection and want to use the brythonmagic online:"
     ]
    },
    {
     "cell_type": "markdown",
     "metadata": {},
     "source": [
      "Just type the following:"
     ]
    },
    {
     "cell_type": "code",
     "collapsed": false,
     "input": [
      "%install_ext https://raw.github.com/kikocorreoso/brythonmagic/master/brythonmagic.py"
     ],
     "language": "python",
     "metadata": {},
     "outputs": [
      {
       "output_type": "stream",
       "stream": "stdout",
       "text": [
        "Installed brythonmagic.py. To use it, type:\n",
        "  %load_ext brythonmagic\n"
       ]
      }
     ],
     "prompt_number": 1
    },
    {
     "cell_type": "code",
     "collapsed": false,
     "input": [
      "%load_ext brythonmagic"
     ],
     "language": "python",
     "metadata": {},
     "outputs": [],
     "prompt_number": 2
    },
    {
     "cell_type": "markdown",
     "metadata": {},
     "source": [
      "And load the brython js libs in the notebook:"
     ]
    },
    {
     "cell_type": "code",
     "collapsed": false,
     "input": [
      "%%HTML\n",
      "<script type=\"text/javascript\" src=\"https://rawgithub.com/kikocorreoso/brythonmagic/master/brython/brython.js\"></script>\n",
      "<script type=\"text/javascript\" src=\"https://rawgithub.com/kikocorreoso/brythonmagic/master/brython/py_VFS.js\"></script>"
     ],
     "language": "python",
     "metadata": {},
     "outputs": [
      {
       "html": [
        "<script type=\"text/javascript\" src=\"https://rawgithub.com/kikocorreoso/brythonmagic/master/brython/brython.js\"></script>\n",
        "<script type=\"text/javascript\" src=\"https://rawgithub.com/kikocorreoso/brythonmagic/master/brython/py_VFS.js\"></script>"
       ],
       "metadata": {},
       "output_type": "display_data",
       "text": [
        "<IPython.core.display.HTML at 0x7fbe641eebd0>"
       ]
      }
     ],
     "prompt_number": 3
    },
    {
     "cell_type": "heading",
     "level": 1,
     "metadata": {},
     "source": [
      "Usage:"
     ]
    },
    {
     "cell_type": "markdown",
     "metadata": {},
     "source": [
      "The brythonmagic provides you a cell magic, `%%brython`, to run brython code and show the results in a html `div` tag below the code cell.\n",
      "\n",
      "You can use several options:\n",
      "\n",
      "* -p, --print: will show you the generated html code below the results obtained from the brython code.\n",
      "\n",
      "\n",
      "* -o, --output: you can define de name of the `div` container in case you want to 'play' with it in other cell. If you don't define an output the `div` will have and `id` with the following format 'brython-container-[random number between 0 and 999999]'\n",
      "\n",
      "\n",
      "* -i, --input: you can pass variables defined in the Python namespace separated by commas. If you pass a python list it will be converted to a brython list, a python tuple will be converted to a brython tuple, a python dict will be converted to a brython dict, a python string will be converted to a brython string.\n",
      "\n",
      "\n",
      "* -l, --libs: you can include external javascript libraries so Brython could have access to their functionality. You can pass the url of several several libraries separated by commas.\n",
      "\n",
      "[WARNING] This options may change as the brythonmagic is in active development."
     ]
    },
    {
     "cell_type": "markdown",
     "metadata": {},
     "source": [
      "The following example shows the use of the `-p`, `--print` option. \n",
      "\n",
      "[HINT] The result of the print is shown in the javascript console of your browser."
     ]
    },
    {
     "cell_type": "code",
     "collapsed": false,
     "input": [
      "%%brython -p\n",
      "print('hello world!')"
     ],
     "language": "python",
     "metadata": {},
     "outputs": [
      {
       "html": [
        "\n",
        "<script id=\"811384\" type=\"text/python\">\n",
        "## Variables defined in the IPython namespace\n",
        "## End of variables defined in the IPython namespace\n",
        "\n",
        "print('hello world!')\n",
        "</script>\n",
        "<script type=\"text/javascript\">brython({debug:1, py_id:'811384'});</script>\n",
        "<div id=\"brython_container_811384\"></div>\n"
       ],
       "metadata": {},
       "output_type": "display_data",
       "text": [
        "<IPython.core.display.HTML at 0x7fbe641a4510>"
       ]
      },
      {
       "output_type": "stream",
       "stream": "stdout",
       "text": [
        "\n",
        "<script id=\"811384\" type=\"text/python\">\n",
        "## Variables defined in the IPython namespace\n",
        "## End of variables defined in the IPython namespace\n",
        "\n",
        "print('hello world!')\n",
        "</script>\n",
        "<script type=\"text/javascript\">brython({debug:1, py_id:'811384'});</script>\n",
        "<div id=\"brython_container_811384\"></div>\n",
        "\n"
       ]
      }
     ],
     "prompt_number": 4
    },
    {
     "cell_type": "markdown",
     "metadata": {},
     "source": [
      "In the following example can be seen the use of the `-o`, `--output`. The `-p` is also used to show you the result. See the `id` attribute of the `div` tag created:"
     ]
    },
    {
     "cell_type": "code",
     "collapsed": false,
     "input": [
      "%%brython -o my_container -p\n",
      "print('Hello world!')"
     ],
     "language": "python",
     "metadata": {},
     "outputs": [
      {
       "html": [
        "\n",
        "<script id=\"425663\" type=\"text/python\">\n",
        "## Variables defined in the IPython namespace\n",
        "## End of variables defined in the IPython namespace\n",
        "\n",
        "print('Hello world!')\n",
        "</script>\n",
        "<script type=\"text/javascript\">brython({debug:1, py_id:'425663'});</script>\n",
        "<div id=\"my_container\"></div>\n"
       ],
       "metadata": {},
       "output_type": "display_data",
       "text": [
        "<IPython.core.display.HTML at 0x7fbe641ee410>"
       ]
      },
      {
       "output_type": "stream",
       "stream": "stdout",
       "text": [
        "\n",
        "<script id=\"425663\" type=\"text/python\">\n",
        "## Variables defined in the IPython namespace\n",
        "## End of variables defined in the IPython namespace\n",
        "\n",
        "print('Hello world!')\n",
        "</script>\n",
        "<script type=\"text/javascript\">brython({debug:1, py_id:'425663'});</script>\n",
        "<div id=\"my_container\"></div>\n",
        "\n"
       ]
      }
     ],
     "prompt_number": 5
    },
    {
     "cell_type": "markdown",
     "metadata": {},
     "source": [
      "In this last usage example you can see how the data are passed to brython from python:"
     ]
    },
    {
     "cell_type": "code",
     "collapsed": false,
     "input": [
      "data_list = [1,2,3,4]\n",
      "\n",
      "data_tuple = (1,2,3,4)\n",
      "\n",
      "data_dict = {'one': 1, 'two': 2}\n",
      "\n",
      "data_str = \"\"\"\n",
      "Hello\n",
      "GoodBye\n",
      "\"\"\"\n",
      "\n",
      "# A numpy array can be converted to a list and you will obtain a brython list\n",
      "import numpy as np\n",
      "data_arr = np.empty((3,2))\n",
      "data_arr = data_arr.tolist()"
     ],
     "language": "python",
     "metadata": {},
     "outputs": [],
     "prompt_number": 6
    },
    {
     "cell_type": "code",
     "collapsed": false,
     "input": [
      "%%brython -o p2b_data_example -i data_list,data_tuple,data_dict,data_str,data_arr\n",
      "from browser import doc, html\n",
      "\n",
      "doc[\"p2b_data_example\"] <= html.P(str(data_list))\n",
      "doc[\"p2b_data_example\"] <= html.P(str(type(data_list)))\n",
      "\n",
      "doc[\"p2b_data_example\"] <= html.P(str(data_tuple))\n",
      "doc[\"p2b_data_example\"] <= html.P(str(type(data_tuple)))\n",
      "\n",
      "doc[\"p2b_data_example\"] <= html.P(str(data_dict))\n",
      "doc[\"p2b_data_example\"] <= html.P(str(type(data_dict)))\n",
      "\n",
      "doc[\"p2b_data_example\"] <= html.P(data_str.replace('Hello', 'Hi'))\n",
      "doc[\"p2b_data_example\"] <= html.P(str(type(data_str)))\n",
      "\n",
      "doc[\"p2b_data_example\"] <= html.P(str(data_arr))\n",
      "doc[\"p2b_data_example\"] <= html.P(str(type(data_arr)))"
     ],
     "language": "python",
     "metadata": {},
     "outputs": [
      {
       "html": [
        "\n",
        "<script id=\"674789\" type=\"text/python\">\n",
        "## Variables defined in the IPython namespace\n",
        "data_arr = [[6.9394402292397e-310, 6.9394402292397e-310], [4.7911245e-317, 4.791504e-317], [4.791504e-317, 4.7914407e-317]]\n",
        "data_list = [1, 2, 3, 4]\n",
        "data_dict = {\"one\": 1, \"two\": 2}\n",
        "data_tuple = tuple([1, 2, 3, 4])\n",
        "data_str = \"\\nHello\\nGoodBye\\n\"\n",
        "## End of variables defined in the IPython namespace\n",
        "\n",
        "from browser import doc, html\n",
        "\n",
        "doc[\"p2b_data_example\"] <= html.P(str(data_list))\n",
        "doc[\"p2b_data_example\"] <= html.P(str(type(data_list)))\n",
        "\n",
        "doc[\"p2b_data_example\"] <= html.P(str(data_tuple))\n",
        "doc[\"p2b_data_example\"] <= html.P(str(type(data_tuple)))\n",
        "\n",
        "doc[\"p2b_data_example\"] <= html.P(str(data_dict))\n",
        "doc[\"p2b_data_example\"] <= html.P(str(type(data_dict)))\n",
        "\n",
        "doc[\"p2b_data_example\"] <= html.P(data_str.replace('Hello', 'Hi'))\n",
        "doc[\"p2b_data_example\"] <= html.P(str(type(data_str)))\n",
        "\n",
        "doc[\"p2b_data_example\"] <= html.P(str(data_arr))\n",
        "doc[\"p2b_data_example\"] <= html.P(str(type(data_arr)))\n",
        "</script>\n",
        "<script type=\"text/javascript\">brython({debug:1, py_id:'674789'});</script>\n",
        "<div id=\"p2b_data_example\"></div>\n"
       ],
       "metadata": {},
       "output_type": "display_data",
       "text": [
        "<IPython.core.display.HTML at 0x7fbe641b0f50>"
       ]
      }
     ],
     "prompt_number": 7
    },
    {
     "cell_type": "markdown",
     "metadata": {},
     "source": [
      "To see the use of the `-l`, `--libs` option you can see the **'Interaction with other javascript libraries: D3.js'** example below."
     ]
    },
    {
     "cell_type": "heading",
     "level": 1,
     "metadata": {},
     "source": [
      "How to use Brython in the IPython notebook"
     ]
    },
    {
     "cell_type": "markdown",
     "metadata": {},
     "source": [
      "First step should be to learn the brython documentation. You can find the docs here:\n",
      "\n",
      "http://brython.info/doc/en/index.html?lang=en\n",
      "\n",
      "In the following section I will show you some dummy examples."
     ]
    },
    {
     "cell_type": "heading",
     "level": 2,
     "metadata": {},
     "source": [
      "Hello world example"
     ]
    },
    {
     "cell_type": "markdown",
     "metadata": {},
     "source": [
      "In this example let's see how to pop up an alert window. This could be an standard 'Hello world!' example in the Brython world."
     ]
    },
    {
     "cell_type": "code",
     "collapsed": false,
     "input": [
      "%%brython\n",
      "from browser import alert\n",
      "\n",
      "alert('Hello world!, Welcome to the brythonmagic!')"
     ],
     "language": "python",
     "metadata": {},
     "outputs": [
      {
       "html": [
        "\n",
        "<script id=\"107590\" type=\"text/python\">\n",
        "## Variables defined in the IPython namespace\n",
        "## End of variables defined in the IPython namespace\n",
        "\n",
        "from browser import alert\n",
        "\n",
        "alert('Hello world!, Welcome to the brythonmagic!')\n",
        "</script>\n",
        "<script type=\"text/javascript\">brython({debug:1, py_id:'107590'});</script>\n",
        "<div id=\"brython_container_107590\"></div>\n"
       ],
       "metadata": {},
       "output_type": "display_data",
       "text": [
        "<IPython.core.display.HTML at 0x7fbe641b0f10>"
       ]
      }
     ],
     "prompt_number": 8
    },
    {
     "cell_type": "heading",
     "level": 2,
     "metadata": {},
     "source": [
      "Simple example, writing some numbers in the `div` container"
     ]
    },
    {
     "cell_type": "markdown",
     "metadata": {},
     "source": [
      "In this example we just write inside a `<div>` ten numbers using a `<P>` tag for each number.\n",
      "\n",
      "[HINT] To see the line numbers in the code cell just go to the cell and press **`<CTRL>-m`** and then **`l`**.\n",
      "\n",
      "* Line 2: We import the libraries to use\n",
      "* Line 4: A for loop :-P\n",
      "* Line 10: We create a `P` tag and write the value of `i` inside. Finally, add the `P` element to the selected `div`, in this case the `div` with \"simple_example\" `id` attribute."
     ]
    },
    {
     "cell_type": "code",
     "collapsed": false,
     "input": [
      "%%brython -o simple_example\n",
      "from browser import doc, html\n",
      "\n",
      "for i in range(10):\n",
      "    doc[\"simple_example\"] <= html.P(i)"
     ],
     "language": "python",
     "metadata": {},
     "outputs": [
      {
       "html": [
        "\n",
        "<script id=\"692809\" type=\"text/python\">\n",
        "## Variables defined in the IPython namespace\n",
        "## End of variables defined in the IPython namespace\n",
        "\n",
        "from browser import doc, html\n",
        "\n",
        "for i in range(10):\n",
        "    doc[\"simple_example\"] <= html.P(i)\n",
        "</script>\n",
        "<script type=\"text/javascript\">brython({debug:1, py_id:'692809'});</script>\n",
        "<div id=\"simple_example\"></div>\n"
       ],
       "metadata": {},
       "output_type": "display_data",
       "text": [
        "<IPython.core.display.HTML at 0x7fbe66a76e10>"
       ]
      }
     ],
     "prompt_number": 9
    },
    {
     "cell_type": "heading",
     "level": 2,
     "metadata": {},
     "source": [
      "A more useful example: A multiplication table"
     ]
    },
    {
     "cell_type": "markdown",
     "metadata": {},
     "source": [
      "In the following cell we create a multiplication table. First, we create a `table` tag. We append the table rows and cells (`TR` and `TD` tags) and, finally, we append the final table to the `div` with \"table\" `id` attribute."
     ]
    },
    {
     "cell_type": "code",
     "collapsed": false,
     "input": [
      "%%brython -o table\n",
      "from browser import doc, html\n",
      "\n",
      "table = html.TABLE()\n",
      "\n",
      "for i in range(10):\n",
      "    color = ['cyan','#dddddd'] * 5\n",
      "    table <= html.TR(\n",
      "                     html.TD(str(i+1) + ' x 2 =', style = {'backgroundColor':color[i]}) + \n",
      "                     html.TD((i+1)*2, style = {'backgroundColor':color[i]}))\n",
      "doc['table'] <= table"
     ],
     "language": "python",
     "metadata": {},
     "outputs": [
      {
       "html": [
        "\n",
        "<script id=\"16643\" type=\"text/python\">\n",
        "## Variables defined in the IPython namespace\n",
        "## End of variables defined in the IPython namespace\n",
        "\n",
        "from browser import doc, html\n",
        "\n",
        "table = html.TABLE()\n",
        "\n",
        "for i in range(10):\n",
        "    color = ['cyan','#dddddd'] * 5\n",
        "    table <= html.TR(\n",
        "                     html.TD(str(i+1) + ' x 2 =', style = {'backgroundColor':color[i]}) + \n",
        "                     html.TD((i+1)*2, style = {'backgroundColor':color[i]}))\n",
        "doc['table'] <= table\n",
        "</script>\n",
        "<script type=\"text/javascript\">brython({debug:1, py_id:'16643'});</script>\n",
        "<div id=\"table\"></div>\n"
       ],
       "metadata": {},
       "output_type": "display_data",
       "text": [
        "<IPython.core.display.HTML at 0x7fbe641b50d0>"
       ]
      }
     ],
     "prompt_number": 10
    },
    {
     "cell_type": "heading",
     "level": 2,
     "metadata": {},
     "source": [
      "Let's add some animation using HTML5 canvas technology..."
     ]
    },
    {
     "cell_type": "markdown",
     "metadata": {},
     "source": [
      "In the following example we draw a shape using the HTML5 `canvas`. Also, we add some controls to stop and animate the shape. The example has been adapted from the javascript example available [here](http://www.paulirish.com/2011/requestanimationframe-for-smart-animating/)."
     ]
    },
    {
     "cell_type": "code",
     "collapsed": false,
     "input": [
      "%%brython -o canvas_example\n",
      "from browser.timer import request_animation_frame as raf\n",
      "from browser.timer import cancel_animation_frame as caf\n",
      "from browser import doc, html\n",
      "from time import time\n",
      "import math\n",
      "\n",
      "# First we create a table to insert the elements\n",
      "table = html.TABLE(cellpadding = 10)\n",
      "btn_anim = html.BUTTON('Animate', Id=\"btn-anim\", type=\"button\")\n",
      "btn_stop = html.BUTTON('Stop', Id=\"btn-stop\", type=\"button\")\n",
      "cnvs = html.CANVAS(Id=\"raf-canvas\", width=256, height=256)\n",
      "\n",
      "table <= html.TR(html.TD(btn_anim + btn_stop) +\n",
      "                 html.TD(cnvs))\n",
      "\n",
      "doc['canvas_example'] <= table\n",
      "# Now we access the canvas context\n",
      "ctx = doc['raf-canvas'].getContext( '2d' ) \n",
      "\n",
      "# And we create several functions in charge to animate and stop the draw animation\n",
      "toggle = True\n",
      "\n",
      "def draw():\n",
      "    t = time() * 3\n",
      "    x = math.sin(t) * 96 + 128\n",
      "    y = math.cos(t * 0.9) * 96 + 128\n",
      "    global toggle\n",
      "    if toggle:\n",
      "        toggle = False\n",
      "    else:\n",
      "        toggle = True\n",
      "    ctx.fillStyle = 'rgb(200,200,20)' if toggle else 'rgb(20,20,200)'\n",
      "    ctx.beginPath()\n",
      "    ctx.arc( x, y, 6, 0, math.pi * 2, True)\n",
      "    ctx.closePath()\n",
      "    ctx.fill()\n",
      "\n",
      "def animate(i):\n",
      "    global id\n",
      "    id = raf(animate)\n",
      "    draw()\n",
      "\n",
      "def stop(i):\n",
      "    print(id)\n",
      "    caf(id)\n",
      "\n",
      "doc[\"btn-anim\"].bind(\"click\", animate)\n",
      "doc[\"btn-stop\"].bind(\"click\", stop)"
     ],
     "language": "python",
     "metadata": {},
     "outputs": [
      {
       "html": [
        "\n",
        "<script id=\"909784\" type=\"text/python\">\n",
        "## Variables defined in the IPython namespace\n",
        "## End of variables defined in the IPython namespace\n",
        "\n",
        "from browser.timer import request_animation_frame as raf\n",
        "from browser.timer import cancel_animation_frame as caf\n",
        "from browser import doc, html\n",
        "from time import time\n",
        "import math\n",
        "\n",
        "# First we create a table to insert the elements\n",
        "table = html.TABLE(cellpadding = 10)\n",
        "btn_anim = html.BUTTON('Animate', Id=\"btn-anim\", type=\"button\")\n",
        "btn_stop = html.BUTTON('Stop', Id=\"btn-stop\", type=\"button\")\n",
        "cnvs = html.CANVAS(Id=\"raf-canvas\", width=256, height=256)\n",
        "\n",
        "table <= html.TR(html.TD(btn_anim + btn_stop) +\n",
        "                 html.TD(cnvs))\n",
        "\n",
        "doc['canvas_example'] <= table\n",
        "# Now we access the canvas context\n",
        "ctx = doc['raf-canvas'].getContext( '2d' ) \n",
        "\n",
        "# And we create several functions in charge to animate and stop the draw animation\n",
        "toggle = True\n",
        "\n",
        "def draw():\n",
        "    t = time() * 3\n",
        "    x = math.sin(t) * 96 + 128\n",
        "    y = math.cos(t * 0.9) * 96 + 128\n",
        "    global toggle\n",
        "    if toggle:\n",
        "        toggle = False\n",
        "    else:\n",
        "        toggle = True\n",
        "    ctx.fillStyle = 'rgb(200,200,20)' if toggle else 'rgb(20,20,200)'\n",
        "    ctx.beginPath()\n",
        "    ctx.arc( x, y, 6, 0, math.pi * 2, True)\n",
        "    ctx.closePath()\n",
        "    ctx.fill()\n",
        "\n",
        "def animate(i):\n",
        "    global id\n",
        "    id = raf(animate)\n",
        "    draw()\n",
        "\n",
        "def stop(i):\n",
        "    print(id)\n",
        "    caf(id)\n",
        "\n",
        "doc[\"btn-anim\"].bind(\"click\", animate)\n",
        "doc[\"btn-stop\"].bind(\"click\", stop)\n",
        "</script>\n",
        "<script type=\"text/javascript\">brython({debug:1, py_id:'909784'});</script>\n",
        "<div id=\"canvas_example\"></div>\n"
       ],
       "metadata": {},
       "output_type": "display_data",
       "text": [
        "<IPython.core.display.HTML at 0x7fbe66a7e450>"
       ]
      }
     ],
     "prompt_number": 11
    },
    {
     "cell_type": "heading",
     "level": 2,
     "metadata": {},
     "source": [
      "Interaction with other javascript libraries: D3.js"
     ]
    },
    {
     "cell_type": "markdown",
     "metadata": {},
     "source": [
      "In Brython there is a javascript library that allows to access objects available in the javascript namespace. In this example we are using a javascript object (D3.js library) from Brython."
     ]
    },
    {
     "cell_type": "code",
     "collapsed": false,
     "input": [
      "%%brython -o simple_d3 -l http://d3js.org/d3.v2.js\n",
      "from browser import win, doc, html\n",
      "from javascript import JSObject\n",
      "\n",
      "container = JSObject(d3.select(\"#simple_d3\"))\n",
      "svg = container.append(\"svg\").attr(\"width\", 100).attr(\"height\", 100)\n",
      "circle1 = svg.append(\"circle\").style(\"stroke\", \"gray\").style(\"fill\", \"gray\").attr(\"r\", 40)\n",
      "circle1.attr(\"cx\", 50).attr(\"cy\", 50).attr(\"id\", \"mycircle\")\n",
      "\n",
      "circle2 = svg.append(\"circle\").style(\"stroke\", \"gray\").style(\"fill\", \"white\").attr(\"r\", 20)\n",
      "circle2.attr(\"cx\", 50).attr(\"cy\", 50)\n",
      "\n",
      "def over(ev):\n",
      "    doc[\"mycircle\"].style.fill = \"blue\"\n",
      "\n",
      "def out(ev):\n",
      "    doc[\"mycircle\"].style.fill = \"gray\"\n",
      "\n",
      "doc[\"mycircle\"].bind(\"mouseover\", over)\n",
      "doc[\"mycircle\"].bind(\"mouseout\", out)\n",
      "\n",
      "#circle.on(\"mouseover\", over) #THIS DOESN'T WORK\n",
      "#circle.on(\"mouseout\", out)   #THIS DOESN'T WORK"
     ],
     "language": "python",
     "metadata": {},
     "outputs": [
      {
       "html": [
        "<!-- third party js libs -->\n",
        "<script type=\"text/javascript\">\n",
        "$.getScript(\"http://d3js.org/d3.v2.js\")\n",
        "</script>\n",
        "<!-- End of 3rd party js libs -->\n",
        "\n",
        "<script id=\"82365\" type=\"text/python\">\n",
        "## Variables defined in the IPython namespace\n",
        "## End of variables defined in the IPython namespace\n",
        "\n",
        "from browser import win, doc, html\n",
        "from javascript import JSObject\n",
        "\n",
        "container = JSObject(d3.select(\"#simple_d3\"))\n",
        "svg = container.append(\"svg\").attr(\"width\", 100).attr(\"height\", 100)\n",
        "circle1 = svg.append(\"circle\").style(\"stroke\", \"gray\").style(\"fill\", \"gray\").attr(\"r\", 40)\n",
        "circle1.attr(\"cx\", 50).attr(\"cy\", 50).attr(\"id\", \"mycircle\")\n",
        "\n",
        "circle2 = svg.append(\"circle\").style(\"stroke\", \"gray\").style(\"fill\", \"white\").attr(\"r\", 20)\n",
        "circle2.attr(\"cx\", 50).attr(\"cy\", 50)\n",
        "\n",
        "def over(ev):\n",
        "    doc[\"mycircle\"].style.fill = \"blue\"\n",
        "\n",
        "def out(ev):\n",
        "    doc[\"mycircle\"].style.fill = \"gray\"\n",
        "\n",
        "doc[\"mycircle\"].bind(\"mouseover\", over)\n",
        "doc[\"mycircle\"].bind(\"mouseout\", out)\n",
        "\n",
        "#circle.on(\"mouseover\", over) #THIS DOESN'T WORK\n",
        "#circle.on(\"mouseout\", out)   #THIS DOESN'T WORK\n",
        "</script>\n",
        "<script type=\"text/javascript\">brython({debug:1, py_id:'82365'});</script>\n",
        "<div id=\"simple_d3\"></div>\n"
       ],
       "metadata": {},
       "output_type": "display_data",
       "text": [
        "<IPython.core.display.HTML at 0x7fbe641b5050>"
       ]
      }
     ],
     "prompt_number": 12
    },
    {
     "cell_type": "heading",
     "level": 2,
     "metadata": {},
     "source": [
      "Manipulating the IPython notebook"
     ]
    },
    {
     "cell_type": "markdown",
     "metadata": {},
     "source": [
      "An example to hide or show the code cells using a button."
     ]
    },
    {
     "cell_type": "code",
     "collapsed": false,
     "input": [
      "%%brython -o manipulating\n",
      "from browser import doc, html\n",
      "\n",
      "def hide(ev):\n",
      "    divs = doc.get(selector = 'div.input')\n",
      "    for div in divs:\n",
      "        div.style.display = \"none\"\n",
      "\n",
      "def show(ev):\n",
      "    divs = doc.get(selector = 'div.input')\n",
      "    for div in divs:\n",
      "        div.style.display = \"inherit\"\n",
      "\n",
      "doc[\"manipulating\"] <= html.BUTTON('Hide code cells', Id=\"btn-hide\")\n",
      "doc[\"btn-hide\"].bind(\"click\", hide)\n",
      "\n",
      "doc[\"manipulating\"] <= html.BUTTON('Show code cells', Id=\"btn-show\")\n",
      "doc[\"btn-show\"].bind(\"click\", show)"
     ],
     "language": "python",
     "metadata": {},
     "outputs": [
      {
       "html": [
        "\n",
        "<script id=\"676895\" type=\"text/python\">\n",
        "## Variables defined in the IPython namespace\n",
        "## End of variables defined in the IPython namespace\n",
        "\n",
        "from browser import doc, html\n",
        "\n",
        "def hide(ev):\n",
        "    divs = doc.get(selector = 'div.input')\n",
        "    for div in divs:\n",
        "        div.style.display = \"none\"\n",
        "\n",
        "def show(ev):\n",
        "    divs = doc.get(selector = 'div.input')\n",
        "    for div in divs:\n",
        "        div.style.display = \"inherit\"\n",
        "\n",
        "doc[\"manipulating\"] <= html.BUTTON('Hide code cells', Id=\"btn-hide\")\n",
        "doc[\"btn-hide\"].bind(\"click\", hide)\n",
        "\n",
        "doc[\"manipulating\"] <= html.BUTTON('Show code cells', Id=\"btn-show\")\n",
        "doc[\"btn-show\"].bind(\"click\", show)\n",
        "</script>\n",
        "<script type=\"text/javascript\">brython({debug:1, py_id:'676895'});</script>\n",
        "<div id=\"manipulating\"></div>\n"
       ],
       "metadata": {},
       "output_type": "display_data",
       "text": [
        "<IPython.core.display.HTML at 0x7fbe641b0f10>"
       ]
      }
     ],
     "prompt_number": 13
    },
    {
     "cell_type": "heading",
     "level": 2,
     "metadata": {},
     "source": [
      "A more complete d3 example calculating things in Python and drawing results in Brython using D3.js"
     ]
    },
    {
     "cell_type": "markdown",
     "metadata": {},
     "source": [
      "A more complete D3 example."
     ]
    },
    {
     "cell_type": "code",
     "collapsed": false,
     "input": [
      "from random import randint\n",
      "\n",
      "n = 50\n",
      "x = [randint(0,500) for i in range(n)]\n",
      "y = [randint(0,300) for i in range(n)]\n",
      "r = [randint(25,50) for i in range(n)]\n",
      "red = [randint(0,255) for i in range(n)]\n",
      "green = [randint(0,255) for i in range(n)]\n",
      "blue = [randint(0,255) for i in range(n)]"
     ],
     "language": "python",
     "metadata": {},
     "outputs": [],
     "prompt_number": 14
    },
    {
     "cell_type": "code",
     "collapsed": false,
     "input": [
      "%%brython -o other_d3 -l http://d3js.org/d3.v2.js -i x,y,r,red,green,blue\n",
      "from browser import win, doc, html\n",
      "from javascript import JSObject\n",
      "\n",
      "WIDTH = 500\n",
      "HEIGHT = 300\n",
      "\n",
      "container = JSObject(d3.select(\"#other_d3\"))\n",
      "svg = container.append(\"svg\").attr(\"width\", WIDTH).attr(\"height\", HEIGHT)\n",
      "\n",
      "class AddShapes:\n",
      "    def __init__(self, x, y, r, red, green, blue, shape = \"circle\", interactive = True):\n",
      "        self.shape = shape\n",
      "        self.interactive = interactive\n",
      "        self._color = \"gray\"\n",
      "        self.add(x, y, r, red, green, blue)\n",
      "\n",
      "    def over(self, ev):\n",
      "        self._color = ev.target.style.fill\n",
      "        doc[ev.target.id].style.fill = \"white\"\n",
      "        \n",
      "    def out(self, ev):\n",
      "        doc[ev.target.id].style.fill = self._color\n",
      "    \n",
      "    def add(self, x, y, r, red, green, blue):\n",
      "        for i in range(len(x)):\n",
      "            self.idx = self.shape + '_' + str(i) \n",
      "            self._color = \"rgb(%s,%s,%s)\" % (red[i], green[i], blue[i])\n",
      "            shaped = svg.append(self.shape).style(\"stroke\", \"gray\").style(\"fill\", self._color).attr(\"r\", r[i])\n",
      "            shaped.attr(\"cx\", x[i]).attr(\"cy\", y[i]).attr(\"id\", self.idx)\n",
      "            if self.interactive:\n",
      "                doc[self.idx].bind(\"mouseover\", self.over)\n",
      "                doc[self.idx].bind(\"mouseout\", self.out)\n",
      "\n",
      "plot = AddShapes(x, y, r, red, green, blue, interactive = True)"
     ],
     "language": "python",
     "metadata": {},
     "outputs": [
      {
       "html": [
        "<!-- third party js libs -->\n",
        "<script type=\"text/javascript\">\n",
        "$.getScript(\"http://d3js.org/d3.v2.js\")\n",
        "</script>\n",
        "<!-- End of 3rd party js libs -->\n",
        "\n",
        "<script id=\"88827\" type=\"text/python\">\n",
        "## Variables defined in the IPython namespace\n",
        "r = [29, 49, 34, 25, 37, 41, 44, 50, 31, 44, 33, 44, 26, 32, 34, 45, 45, 39, 40, 34, 46, 35, 30, 27, 30, 31, 29, 32, 50, 47, 33, 50, 50, 29, 27, 43, 45, 34, 31, 49, 39, 45, 28, 34, 50, 40, 26, 44, 33, 26]\n",
        "red = [92, 105, 252, 215, 39, 182, 32, 202, 102, 163, 115, 231, 242, 241, 192, 115, 180, 204, 87, 65, 18, 29, 33, 78, 124, 172, 244, 77, 244, 151, 19, 164, 112, 41, 24, 169, 129, 196, 72, 4, 97, 11, 165, 24, 8, 45, 59, 183, 109, 7]\n",
        "green = [111, 73, 204, 126, 168, 39, 117, 149, 187, 134, 28, 166, 0, 72, 139, 84, 68, 152, 77, 156, 134, 116, 171, 174, 163, 26, 214, 242, 103, 14, 104, 214, 120, 6, 60, 16, 2, 174, 194, 56, 7, 202, 73, 14, 132, 167, 34, 37, 72, 122]\n",
        "x = [264, 201, 295, 44, 268, 66, 27, 288, 317, 190, 426, 474, 409, 452, 488, 46, 231, 249, 288, 206, 214, 426, 492, 314, 383, 471, 315, 406, 460, 231, 387, 117, 372, 229, 95, 339, 413, 324, 77, 377, 336, 20, 183, 125, 319, 180, 268, 125, 444, 71]\n",
        "y = [40, 63, 11, 280, 54, 218, 225, 261, 64, 194, 228, 170, 237, 113, 117, 276, 223, 90, 241, 199, 59, 7, 160, 181, 189, 229, 168, 134, 47, 258, 41, 300, 54, 72, 59, 221, 121, 150, 252, 223, 203, 123, 229, 167, 184, 193, 258, 61, 275, 277]\n",
        "blue = [237, 66, 85, 135, 137, 157, 169, 105, 103, 156, 118, 12, 133, 124, 170, 29, 35, 72, 77, 63, 18, 185, 82, 105, 231, 171, 181, 96, 221, 173, 33, 206, 60, 200, 41, 104, 198, 245, 147, 130, 224, 96, 157, 97, 244, 148, 107, 229, 133, 83]\n",
        "## End of variables defined in the IPython namespace\n",
        "\n",
        "from browser import win, doc, html\n",
        "from javascript import JSObject\n",
        "\n",
        "WIDTH = 500\n",
        "HEIGHT = 300\n",
        "\n",
        "container = JSObject(d3.select(\"#other_d3\"))\n",
        "svg = container.append(\"svg\").attr(\"width\", WIDTH).attr(\"height\", HEIGHT)\n",
        "\n",
        "class AddShapes:\n",
        "    def __init__(self, x, y, r, red, green, blue, shape = \"circle\", interactive = True):\n",
        "        self.shape = shape\n",
        "        self.interactive = interactive\n",
        "        self._color = \"gray\"\n",
        "        self.add(x, y, r, red, green, blue)\n",
        "\n",
        "    def over(self, ev):\n",
        "        self._color = ev.target.style.fill\n",
        "        doc[ev.target.id].style.fill = \"white\"\n",
        "        \n",
        "    def out(self, ev):\n",
        "        doc[ev.target.id].style.fill = self._color\n",
        "    \n",
        "    def add(self, x, y, r, red, green, blue):\n",
        "        for i in range(len(x)):\n",
        "            self.idx = self.shape + '_' + str(i) \n",
        "            self._color = \"rgb(%s,%s,%s)\" % (red[i], green[i], blue[i])\n",
        "            shaped = svg.append(self.shape).style(\"stroke\", \"gray\").style(\"fill\", self._color).attr(\"r\", r[i])\n",
        "            shaped.attr(\"cx\", x[i]).attr(\"cy\", y[i]).attr(\"id\", self.idx)\n",
        "            if self.interactive:\n",
        "                doc[self.idx].bind(\"mouseover\", self.over)\n",
        "                doc[self.idx].bind(\"mouseout\", self.out)\n",
        "\n",
        "plot = AddShapes(x, y, r, red, green, blue, interactive = True)\n",
        "</script>\n",
        "<script type=\"text/javascript\">brython({debug:1, py_id:'88827'});</script>\n",
        "<div id=\"other_d3\"></div>\n"
       ],
       "metadata": {},
       "output_type": "display_data",
       "text": [
        "<IPython.core.display.HTML at 0x7fbe66a7e250>"
       ]
      }
     ],
     "prompt_number": 15
    },
    {
     "cell_type": "heading",
     "level": 2,
     "metadata": {},
     "source": [
      "Mapping with Python in the IPython notebook using OpenLayers?"
     ]
    },
    {
     "cell_type": "markdown",
     "metadata": {},
     "source": [
      "In the following example we will use OpenLayers to center a map in a specific location, with a zoom and a projection and then we will draw some vector points around the location."
     ]
    },
    {
     "cell_type": "code",
     "collapsed": false,
     "input": [
      "%%brython -o ol_map -l http://openlayers.org/api/OpenLayers.js\n",
      "from browser import doc\n",
      "from javascript import JSConstructor, JSObject\n",
      "\n",
      "## Div layout\n",
      "doc['ol_map'].style.width = \"500px\"\n",
      "doc['ol_map'].style.height = \"300px\"\n",
      "doc['ol_map'].style.border = \"1px solid black\"\n",
      "\n",
      "## Map\n",
      "_map = JSConstructor(OpenLayers.Map)('ol_map')\n",
      "\n",
      "## Addition of a OpenStreetMap layer\n",
      "_layer = JSConstructor(OpenLayers.Layer.OSM)( 'Simple OSM map')\n",
      "_map.addLayer(_layer)\n",
      "\n",
      "## Map centered on Lon, Lat = (-3.671416, 40.435897) and a zoom = 14\n",
      "## with a projection = \"EPSG:4326\" (Lat-Lon WGS84)\n",
      "_proj = JSConstructor(OpenLayers.Projection)(\"EPSG:4326\")\n",
      "_center = JSConstructor(OpenLayers.LonLat)(-3.671416, 40.435897)\n",
      "_center.transform(_proj, _map.getProjectionObject())\n",
      "_map.setCenter(_center, 14)\n",
      "\n",
      "## Addition of some points around the defined location\n",
      "lons = [-3.670, -3.671, -3.672, -3.672, -3.672,\n",
      "        -3.671, -3.670, -3.670]\n",
      "lats = [40.435, 40.435, 40.435, 40.436, 40.437,\n",
      "        40.437, 40.437, 40.436]\n",
      "\n",
      "site_points = []\n",
      "site_style = {}\n",
      "\n",
      "points_layer = JSConstructor(OpenLayers.Layer.Vector)(\"Point Layer\")\n",
      "_map.addLayer(points_layer)\n",
      "\n",
      "for lon, lat in zip(lons, lats):\n",
      "    point = JSConstructor(OpenLayers.Geometry.Point)(lon, lat)\n",
      "    point.transform(_proj, _map.getProjectionObject())\n",
      "    _feat = JSConstructor(OpenLayers.Feature.Vector)(point)\n",
      "    points_layer.addFeatures(_feat)"
     ],
     "language": "python",
     "metadata": {},
     "outputs": [
      {
       "html": [
        "<!-- third party js libs -->\n",
        "<script type=\"text/javascript\">\n",
        "$.getScript(\"http://openlayers.org/api/OpenLayers.js\")\n",
        "</script>\n",
        "<!-- End of 3rd party js libs -->\n",
        "\n",
        "<script id=\"224107\" type=\"text/python\">\n",
        "## Variables defined in the IPython namespace\n",
        "## End of variables defined in the IPython namespace\n",
        "\n",
        "from browser import doc\n",
        "from javascript import JSConstructor, JSObject\n",
        "\n",
        "## Div layout\n",
        "doc['ol_map'].style.width = \"500px\"\n",
        "doc['ol_map'].style.height = \"300px\"\n",
        "doc['ol_map'].style.border = \"1px solid black\"\n",
        "\n",
        "## Map\n",
        "_map = JSConstructor(OpenLayers.Map)('ol_map')\n",
        "\n",
        "## Addition of a OpenStreetMap layer\n",
        "_layer = JSConstructor(OpenLayers.Layer.OSM)( 'Simple OSM map')\n",
        "_map.addLayer(_layer)\n",
        "\n",
        "## Map centered on Lon, Lat = (-3.671416, 40.435897) and a zoom = 14\n",
        "## with a projection = \"EPSG:4326\" (Lat-Lon WGS84)\n",
        "_proj = JSConstructor(OpenLayers.Projection)(\"EPSG:4326\")\n",
        "_center = JSConstructor(OpenLayers.LonLat)(-3.671416, 40.435897)\n",
        "_center.transform(_proj, _map.getProjectionObject())\n",
        "_map.setCenter(_center, 14)\n",
        "\n",
        "## Addition of some points around the defined location\n",
        "lons = [-3.670, -3.671, -3.672, -3.672, -3.672,\n",
        "        -3.671, -3.670, -3.670]\n",
        "lats = [40.435, 40.435, 40.435, 40.436, 40.437,\n",
        "        40.437, 40.437, 40.436]\n",
        "\n",
        "site_points = []\n",
        "site_style = {}\n",
        "\n",
        "points_layer = JSConstructor(OpenLayers.Layer.Vector)(\"Point Layer\")\n",
        "_map.addLayer(points_layer)\n",
        "\n",
        "for lon, lat in zip(lons, lats):\n",
        "    point = JSConstructor(OpenLayers.Geometry.Point)(lon, lat)\n",
        "    point.transform(_proj, _map.getProjectionObject())\n",
        "    _feat = JSConstructor(OpenLayers.Feature.Vector)(point)\n",
        "    points_layer.addFeatures(_feat)\n",
        "</script>\n",
        "<script type=\"text/javascript\">brython({debug:1, py_id:'224107'});</script>\n",
        "<div id=\"ol_map\"></div>\n"
       ],
       "metadata": {},
       "output_type": "display_data",
       "text": [
        "<IPython.core.display.HTML at 0x7fbe64197610>"
       ]
      }
     ],
     "prompt_number": 18
    }
   ],
   "metadata": {}
  }
 ]
}