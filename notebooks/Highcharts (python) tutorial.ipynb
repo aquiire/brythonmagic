{
 "metadata": {
  "name": "",
  "signature": "sha256:71de9c2fb713d9e3bedf7e514344f45cc35ef33689d964f68bc7aeb75f9cc503"
 },
 "nbformat": 3,
 "nbformat_minor": 0,
 "worksheets": [
  {
   "cells": [
    {
     "cell_type": "heading",
     "level": 1,
     "metadata": {},
     "source": [
      "First step"
     ]
    },
    {
     "cell_type": "markdown",
     "metadata": {},
     "source": [
      "In this tutorial we will use [Brython](http://brython.info/), an implementation of Python written in javascript and Python, to access the Highcharts javascript library and to manage the data to be used in the maps. To integrate Brython in the IPython notebook we are using an extension for the notebook called [brythonmagic](https://github.com/kikocorreoso/brythonmagic) that provides a new magic cell, <code style=\"background-color: cyan;\">**%%brython**</code>, that allow us to write and execute Brython code in the notebook."
     ]
    },
    {
     "cell_type": "heading",
     "level": 2,
     "metadata": {},
     "source": [
      "Installation of the brythonmagic IPython extension"
     ]
    },
    {
     "cell_type": "markdown",
     "metadata": {},
     "source": [
      "As stated before, we will use [Brython](http://www.brython.info), and [brythonmagic](https://github.com/kikocorreoso/brythonmagic) so first of all we need to load the extension and the Brython library.\n",
      "\n",
      "So, let's load the extension:"
     ]
    },
    {
     "cell_type": "code",
     "collapsed": false,
     "input": [
      "%install_ext https://raw.github.com/kikocorreoso/brythonmagic/master/brythonmagic.py"
     ],
     "language": "python",
     "metadata": {},
     "outputs": [
      {
       "output_type": "stream",
       "stream": "stdout",
       "text": [
        "Installed brythonmagic.py. To use it, type:\n",
        "  %load_ext brythonmagic\n"
       ]
      }
     ],
     "prompt_number": 2
    },
    {
     "cell_type": "code",
     "collapsed": false,
     "input": [
      "%load_ext brythonmagic"
     ],
     "language": "python",
     "metadata": {},
     "outputs": [],
     "prompt_number": 1
    },
    {
     "cell_type": "markdown",
     "metadata": {},
     "source": [
      "And the brython js lib:"
     ]
    },
    {
     "cell_type": "code",
     "collapsed": false,
     "input": [
      "%%html\n",
      "<script type=\"text/javascript\" src=\"http://www.brython.info/src/brython_dist.js\"></script>"
     ],
     "language": "python",
     "metadata": {},
     "outputs": [
      {
       "html": [
        "<script type=\"text/javascript\" src=\"http://www.brython.info/src/brython_dist.js\"></script>"
       ],
       "metadata": {},
       "output_type": "display_data",
       "text": [
        "<IPython.core.display.HTML at 0x7f7c7e489d68>"
       ]
      }
     ],
     "prompt_number": 2
    },
    {
     "cell_type": "markdown",
     "metadata": {},
     "source": [
      "**\\[It is highly recommended that, at least, you read the [brythonmagic docs](https://github.com/kikocorreoso/brythonmagic#usage) to understand what it does. It is also recommended to have a quick look at the [Brython docs](http://www.brython.info/doc/en/index.html)].**"
     ]
    },
    {
     "cell_type": "heading",
     "level": 1,
     "metadata": {},
     "source": [
      "Conventions used in the following tutorial."
     ]
    },
    {
     "cell_type": "markdown",
     "metadata": {},
     "source": [
      "In the following tutorial I will try to follow several conventions to try to make it more readable.\n",
      "\n",
      "Code in cells that are not code cells:\n",
      "\n",
      "\n",
      "* a block of code will appear as follows:\n",
      "\n",
      "```python\n",
      "# This is a block of code\n",
      "print(\"Hello world!\")\n",
      "```\n",
      "\n",
      "\n",
      "* Python/Brython code commented in a line of text will appear as follows, <code style=\"background-color: cyan;\">**this is a piece of Python/Brython code inline with the text**</code>\n",
      "\n",
      "\n",
      "* Javascript code commented in a line of text will appear as follows, <code style=\"background-color: yellow;\">**this is a piece of javascript code inline with the text**</code>\n",
      "\n",
      "\n",
      "* Most of new code used in a code cell will be commented in a paragraph starting with <span style=\"background-color: #90EE90\">**[NEW CODE]**</span>\n",
      "\n",
      "\n",
      "* When the Python and the javascript code is not exactly the same I will try to comment how the code would be in javascript."
     ]
    },
    {
     "cell_type": "heading",
     "level": 1,
     "metadata": {},
     "source": [
      "What is Highcharts?"
     ]
    },
    {
     "cell_type": "markdown",
     "metadata": {},
     "source": [
      "**Highcharts** is an open source, **client side** *JavaScript* library for making **interactive charts**, viewable in nearly any modern web browser. Since it is a client side library, it requires no special server side software or settings \u2014 you can use it without even downloading anything!\n",
      "\n",
      "The website for Highcharts is located at [http://www.highcharts.com/](http://www.highcharts.com/). To begin, we need to [download](http://www.highcharts.com/download) a copy of Highcharts (or, we can directly link to the library \u2014 this is what we will do in the present tutorial). You can download the compressed library as a .zip file.\n",
      "\n",
      "So, before continuing let's load the Highcharts library."
     ]
    },
    {
     "cell_type": "code",
     "collapsed": false,
     "input": [
      "%%HTML\n",
      "<script type=\"text/javascript\" src=\"http://code.highcharts.com/highcharts.js\"></script>\n",
      "<script type=\"text/javascript\" src=\"http://code.highcharts.com/highcharts-more.js\"></script>"
     ],
     "language": "python",
     "metadata": {},
     "outputs": [
      {
       "html": [
        "<script type=\"text/javascript\" src=\"http://code.highcharts.com/highcharts.js\"></script>\n",
        "<script type=\"text/javascript\" src=\"http://code.highcharts.com/highcharts-more.js\"></script>"
       ],
       "metadata": {},
       "output_type": "display_data",
       "text": [
        "<IPython.core.display.HTML at 0x7f7c7674a8d0>"
       ]
      }
     ],
     "prompt_number": 94
    },
    {
     "cell_type": "markdown",
     "metadata": {},
     "source": [
      "In the first file, *highcharts.js* we have most of the functionality of the highcharts library. If we want to access some type of charts like 'arearange', 'bubble',..., we have to add also the second file, *highcharts-more.js*."
     ]
    },
    {
     "cell_type": "heading",
     "level": 2,
     "metadata": {},
     "source": [
      "First example: A simple line chart"
     ]
    },
    {
     "cell_type": "markdown",
     "metadata": {},
     "source": [
      "First we create some simple HTML code. This HTML code will contain our chart. We will not use complicated HTML code during the tutorial to keep it simple and to be focused in *'How to create interactive charts in the browser with Python'*. There is a lot of amazing [resources](http://www.w3schools.com/) to learn about HTML and CSS."
     ]
    },
    {
     "cell_type": "code",
     "collapsed": false,
     "input": [
      "html = \"\"\"<div id=\"hc_ex1\" style=\"width: 700px; height: 300px;\"></div>\"\"\""
     ],
     "language": "python",
     "metadata": {},
     "outputs": [],
     "prompt_number": 4
    },
    {
     "cell_type": "markdown",
     "metadata": {},
     "source": [
      "Now the interesting part. Brython has a built-in module called <code style=\"background-color: cyan;\">**javascript**</code>. We will use the <code style=\"background-color: cyan;\">**JSConstructor**</code> class contained in that module to create the instances and make them available in Brython. <code style=\"background-color: cyan;\">**javascript.JSConstructor**</code> is a class whose instances represent Javascript constructors, (ie functions used with the Javascript keyword <code style=\"background-color: yellow;\">**new**</code>).\n",
      "\n",
      "The code is as follows:"
     ]
    },
    {
     "cell_type": "code",
     "collapsed": false,
     "input": [
      "%%brython -h html -p\n",
      "from javascript import JSConstructor\n",
      "\n",
      "hc = JSConstructor(Highcharts.Chart)\n",
      "\n",
      "config = {\n",
      "    'chart':{\n",
      "        'renderTo': 'hc_ex1'\n",
      "    },\n",
      "    'title': {\n",
      "        'text': 'Monthly Average Temperature',\n",
      "        'x': -20 #center\n",
      "    },\n",
      "    'subtitle': {\n",
      "        'text': 'Source: WorldClimate.com',\n",
      "        'x': -20\n",
      "    },\n",
      "    'xAxis': {\n",
      "        'categories': ['Jan', 'Feb', 'Mar', 'Apr', 'May', 'Jun',\n",
      "            'Jul', 'Aug', 'Sep', 'Oct', 'Nov', 'Dec']\n",
      "    },\n",
      "    'yAxis': {\n",
      "        'title': {\n",
      "            'text': 'Temperature (\u00b0C)'\n",
      "        },\n",
      "        'plotLines': [{\n",
      "            'value': 0,\n",
      "            'width': 1,\n",
      "            'color': '#808080'\n",
      "        }]\n",
      "    },\n",
      "    'tooltip': {\n",
      "        'valueSuffix': '\u00b0C'\n",
      "    },\n",
      "    'legend': {\n",
      "        'layout': 'vertical',\n",
      "        'align': 'right',\n",
      "        'verticalAlign': 'middle',\n",
      "        'borderWidth': 0\n",
      "    },\n",
      "    'series': [{\n",
      "        'name': 'Tokyo',\n",
      "        'data': [7.0, 6.9, 9.5, 14.5, 18.2, 21.5, 25.2, 26.5, 23.3, 18.3, 13.9, 9.6]\n",
      "    }]\n",
      "}\n",
      "\n",
      "hc(config)"
     ],
     "language": "python",
     "metadata": {},
     "outputs": [
      {
       "html": [
        "  <script id=\"469890\" type=\"text/python\">\n",
        "from javascript import JSConstructor\n",
        "\n",
        "hc = JSConstructor(Highcharts.Chart)\n",
        "\n",
        "config = {\n",
        "    'chart':{\n",
        "        'renderTo': 'hc_ex1'\n",
        "    },\n",
        "    'title': {\n",
        "        'text': 'Monthly Average Temperature',\n",
        "        'x': -20 #center\n",
        "    },\n",
        "    'subtitle': {\n",
        "        'text': 'Source: WorldClimate.com',\n",
        "        'x': -20\n",
        "    },\n",
        "    'xAxis': {\n",
        "        'categories': ['Jan', 'Feb', 'Mar', 'Apr', 'May', 'Jun',\n",
        "            'Jul', 'Aug', 'Sep', 'Oct', 'Nov', 'Dec']\n",
        "    },\n",
        "    'yAxis': {\n",
        "        'title': {\n",
        "            'text': 'Temperature (\u00b0C)'\n",
        "        },\n",
        "        'plotLines': [{\n",
        "            'value': 0,\n",
        "            'width': 1,\n",
        "            'color': '#808080'\n",
        "        }]\n",
        "    },\n",
        "    'tooltip': {\n",
        "        'valueSuffix': '\u00b0C'\n",
        "    },\n",
        "    'legend': {\n",
        "        'layout': 'vertical',\n",
        "        'align': 'right',\n",
        "        'verticalAlign': 'middle',\n",
        "        'borderWidth': 0\n",
        "    },\n",
        "    'series': [{\n",
        "        'name': 'Tokyo',\n",
        "        'data': [7.0, 6.9, 9.5, 14.5, 18.2, 21.5, 25.2, 26.5, 23.3, 18.3, 13.9, 9.6]\n",
        "    }]\n",
        "}\n",
        "\n",
        "hc(config)\n",
        "  </script>\n",
        "  <div id=\"brython_container_469890\"><div id=\"hc_ex1\" style=\"width: 700px; height: 300px;\"></div></div>\n",
        "  <script type=\"text/javascript\">brython({debug:1, static_stdlib_import: false, ipy_id: [\"469890\"]});</script>\n"
       ],
       "metadata": {},
       "output_type": "display_data",
       "text": [
        "<IPython.core.display.HTML at 0x7f7c76fdc1d0>"
       ]
      },
      {
       "output_type": "stream",
       "stream": "stdout",
       "text": [
        "  <script id=\"469890\" type=\"text/python\">\n",
        "from javascript import JSConstructor\n",
        "\n",
        "hc = JSConstructor(Highcharts.Chart)\n",
        "\n",
        "config = {\n",
        "    'chart':{\n",
        "        'renderTo': 'hc_ex1'\n",
        "    },\n",
        "    'title': {\n",
        "        'text': 'Monthly Average Temperature',\n",
        "        'x': -20 #center\n",
        "    },\n",
        "    'subtitle': {\n",
        "        'text': 'Source: WorldClimate.com',\n",
        "        'x': -20\n",
        "    },\n",
        "    'xAxis': {\n",
        "        'categories': ['Jan', 'Feb', 'Mar', 'Apr', 'May', 'Jun',\n",
        "            'Jul', 'Aug', 'Sep', 'Oct', 'Nov', 'Dec']\n",
        "    },\n",
        "    'yAxis': {\n",
        "        'title': {\n",
        "            'text': 'Temperature (\u00b0C)'\n",
        "        },\n",
        "        'plotLines': [{\n",
        "            'value': 0,\n",
        "            'width': 1,\n",
        "            'color': '#808080'\n",
        "        }]\n",
        "    },\n",
        "    'tooltip': {\n",
        "        'valueSuffix': '\u00b0C'\n",
        "    },\n",
        "    'legend': {\n",
        "        'layout': 'vertical',\n",
        "        'align': 'right',\n",
        "        'verticalAlign': 'middle',\n",
        "        'borderWidth': 0\n",
        "    },\n",
        "    'series': [{\n",
        "        'name': 'Tokyo',\n",
        "        'data': [7.0, 6.9, 9.5, 14.5, 18.2, 21.5, 25.2, 26.5, 23.3, 18.3, 13.9, 9.6]\n",
        "    }]\n",
        "}\n",
        "\n",
        "hc(config)\n",
        "  </script>\n",
        "  <div id=\"brython_container_469890\"><div id=\"hc_ex1\" style=\"width: 700px; height: 300px;\"></div></div>\n",
        "  <script type=\"text/javascript\">brython({debug:1, static_stdlib_import: false, ipy_id: [\"469890\"]});</script>\n",
        "\n"
       ]
      }
     ],
     "prompt_number": 5
    },
    {
     "cell_type": "markdown",
     "metadata": {},
     "source": [
      "Pretty simple!!\n",
      "\n",
      "Ok, let's dissect the code in the Brython cell above.\n",
      "\n",
      "<code style=\"background-color: cyan;\">**%%brython -h html -p**</code> :\n",
      "\n",
      "* Indicates that the code cell is written using Brython and we use some options for the Brython code cell, `-h` to use the HTML code defined in the `html` variable and `-p` to print the final HTML code generated below the generated chart. In this example, the generated code should be something like the following:\n",
      "\n",
      "```html\n",
      "  <script id=\"456346\" type=\"text/python\">\n",
      "from javascript import JSConstructor\n",
      "\n",
      "hc = JSConstructor(Highcharts.Chart)\n",
      "\n",
      "config = {\n",
      "    'chart':{\n",
      "        'renderTo': 'hc_ex1'\n",
      "    },\n",
      "    'title': {\n",
      "        'text': 'Monthly Average Temperature',\n",
      "        'x': -20 #center\n",
      "    },\n",
      "    'subtitle': {\n",
      "        'text': 'Source: WorldClimate.com',\n",
      "        'x': -20\n",
      "    },\n",
      "    'xAxis': {\n",
      "        'categories': ['Jan', 'Feb', 'Mar', 'Apr', 'May', 'Jun',\n",
      "            'Jul', 'Aug', 'Sep', 'Oct', 'Nov', 'Dec']\n",
      "    },\n",
      "    'yAxis': {\n",
      "        'title': {\n",
      "            'text': 'Temperature (\u00c2\u00b0C)'\n",
      "        },\n",
      "        'plotLines': [{\n",
      "            'value': 0,\n",
      "            'width': 1,\n",
      "            'color': '#808080'\n",
      "        }]\n",
      "    },\n",
      "    'tooltip': {\n",
      "        'valueSuffix': '\u00c2\u00b0C'\n",
      "    },\n",
      "    'legend': {\n",
      "        'layout': 'vertical',\n",
      "        'align': 'right',\n",
      "        'verticalAlign': 'middle',\n",
      "        'borderWidth': 0\n",
      "    },\n",
      "    'series': [{\n",
      "        'name': 'Tokyo',\n",
      "        'data': [7.0, 6.9, 9.5, 14.5, 18.2, 21.5, 25.2, 26.5, 23.3, 18.3, 13.9, 9.6]\n",
      "    }]\n",
      "}\n",
      "\n",
      "hc(config)\n",
      "  </script>\n",
      "  <div id=\"brython_container_456346\"><div id=\"hc_ex1\" style=\"width: 700px; height: 300px;\"></div></div>\n",
      "  <script type=\"text/javascript\">brython({debug:1, static_stdlib_import: false, ipy_id: [\"456346\"]});</script>```\n",
      "\n",
      "the `-p` option only provides information and it isn't required to run the Brython code cell.\n",
      "\n",
      "<code style=\"background-color: cyan;\">**from javascript import JSConstructor**</code>\n",
      "\n",
      "* This line imports the JSConstructor class\n",
      "\n",
      "<code style=\"background-color: cyan;\">**hc = JSConstructor(Highcharts.Chart)**</code>\n",
      "\n",
      "* Here we are instantiating the chart, i.e., accessing the function to the Brython namespace.\n",
      "\n",
      "<code style=\"background-color: cyan;\">**config = { ... }**</code>\n",
      "\n",
      "* Here we are defining the options and data to be used in the chart. More on this later.\n",
      "\n",
      "<code style=\"background-color: cyan;\">**hc(config))**</code>\n",
      "\n",
      "* We call the hc function with the data and configuration options defined in the `config` dict."
     ]
    },
    {
     "cell_type": "heading",
     "level": 1,
     "metadata": {},
     "source": [
      "Configuring Highcharts"
     ]
    },
    {
     "cell_type": "markdown",
     "metadata": {},
     "source": [
      "We can configure how the chart will be shown, layout, dimensions, axis, titles, legends,... All this information can be managed on each plot or using a configuration object (in javascript or dictionary in Python).\n",
      "\n",
      "In the previous example we have seen the `config` dict. Let's dedicate some time to understand it. The `config` dict contains a series of dicts and each of this dicts manage several pieces of the chart:\n",
      "\n",
      "* `chart` dict ([complete api](http://api.highcharts.com/highcharts#chart)): It contains information related with how the chart is presented (background colors, area plot colors, type of chart to be used, where the chart should be rendered (html element), margins and spacings,...). A more complete example would be something like the following:\n",
      "\n",
      "```python\n",
      "'chart': {\n",
      "    'renderTo': 'The_id_of_the_html_element',\n",
      "    'backgroundColor': 'a_valid_html_object',\n",
      "    'type': 'spline',\n",
      "    'plotBorderWidth': 1,\n",
      "    'plotBorderColor': '#3F4044',\n",
      "    ...\n",
      "}\n",
      "```\n",
      "\n",
      "* `colors` key: The value is a list of strings containing valid html colors. The default colors in the latest highcharts version are:\n",
      "\n",
      "```python\n",
      "'colors': ['#7cb5ec', '#434348', '#90ed7d', '#f7a35c', '#8085e9', \n",
      "           '#f15c80', '#e4d354', '#8085e8', '#8d4653', '#91e8e1']\n",
      "```\n",
      "\n",
      "* `credits` dict ([complete api](http://api.highcharts.com/highcharts#credits)): This dict allows you to control the credits label in the chart. By default will be shown the credits in the bottom left area of the chart. To control the credits you can use the following:\n",
      "\n",
      "```python\n",
      "'credits': {\n",
      "    'enabled': Boolean,\n",
      "    'href': String,\n",
      "    'text': String,\n",
      "    ...\n",
      "}\n",
      "```\n",
      "\n",
      "* `legend` dict ([complete api](http://api.highcharts.com/highcharts#legend)): This dict allows you to control how the legend is shown:\n",
      "\n",
      "```python\n",
      "'credits': {\n",
      "    'enabled': Boolean,\n",
      "    'align': String,\n",
      "    'backgroundColor': String,\n",
      "    ...\n",
      "}\n",
      "```\n",
      "\n",
      "* `plotOptions` dict ([complete api](http://api.highcharts.com/highcharts#plotOptions)): The `plotOptions` dict is a wrapper object for config objects for each series type. The config objects for each series can also be overridden for each series item as given in the series array. Configuration options for the series are given in three levels. Options for all series in a chart are given in the `plotOptions['series']` dict. Then options for all series of a specific type are given in the `plotOptions` of that type, for example `plotOptions[`line`]`. Next, options for one single series are given in the specific series array:\n",
      "\n",
      "```python\n",
      "'plotOptions': {\n",
      "    'enabled': Boolean,\n",
      "    'align': String,\n",
      "    'backgroundColor': String,\n",
      "    ...\n",
      "}\n",
      "```\n",
      "\n",
      "* `title` and `subtitle` dicts ([complete api for title](http://api.highcharts.com/highcharts#title) and [for subtitle](http://api.highcharts.com/highcharts#subtitle)): this options controls the appeareance of the title and subtitle of the chart. The keys are almost similar for both options:\n",
      "\n",
      "```python\n",
      "'title': {\n",
      "    'align': String,\n",
      "    'text': String,\n",
      "    ...\n",
      "}\n",
      "```\n",
      "\n",
      "* `tooltip` dict ([complete api](http://api.highcharts.com/highcharts#tooltip)): Options for the tooltip that appears when the user hovers over a series or point:\n",
      "\n",
      "```python\n",
      "'title': {\n",
      "    'enabled': Boolean,\n",
      "    'backgroundColor': 'a_valid_html_color',\n",
      "    'borderColor': 'a_valid_html_color',\n",
      "    ...\n",
      "}\n",
      "```\n",
      "\n",
      "* `xAxis` and `yAxis` dicts ([complete api for xAxis](http://api.highcharts.com/highcharts#xAxis) and [for yAxis](http://api.highcharts.com/highcharts#yAxis)): The x axis or category axis and the y axis or the value axis. Normally, `xAxis\u00b4 is the horizontal axis and `yAxis` the vertical axis except if the chart is inverted. The keys are pretty similar for both options:\n",
      "\n",
      "```python\n",
      "'xAxis': {\n",
      "    'min': float or int,\n",
      "    'max': float or int,\n",
      "    'title': {a dict with options},\n",
      "    'lineColor': 'A_valid_html_color',\n",
      "    ...\n",
      "}\n",
      "```\n",
      "\n",
      "* `series` dict ([complete api](http://api.highcharts.com/highcharts#series)): The actual series to append to the chart. In addition to the possible options, any member of the `plotOptions` for that specific type of plot can be added to a series individually. For example, even though a general `lineWidth` is specified in `plotOptions['series']`, an individual `lineWidth` can be specified for each series:\n",
      "\n",
      "    * `data` list: It is a list that can be one of the following options (we will come back to this later):\n",
      "    \n",
      "        1. An array of numerical values. In this case, the numerical values will be interpreted as y values, and x values will be automatically calculated, either starting at 0 and incrementing by 1, or from `pointStart` and `pointInterval` given in the `plotOptions` dict. If the axis has categories, these will be used. This option is not available for range series. \n",
      "        \n",
      "        2. An array of arrays with two values. In this case, the first value is the x value and the second is the y value. If the first value is a string, it is applied as the name of the point, and the x value is incremented following the above rules. For range series, the arrays will be interpreted as `[x, low, high]`. In this cases, the X value can be skipped altogether to make use of `pointStart` and `pointRange`.\n",
      "        \n",
      "        3. An array of objects with named values. In this case the objects are point configuration objects. Range series values are given by `low` and `high`.\n",
      "\n",
      "```python\n",
      "'series': {\n",
      "    'data': [* see above],\n",
      "    'name': String,\n",
      "    'type': String,\n",
      "    ...\n",
      "}\n",
      "```"
     ]
    },
    {
     "cell_type": "markdown",
     "metadata": {},
     "source": [
      "Let's see a more complete (and ugly) example using several configuration options:"
     ]
    },
    {
     "cell_type": "code",
     "collapsed": false,
     "input": [
      "html = \"\"\"<div id=\"hc_ex2\" style=\"width: 700px; height: 300px;\"></div>\"\"\""
     ],
     "language": "python",
     "metadata": {},
     "outputs": [],
     "prompt_number": 6
    },
    {
     "cell_type": "code",
     "collapsed": false,
     "input": [
      "%%brython -h html\n",
      "from javascript import JSConstructor\n",
      "\n",
      "hc = JSConstructor(Highcharts.Chart)\n",
      "\n",
      "config = {\n",
      "    'chart': {\n",
      "        'renderTo': 'hc_ex2',\n",
      "        'backgroundColor': {\n",
      "            'linearGradient': [0, 0, 500, 500],\n",
      "            'stops': [[0, 'rgb(255, 255, 255)'],\n",
      "                      [1, 'rgb(200, 200, 255)']]\n",
      "        },\n",
      "        'borderRadius': 10\n",
      "    },\n",
      "    'title': {\n",
      "        'align': 'left',\n",
      "        'text': 'My dummy title',\n",
      "        'style': { \"color\": \"green\", \"fontSize\": \"20px\" }\n",
      "    },\n",
      "    'subtitle': {\n",
      "        'align': 'right',\n",
      "        'text': 'Ugly subtitle',\n",
      "        'style': { \"color\": \"orange\", \"fontSize\": \"12px\" }\n",
      "    },\n",
      "    'legend': {\n",
      "        'backgroundColor': 'black',\n",
      "        'borderColor': 'yellow',\n",
      "        'borderRadius': 10,\n",
      "        'borderWidth': 3,\n",
      "    },\n",
      "    'series': [{\n",
      "        'data': [1,2,3,4],\n",
      "        'type': 'line',\n",
      "        'name': 'Name of the series'\n",
      "    }],\n",
      "    'tooltip': {\n",
      "        'backgroundColor': 'gray',\n",
      "        'borderColor': 'yellow',\n",
      "        'borderRadius': 10,\n",
      "        'borderWidth': 3,\n",
      "    },\n",
      "    'xAxis': {\n",
      "        'categories': ['data'] * 4,\n",
      "        'lineWidth': 5,\n",
      "        'lineColor': 'violet',\n",
      "        'gridLineColor': 'violet',\n",
      "        'gridLineWidth': 3,\n",
      "        'title': {'text': 'X axis title'}\n",
      "    },\n",
      "    'yAxis': {\n",
      "        'lineWidth': 5,\n",
      "        'lineColor': 'blue',\n",
      "        'gridLineColor': 'blue',\n",
      "        'gridLineWidth': 3,\n",
      "        'title': {'text': 'Y axis title'}\n",
      "    },\n",
      "    'credits': {\n",
      "        'text': \"Pybonacci rules!\",\n",
      "        'href': 'https://twitter.com/pybonacci'\n",
      "    }\n",
      "}\n",
      "\n",
      "hc(config)"
     ],
     "language": "python",
     "metadata": {},
     "outputs": [
      {
       "html": [
        "  <script id=\"306262\" type=\"text/python\">\n",
        "from javascript import JSConstructor\n",
        "\n",
        "hc = JSConstructor(Highcharts.Chart)\n",
        "\n",
        "config = {\n",
        "    'chart': {\n",
        "        'renderTo': 'hc_ex2',\n",
        "        'backgroundColor': {\n",
        "            'linearGradient': [0, 0, 500, 500],\n",
        "            'stops': [[0, 'rgb(255, 255, 255)'],\n",
        "                      [1, 'rgb(200, 200, 255)']]\n",
        "        },\n",
        "        'borderRadius': 10\n",
        "    },\n",
        "    'title': {\n",
        "        'align': 'left',\n",
        "        'text': 'My dummy title',\n",
        "        'style': { \"color\": \"green\", \"fontSize\": \"20px\" }\n",
        "    },\n",
        "    'subtitle': {\n",
        "        'align': 'right',\n",
        "        'text': 'Ugly subtitle',\n",
        "        'style': { \"color\": \"orange\", \"fontSize\": \"12px\" }\n",
        "    },\n",
        "    'legend': {\n",
        "        'backgroundColor': 'black',\n",
        "        'borderColor': 'yellow',\n",
        "        'borderRadius': 10,\n",
        "        'borderWidth': 3,\n",
        "    },\n",
        "    'series': [{\n",
        "        'data': [1,2,3,4],\n",
        "        'type': 'line',\n",
        "        'name': 'Name of the series'\n",
        "    }],\n",
        "    'tooltip': {\n",
        "        'backgroundColor': 'gray',\n",
        "        'borderColor': 'yellow',\n",
        "        'borderRadius': 10,\n",
        "        'borderWidth': 3,\n",
        "    },\n",
        "    'xAxis': {\n",
        "        'categories': ['data'] * 4,\n",
        "        'lineWidth': 5,\n",
        "        'lineColor': 'violet',\n",
        "        'gridLineColor': 'violet',\n",
        "        'gridLineWidth': 3,\n",
        "        'title': {'text': 'X axis title'}\n",
        "    },\n",
        "    'yAxis': {\n",
        "        'lineWidth': 5,\n",
        "        'lineColor': 'blue',\n",
        "        'gridLineColor': 'blue',\n",
        "        'gridLineWidth': 3,\n",
        "        'title': {'text': 'Y axis title'}\n",
        "    },\n",
        "    'credits': {\n",
        "        'text': \"Pybonacci rules!\",\n",
        "        'href': 'https://twitter.com/pybonacci'\n",
        "    }\n",
        "}\n",
        "\n",
        "hc(config)\n",
        "  </script>\n",
        "  <div id=\"brython_container_306262\"><div id=\"hc_ex2\" style=\"width: 700px; height: 300px;\"></div></div>\n",
        "  <script type=\"text/javascript\">brython({debug:1, static_stdlib_import: false, ipy_id: [\"306262\"]});</script>\n"
       ],
       "metadata": {},
       "output_type": "display_data",
       "text": [
        "<IPython.core.display.HTML at 0x7f7c76fdc358>"
       ]
      }
     ],
     "prompt_number": 7
    },
    {
     "cell_type": "markdown",
     "metadata": {},
     "source": [
      "I got it!!! It's the ugliest chart in the world!!!"
     ]
    },
    {
     "cell_type": "heading",
     "level": 2,
     "metadata": {},
     "source": [
      "Defining options for all the charts"
     ]
    },
    {
     "cell_type": "markdown",
     "metadata": {},
     "source": [
      "If we want we can define some of the options to be used during a complete session so we don't have to define each of the options when defining a new chart.\n",
      "\n",
      "We will use <code style=\"background-color: yellow;\">**Highcharts.setOptions**</code> to create a set of options that could be overwritten on each individual chart if necessary. You can learn more about how to create themes for highcharts [here](http://www.highcharts.com/docs/chart-design-and-style/themes).\n",
      "\n",
      "In general, I don't like some default values for Highcharts and as [Randall Olson has said, sometimes less is more](http://www.randalolson.com/2014/06/28/how-to-make-beautiful-data-visualizations-in-python-with-matplotlib/). Also, as I have some degree of color blindness I will use the ['color blind 10' palette of colors from Tableau](http://public.tableausoftware.com/profile/chris.gerrard#!/vizhome/TableauColors/ColorPaletteswithRGBValues)."
     ]
    },
    {
     "cell_type": "code",
     "collapsed": false,
     "input": [
      "%%brython -s globaloptions\n",
      "from javascript import JSConstructor\n",
      "\n",
      "global_options = {\n",
      "    'colors': ['rgb(0, 107, 164)', 'rgb(255, 128, 114)',\n",
      "               'rgb(171, 171, 171)', 'rgb(89, 89, 89)',\n",
      "               'rgb(95, 158, 209)', 'rgb(200, 82, 0)',\n",
      "               'rgb(137, 137, 137)', 'rgb(162, 200, 236)',\n",
      "               'rgb(256, 188, 121)', 'rgb(207, 207, 207)'],\n",
      "    'chart':{\n",
      "        'plotBackgroundColor': 'rgb(229, 229, 229)'\n",
      "    },\n",
      "    'credits':{\n",
      "        'enabled': False\n",
      "    },\n",
      "    'legend':{\n",
      "        'align': 'right',\n",
      "        'verticalAlign': 'middle',\n",
      "        'layout': 'vertical',\n",
      "        'borderWidth': 0,\n",
      "        'enabled': True\n",
      "    },\n",
      "    'plotOptions':{\n",
      "        'area': {\n",
      "            'fillOpacity': 0.5,\n",
      "            'marker': {'enabled': False},\n",
      "        },\n",
      "        'arearange': {\n",
      "            'fillOpacity': 0.5,\n",
      "            'marker': {'enabled': False},\n",
      "        },\n",
      "        'areaspline': {\n",
      "            'fillOpacity': 0.5,\n",
      "            'marker': {'enabled': False},\n",
      "        },\n",
      "        'areasplinerange': {\n",
      "            'fillOpacity': 0.5,\n",
      "            'marker': {'enabled': False},\n",
      "        },\n",
      "        'bar': {\n",
      "            'borderWidth': 0\n",
      "        },\n",
      "        'boxplot': {\n",
      "            'fillColor': '#FAFAFA',\n",
      "            'lineWidth': 2,\n",
      "            'medianWidth': 4,\n",
      "            'stemDashStyle': 'line',\n",
      "            'stemWidth': 1,\n",
      "            'whiskerLength': '30%',\n",
      "            'whiskerWidth': 2\n",
      "        },\n",
      "        'column': {\n",
      "            'borderWidth': 0\n",
      "        },\n",
      "        'columnrange': {\n",
      "            'borderWidth': 0\n",
      "        },\n",
      "        'errorbar': {\n",
      "            'color': '#fefefe',\n",
      "            'lineWidth': 2\n",
      "        },\n",
      "        'line': {\n",
      "            'marker': {'enabled': False},\n",
      "            'lineWidth': 2\n",
      "        },\n",
      "        'scatter': {\n",
      "            'marker': {\n",
      "                'enabled': True,\n",
      "                'lineWidth': 0,\n",
      "                'symbol': 'circle',\n",
      "                'radius': 5\n",
      "            },\n",
      "        },\n",
      "        'spline': {\n",
      "            'marker': {'enabled': False},\n",
      "            'lineWidth': 2\n",
      "        },\n",
      "        'waterfall': {\n",
      "            'borderWidth': 0\n",
      "        }\n",
      "    },\n",
      "    'subtitle': {\n",
      "        'align': 'center',\n",
      "        'style': {\n",
      "            'color': '#555555',\n",
      "            'fontWeight': 'bold'\n",
      "        }\n",
      "    },\n",
      "    'title': {\n",
      "        'align': 'center',\n",
      "        'text': None,\n",
      "        'style': {\n",
      "            'color': '#000000',\n",
      "            'fontWeight': 'bold'\n",
      "        }\n",
      "    },\n",
      "    'tooltip': {\n",
      "        'backgroundColor': 'rgba(255,255,224,0.5)',\n",
      "        'borderRadius': 5,\n",
      "        'crosshairs': [{\n",
      "                'width': 3,\n",
      "                'color': '#ffffff',\n",
      "                'dashStyle': 'shortdot'\n",
      "            }, {\n",
      "                'width': 3,\n",
      "                'color': '#ffffff',\n",
      "                'dashStyle': 'shortdot'\n",
      "            }], \n",
      "        'hideDelay': 200,\n",
      "        'enabled': True,\n",
      "        'shadow': False,\n",
      "        \n",
      "    },\n",
      "    'xAxis': {\n",
      "        'gridLineColor': '#FFFFFF',\n",
      "        'gridLineWidth': 1,\n",
      "        'lineColor': 'rgb(229, 229, 229)',\n",
      "        'tickColor': 'rgb(229, 229, 229)',\n",
      "        'shadow': False,\n",
      "        \n",
      "    },\n",
      "    'yAxis': {\n",
      "        'gridLineColor': '#FFFFFF',\n",
      "        'gridLineWidth': 1,\n",
      "        'lineColor': 'rgb(229, 229, 229)',\n",
      "        'tickColor': 'rgb(229, 229, 229)',\n",
      "        'shadow': False,\n",
      "        \n",
      "    }\n",
      "}\n",
      "\n",
      "JSConstructor(Highcharts.setOptions)(global_options)"
     ],
     "language": "python",
     "metadata": {},
     "outputs": [
      {
       "html": [
        "  <script id=\"globaloptions\" type=\"text/python\">\n",
        "from javascript import JSConstructor\n",
        "\n",
        "global_options = {\n",
        "    'colors': ['rgb(0, 107, 164)', 'rgb(255, 128, 114)',\n",
        "               'rgb(171, 171, 171)', 'rgb(89, 89, 89)',\n",
        "               'rgb(95, 158, 209)', 'rgb(200, 82, 0)',\n",
        "               'rgb(137, 137, 137)', 'rgb(162, 200, 236)',\n",
        "               'rgb(256, 188, 121)', 'rgb(207, 207, 207)'],\n",
        "    'chart':{\n",
        "        'plotBackgroundColor': 'rgb(229, 229, 229)'\n",
        "    },\n",
        "    'credits':{\n",
        "        'enabled': False\n",
        "    },\n",
        "    'legend':{\n",
        "        'align': 'right',\n",
        "        'verticalAlign': 'middle',\n",
        "        'layout': 'vertical',\n",
        "        'borderWidth': 0,\n",
        "        'enabled': True\n",
        "    },\n",
        "    'plotOptions':{\n",
        "        'area': {\n",
        "            'fillOpacity': 0.5,\n",
        "            'marker': {'enabled': False},\n",
        "        },\n",
        "        'arearange': {\n",
        "            'fillOpacity': 0.5,\n",
        "            'marker': {'enabled': False},\n",
        "        },\n",
        "        'areaspline': {\n",
        "            'fillOpacity': 0.5,\n",
        "            'marker': {'enabled': False},\n",
        "        },\n",
        "        'areasplinerange': {\n",
        "            'fillOpacity': 0.5,\n",
        "            'marker': {'enabled': False},\n",
        "        },\n",
        "        'bar': {\n",
        "            'borderWidth': 0\n",
        "        },\n",
        "        'boxplot': {\n",
        "            'fillColor': '#FAFAFA',\n",
        "            'lineWidth': 2,\n",
        "            'medianWidth': 4,\n",
        "            'stemDashStyle': 'line',\n",
        "            'stemWidth': 1,\n",
        "            'whiskerLength': '30%',\n",
        "            'whiskerWidth': 2\n",
        "        },\n",
        "        'column': {\n",
        "            'borderWidth': 0\n",
        "        },\n",
        "        'columnrange': {\n",
        "            'borderWidth': 0\n",
        "        },\n",
        "        'errorbar': {\n",
        "            'color': '#fefefe',\n",
        "            'lineWidth': 2\n",
        "        },\n",
        "        'line': {\n",
        "            'marker': {'enabled': False},\n",
        "            'lineWidth': 2\n",
        "        },\n",
        "        'scatter': {\n",
        "            'marker': {\n",
        "                'enabled': True,\n",
        "                'lineWidth': 0,\n",
        "                'symbol': 'circle',\n",
        "                'radius': 5\n",
        "            },\n",
        "        },\n",
        "        'spline': {\n",
        "            'marker': {'enabled': False},\n",
        "            'lineWidth': 2\n",
        "        },\n",
        "        'waterfall': {\n",
        "            'borderWidth': 0\n",
        "        }\n",
        "    },\n",
        "    'subtitle': {\n",
        "        'align': 'center',\n",
        "        'style': {\n",
        "            'color': '#555555',\n",
        "            'fontWeight': 'bold'\n",
        "        }\n",
        "    },\n",
        "    'title': {\n",
        "        'align': 'center',\n",
        "        'text': None,\n",
        "        'style': {\n",
        "            'color': '#000000',\n",
        "            'fontWeight': 'bold'\n",
        "        }\n",
        "    },\n",
        "    'tooltip': {\n",
        "        'backgroundColor': 'rgba(255,255,224,0.5)',\n",
        "        'borderRadius': 5,\n",
        "        'crosshairs': [{\n",
        "                'width': 3,\n",
        "                'color': '#ffffff',\n",
        "                'dashStyle': 'shortdot'\n",
        "            }, {\n",
        "                'width': 3,\n",
        "                'color': '#ffffff',\n",
        "                'dashStyle': 'shortdot'\n",
        "            }], \n",
        "        'hideDelay': 200,\n",
        "        'enabled': True,\n",
        "        'shadow': False,\n",
        "        \n",
        "    },\n",
        "    'xAxis': {\n",
        "        'gridLineColor': '#FFFFFF',\n",
        "        'gridLineWidth': 1,\n",
        "        'lineColor': 'rgb(229, 229, 229)',\n",
        "        'tickColor': 'rgb(229, 229, 229)',\n",
        "        'shadow': False,\n",
        "        \n",
        "    },\n",
        "    'yAxis': {\n",
        "        'gridLineColor': '#FFFFFF',\n",
        "        'gridLineWidth': 1,\n",
        "        'lineColor': 'rgb(229, 229, 229)',\n",
        "        'tickColor': 'rgb(229, 229, 229)',\n",
        "        'shadow': False,\n",
        "        \n",
        "    }\n",
        "}\n",
        "\n",
        "JSConstructor(Highcharts.setOptions)(global_options)\n",
        "  </script>\n",
        "  <div id=\"brython_container_727163\"></div>\n",
        "  <script type=\"text/javascript\">brython({debug:1, static_stdlib_import: false, ipy_id: [\"globaloptions\"]});</script>\n"
       ],
       "metadata": {},
       "output_type": "display_data",
       "text": [
        "<IPython.core.display.HTML at 0x7f7c76fdc208>"
       ]
      }
     ],
     "prompt_number": 25
    },
    {
     "cell_type": "markdown",
     "metadata": {},
     "source": [
      "And now, let's repeat our first example again after the global configuration:"
     ]
    },
    {
     "cell_type": "code",
     "collapsed": false,
     "input": [
      "html = \"\"\"<div id=\"hc_ex3\" style=\"width: 700px; height: 300px;\"></div>\"\"\""
     ],
     "language": "python",
     "metadata": {},
     "outputs": [],
     "prompt_number": 26
    },
    {
     "cell_type": "code",
     "collapsed": false,
     "input": [
      "%%brython -h html\n",
      "from javascript import JSConstructor\n",
      "\n",
      "hc = JSConstructor(Highcharts.Chart)\n",
      "\n",
      "config = {\n",
      "    'chart':{'renderTo': 'hc_ex3'},\n",
      "    'title': {'text': 'Monthly Average Temperature'},\n",
      "    'subtitle': {'text': 'Source: WorldClimate.com'},\n",
      "    'xAxis': {'categories': ['Jan', 'Feb', 'Mar', 'Apr', 'May', 'Jun',\n",
      "                             'Jul', 'Aug', 'Sep', 'Oct', 'Nov', 'Dec']},\n",
      "    'yAxis': {'title': {'text': 'Temperature (\u00b0C)'}},\n",
      "    'tooltip': {'valueSuffix': '\u00b0C'},\n",
      "    'series': [{'name': 'Tokyo',\n",
      "                'data': [7.0, 6.9, 9.5, 14.5, 18.2, 21.5, 25.2, 26.5, 23.3, 18.3, 13.9, 9.6]}]\n",
      "}\n",
      "\n",
      "hc(config)"
     ],
     "language": "python",
     "metadata": {},
     "outputs": [
      {
       "html": [
        "  <script id=\"751615\" type=\"text/python\">\n",
        "from javascript import JSConstructor\n",
        "\n",
        "hc = JSConstructor(Highcharts.Chart)\n",
        "\n",
        "config = {\n",
        "    'chart':{'renderTo': 'hc_ex3'},\n",
        "    'title': {'text': 'Monthly Average Temperature'},\n",
        "    'subtitle': {'text': 'Source: WorldClimate.com'},\n",
        "    'xAxis': {'categories': ['Jan', 'Feb', 'Mar', 'Apr', 'May', 'Jun',\n",
        "                             'Jul', 'Aug', 'Sep', 'Oct', 'Nov', 'Dec']},\n",
        "    'yAxis': {'title': {'text': 'Temperature (\u00b0C)'}},\n",
        "    'tooltip': {'valueSuffix': '\u00b0C'},\n",
        "    'series': [{'name': 'Tokyo',\n",
        "                'data': [7.0, 6.9, 9.5, 14.5, 18.2, 21.5, 25.2, 26.5, 23.3, 18.3, 13.9, 9.6]}]\n",
        "}\n",
        "\n",
        "hc(config)\n",
        "  </script>\n",
        "  <div id=\"brython_container_751615\"><div id=\"hc_ex3\" style=\"width: 700px; height: 300px;\"></div></div>\n",
        "  <script type=\"text/javascript\">brython({debug:1, static_stdlib_import: false, ipy_id: [\"751615\"]});</script>\n"
       ],
       "metadata": {},
       "output_type": "display_data",
       "text": [
        "<IPython.core.display.HTML at 0x7f7c76fdc400>"
       ]
      }
     ],
     "prompt_number": 27
    },
    {
     "cell_type": "markdown",
     "metadata": {},
     "source": [
      "Much better than the ugly chart. And other simple charts:"
     ]
    },
    {
     "cell_type": "code",
     "collapsed": false,
     "input": [
      "html = \"\"\"\n",
      "<div style=\"float: left;\">\n",
      "  <div id=\"hc_ex4a\" style=\"width: 400px; height: 300px;\"></div>\n",
      "  <div id=\"hc_ex4b\" style=\"width: 400px; height: 300px;\"></div>\n",
      "</div>\n",
      "<div style=\"float: left;\">\n",
      "  <div id=\"hc_ex4c\" style=\"width: 400px; height: 300px;\"></div>\n",
      "  <div id=\"hc_ex4d\" style=\"width: 400px; height: 300px;\"></div>\n",
      "</div>\"\"\""
     ],
     "language": "python",
     "metadata": {},
     "outputs": [],
     "prompt_number": 28
    },
    {
     "cell_type": "code",
     "collapsed": false,
     "input": [
      "%%brython -h html\n",
      "from javascript import JSConstructor\n",
      "\n",
      "hc = JSConstructor(Highcharts.Chart)\n",
      "\n",
      "# Bar\n",
      "config = {\n",
      "    'chart': {'renderTo': 'hc_ex4a', 'type': 'bar'},\n",
      "    'xAxis': {'categories': ['Jan', 'Feb', 'Mar', 'Apr', 'May', 'Jun',\n",
      "                             'Jul', 'Aug', 'Sep', 'Oct', 'Nov', 'Dec']},\n",
      "    'yAxis':  {'title': {'text': 'Temperature (\u00b0C)'}},\n",
      "    'tooltip': {'valueSuffix': '\u00b0C'},\n",
      "    'series': [{'name': 'Tokyo',\n",
      "                'data': [7.0, 6.9, 9.5, 14.5, 18.2, 21.5, 25.2, 26.5, 23.3, 18.3, 13.9, 9.6]}]\n",
      "}\n",
      "hc(config)\n",
      "\n",
      "# Area\n",
      "config = {\n",
      "    'chart': {'renderTo': 'hc_ex4b', 'type': 'area'},\n",
      "    'xAxis': {'categories': ['Jan', 'Feb', 'Mar', 'Apr', 'May', 'Jun',\n",
      "                             'Jul', 'Aug', 'Sep', 'Oct', 'Nov', 'Dec']},\n",
      "    'yAxis': {'title': {'text': 'Temperature (\u00b0C)'}},\n",
      "    'tooltip': {'valueSuffix': '\u00b0C'},\n",
      "    'series': [{'name': 'Tokyo',\n",
      "                'data': [7.0, 6.9, 9.5, 14.5, 18.2, 21.5, 25.2, 26.5, 23.3, 18.3, 13.9, 9.6]}]\n",
      "}\n",
      "hc(config)\n",
      "\n",
      "# Bubble\n",
      "config = {\n",
      "    'chart': {'renderTo': 'hc_ex4c', 'type': 'scatter', 'zoomType': 'xy'},\n",
      "    'title': {'text': 'You can pan and zoom'},\n",
      "    'series': [{'name': 'Tokyo',\n",
      "                'data': [[7.0, 6.9], [9.5, 14.5], [18.2, 21.5], [25.2, 26.5], [23.3, 18.3], [13.9, 9.6]]}]\n",
      "}\n",
      "hc(config)\n",
      "\n",
      "# Pie\n",
      "config = {\n",
      "    'chart': {'renderTo': 'hc_ex4d', 'type': 'pie', 'plotBackgroundColor': 'white'},\n",
      "    'series': [{'name': 'Python scientific libs',\n",
      "                'data': [['scipy', 6.9], ['IPython', 14.5], \n",
      "                         ['Matplotlib', 21.5], ['Numpy', 26.5], ['Pandas', 18.3]]}]\n",
      "}\n",
      "hc(config)"
     ],
     "language": "python",
     "metadata": {},
     "outputs": [
      {
       "html": [
        "  <script id=\"226948\" type=\"text/python\">\n",
        "from javascript import JSConstructor\n",
        "\n",
        "hc = JSConstructor(Highcharts.Chart)\n",
        "\n",
        "# Bar\n",
        "config = {\n",
        "    'chart': {'renderTo': 'hc_ex4a', 'type': 'bar'},\n",
        "    'xAxis': {'categories': ['Jan', 'Feb', 'Mar', 'Apr', 'May', 'Jun',\n",
        "                             'Jul', 'Aug', 'Sep', 'Oct', 'Nov', 'Dec']},\n",
        "    'yAxis':  {'title': {'text': 'Temperature (\u00b0C)'}},\n",
        "    'tooltip': {'valueSuffix': '\u00b0C'},\n",
        "    'series': [{'name': 'Tokyo',\n",
        "                'data': [7.0, 6.9, 9.5, 14.5, 18.2, 21.5, 25.2, 26.5, 23.3, 18.3, 13.9, 9.6]}]\n",
        "}\n",
        "hc(config)\n",
        "\n",
        "# Area\n",
        "config = {\n",
        "    'chart': {'renderTo': 'hc_ex4b', 'type': 'area'},\n",
        "    'xAxis': {'categories': ['Jan', 'Feb', 'Mar', 'Apr', 'May', 'Jun',\n",
        "                             'Jul', 'Aug', 'Sep', 'Oct', 'Nov', 'Dec']},\n",
        "    'yAxis': {'title': {'text': 'Temperature (\u00b0C)'}},\n",
        "    'tooltip': {'valueSuffix': '\u00b0C'},\n",
        "    'series': [{'name': 'Tokyo',\n",
        "                'data': [7.0, 6.9, 9.5, 14.5, 18.2, 21.5, 25.2, 26.5, 23.3, 18.3, 13.9, 9.6]}]\n",
        "}\n",
        "hc(config)\n",
        "\n",
        "# Bubble\n",
        "config = {\n",
        "    'chart': {'renderTo': 'hc_ex4c', 'type': 'scatter', 'zoomType': 'xy'},\n",
        "    'title': {'text': 'You can pan and zoom'},\n",
        "    'series': [{'name': 'Tokyo',\n",
        "                'data': [[7.0, 6.9], [9.5, 14.5], [18.2, 21.5], [25.2, 26.5], [23.3, 18.3], [13.9, 9.6]]}]\n",
        "}\n",
        "hc(config)\n",
        "\n",
        "# Pie\n",
        "config = {\n",
        "    'chart': {'renderTo': 'hc_ex4d', 'type': 'pie', 'plotBackgroundColor': 'white'},\n",
        "    'series': [{'name': 'Python scientific libs',\n",
        "                'data': [['scipy', 6.9], ['IPython', 14.5], \n",
        "                         ['Matplotlib', 21.5], ['Numpy', 26.5], ['Pandas', 18.3]]}]\n",
        "}\n",
        "hc(config)\n",
        "  </script>\n",
        "  <div id=\"brython_container_226948\">\n",
        "<div style=\"float: left;\">\n",
        "  <div id=\"hc_ex4a\" style=\"width: 400px; height: 300px;\"></div>\n",
        "  <div id=\"hc_ex4b\" style=\"width: 400px; height: 300px;\"></div>\n",
        "</div>\n",
        "<div style=\"float: left;\">\n",
        "  <div id=\"hc_ex4c\" style=\"width: 400px; height: 300px;\"></div>\n",
        "  <div id=\"hc_ex4d\" style=\"width: 400px; height: 300px;\"></div>\n",
        "</div></div>\n",
        "  <script type=\"text/javascript\">brython({debug:1, static_stdlib_import: false, ipy_id: [\"226948\"]});</script>\n"
       ],
       "metadata": {},
       "output_type": "display_data",
       "text": [
        "<IPython.core.display.HTML at 0x7f7c76fdc240>"
       ]
      }
     ],
     "prompt_number": 29
    },
    {
     "cell_type": "markdown",
     "metadata": {},
     "source": [
      "<span style=\"background-color: #90EE90\">**[NEW CODE]**</span> In the previous figures we have included some new options in the `chart` dict:\n",
      "\n",
      "* <code style=\"background-color: yellow;\">**'type': 'type_of_chart'**</code>. It indicates which chart will be used to render the data.\n",
      "\n",
      "* <code style=\"background-color: yellow;\">**'zoomType': 'xy'**</code>. It allows us to zoom after the selection of an area with the mouse.\n",
      "\n",
      "Also, in the Pie chart, we have used the option <code style=\"background-color: yellow;\">**'plotBackgroundColor': 'white'**</code> so the global option defined before is not used."
     ]
    },
    {
     "cell_type": "heading",
     "level": 1,
     "metadata": {},
     "source": [
      "Using data"
     ]
    },
    {
     "cell_type": "markdown",
     "metadata": {},
     "source": [
      "Before, we have seen three different ways to insert data into a chart. Let's see it again to understand better how it is used:"
     ]
    },
    {
     "cell_type": "markdown",
     "metadata": {},
     "source": [
      "* An array of numerical values. In this case, the numerical values will be interpreted as *y* values, and *x* values will be automatically calculated, either starting at *0* and incrementing by *1*, or from `pointStart` and `pointInterval` given in the `plotOptions` dict. If the axis has categories, these will be used. This option is not available for range series."
     ]
    },
    {
     "cell_type": "markdown",
     "metadata": {},
     "source": [
      "We have seen examples before but let's create a more complete example using this way:"
     ]
    },
    {
     "cell_type": "code",
     "collapsed": false,
     "input": [
      "html = \"\"\"<div id=\"hc_ex5\" style=\"width: 700px; height: 300px;\"></div>\"\"\""
     ],
     "language": "python",
     "metadata": {},
     "outputs": [],
     "prompt_number": 30
    },
    {
     "cell_type": "code",
     "collapsed": false,
     "input": [
      "%%brython -h html\n",
      "from javascript import JSConstructor\n",
      "\n",
      "hc = JSConstructor(Highcharts.Chart)\n",
      "\n",
      "config = {\n",
      "    'chart': {'renderTo': 'hc_ex5'},\n",
      "    'yAxis':  {'title': {'text': 'Temperature (\u00b0C)'}},\n",
      "    'tooltip': {'valueSuffix': '\u00b0C'},\n",
      "    'series': [{'name': 'Tokyo',\n",
      "                'data': [7.0, 6.9, 9.5, 14.5, 18.2, 21.5, 25.2, 26.5, 23.3, 18.3, 13.9, 9.6]},\n",
      "               {'name': 'Madrid',\n",
      "                'data': [3.0, 5.4, 6.5, 12.7, 16.8, 21.4, 26.5, 26.2, 24.3, 17.3, 11.8, 6.7]}]\n",
      "}\n",
      "hc(config)"
     ],
     "language": "python",
     "metadata": {},
     "outputs": [
      {
       "html": [
        "  <script id=\"834120\" type=\"text/python\">\n",
        "from javascript import JSConstructor\n",
        "\n",
        "hc = JSConstructor(Highcharts.Chart)\n",
        "\n",
        "config = {\n",
        "    'chart': {'renderTo': 'hc_ex5'},\n",
        "    'yAxis':  {'title': {'text': 'Temperature (\u00b0C)'}},\n",
        "    'tooltip': {'valueSuffix': '\u00b0C'},\n",
        "    'series': [{'name': 'Tokyo',\n",
        "                'data': [7.0, 6.9, 9.5, 14.5, 18.2, 21.5, 25.2, 26.5, 23.3, 18.3, 13.9, 9.6]},\n",
        "               {'name': 'Madrid',\n",
        "                'data': [3.0, 5.4, 6.5, 12.7, 16.8, 21.4, 26.5, 26.2, 24.3, 17.3, 11.8, 6.7]}]\n",
        "}\n",
        "hc(config)\n",
        "  </script>\n",
        "  <div id=\"brython_container_834120\"><div id=\"hc_ex5\" style=\"width: 700px; height: 300px;\"></div></div>\n",
        "  <script type=\"text/javascript\">brython({debug:1, static_stdlib_import: false, ipy_id: [\"834120\"]});</script>\n"
       ],
       "metadata": {},
       "output_type": "display_data",
       "text": [
        "<IPython.core.display.HTML at 0x7f7c76fdc0b8>"
       ]
      }
     ],
     "prompt_number": 31
    },
    {
     "cell_type": "markdown",
     "metadata": {},
     "source": [
      "* An array of arrays with two values. In this case, the first value is the *x* value and the second is the *y* value. If the first value is a string, it is applied as the name of the point, and the *x* value is incremented following the above rules. For range series, the arrays will be interpreted as `[x, low, high]`. In this cases, the *x* value can be skipped altogether to make use of `pointStart` and `pointRange`."
     ]
    },
    {
     "cell_type": "markdown",
     "metadata": {},
     "source": [
      "This way has been used in the scatter chart previously. In the example above we have seen that the x values start at 0. If we want a different behaviour we could define the x values as follows:"
     ]
    },
    {
     "cell_type": "code",
     "collapsed": false,
     "input": [
      "html = \"\"\"<div id=\"hc_ex6\" style=\"width: 700px; height: 300px;\"></div>\"\"\""
     ],
     "language": "python",
     "metadata": {},
     "outputs": [],
     "prompt_number": 33
    },
    {
     "cell_type": "code",
     "collapsed": false,
     "input": [
      "%%brython -h html\n",
      "from javascript import JSConstructor\n",
      "\n",
      "hc = JSConstructor(Highcharts.Chart)\n",
      "\n",
      "config = {\n",
      "    'chart': {'renderTo': 'hc_ex6', 'type': 'line'},\n",
      "    'yAxis':  {'title': {'text': 'Temperature (\u00b0C)'}},\n",
      "    'tooltip': {'valueSuffix': '\u00b0C'},\n",
      "    'series': [{'name': 'Neverland',\n",
      "                'data': [[1, 6.9], [3, 14.5], [7, 21.5], [8, 26.5], [9, 18.3], [10, 9.6]]}]\n",
      "}\n",
      "hc(config)"
     ],
     "language": "python",
     "metadata": {},
     "outputs": [
      {
       "html": [
        "  <script id=\"190689\" type=\"text/python\">\n",
        "from javascript import JSConstructor\n",
        "\n",
        "hc = JSConstructor(Highcharts.Chart)\n",
        "\n",
        "# Bar\n",
        "config = {\n",
        "    'chart': {'renderTo': 'hc_ex6', 'type': 'line'},\n",
        "    'yAxis':  {'title': {'text': 'Temperature (\u00b0C)'}},\n",
        "    'tooltip': {'valueSuffix': '\u00b0C'},\n",
        "    'series': [{'name': 'Neverland',\n",
        "                'data': [[1, 6.9], [3, 14.5], [7, 21.5], [8, 26.5], [9, 18.3], [10, 9.6]]}]\n",
        "}\n",
        "hc(config)\n",
        "  </script>\n",
        "  <div id=\"brython_container_190689\"><div id=\"hc_ex6\" style=\"width: 700px; height: 300px;\"></div></div>\n",
        "  <script type=\"text/javascript\">brython({debug:1, static_stdlib_import: false, ipy_id: [\"190689\"]});</script>\n"
       ],
       "metadata": {},
       "output_type": "display_data",
       "text": [
        "<IPython.core.display.HTML at 0x7f7c76fdc080>"
       ]
      }
     ],
     "prompt_number": 37
    },
    {
     "cell_type": "markdown",
     "metadata": {},
     "source": [
      "If the *x* values are not a valid number it will be used as a label in the tooltip and the *x* values will start by *0* and incrementing by *1*. For example:"
     ]
    },
    {
     "cell_type": "code",
     "collapsed": false,
     "input": [
      "html = \"\"\"<div id=\"hc_ex7\" style=\"width: 700px; height: 300px;\"></div>\"\"\""
     ],
     "language": "python",
     "metadata": {},
     "outputs": [],
     "prompt_number": 41
    },
    {
     "cell_type": "code",
     "collapsed": false,
     "input": [
      "%%brython -h html\n",
      "from javascript import JSConstructor\n",
      "\n",
      "hc = JSConstructor(Highcharts.Chart)\n",
      "\n",
      "config = {\n",
      "    'chart': {'renderTo': 'hc_ex7', 'type': 'line'},\n",
      "    'yAxis':  {'title': {'text': 'Temperature (\u00b0C)'}},\n",
      "    'tooltip': {'valueSuffix': '\u00b0C'},\n",
      "    'series': [{'name': 'Neverland',\n",
      "                'data': [['Jan', 6.9], ['Mar', 14.5], ['Jul', 21.5], ['Aug', 26.5], ['Sep', 18.3], ['Oct', 9.6]]}]\n",
      "}\n",
      "hc(config)"
     ],
     "language": "python",
     "metadata": {},
     "outputs": [
      {
       "html": [
        "  <script id=\"583136\" type=\"text/python\">\n",
        "from javascript import JSConstructor\n",
        "\n",
        "hc = JSConstructor(Highcharts.Chart)\n",
        "\n",
        "# Bar\n",
        "config = {\n",
        "    'chart': {'renderTo': 'hc_ex7', 'type': 'line'},\n",
        "    'yAxis':  {'title': {'text': 'Temperature (\u00b0C)'}},\n",
        "    'tooltip': {'valueSuffix': '\u00b0C'},\n",
        "    'series': [{'name': 'Neverland',\n",
        "                'data': [['Jan', 6.9], ['Mar', 14.5], ['Jul', 21.5], ['Aug', 26.5], ['Sep', 18.3], ['Oct', 9.6]]}]\n",
        "}\n",
        "hc(config)\n",
        "  </script>\n",
        "  <div id=\"brython_container_583136\"><div id=\"hc_ex7\" style=\"width: 700px; height: 300px;\"></div></div>\n",
        "  <script type=\"text/javascript\">brython({debug:1, static_stdlib_import: false, ipy_id: [\"583136\"]});</script>\n"
       ],
       "metadata": {},
       "output_type": "display_data",
       "text": [
        "<IPython.core.display.HTML at 0x7f7c76fdc4e0>"
       ]
      }
     ],
     "prompt_number": 42
    },
    {
     "cell_type": "markdown",
     "metadata": {},
     "source": [
      "* An array of objects with named values. In this case the objects are point configuration objects. Range series values are given by `low` and `high`.\n",
      "\n",
      "This is the most complete case as you can define more precisely how the data is displayed."
     ]
    },
    {
     "cell_type": "code",
     "collapsed": false,
     "input": [
      "html = \"\"\"<div id=\"hc_ex8\" style=\"width: 700px; height: 300px;\"></div>\"\"\""
     ],
     "language": "python",
     "metadata": {},
     "outputs": [],
     "prompt_number": 43
    },
    {
     "cell_type": "code",
     "collapsed": false,
     "input": [
      "%%brython -h html\n",
      "from javascript import JSConstructor\n",
      "import __random as random\n",
      "\n",
      "hc = JSConstructor(Highcharts.Chart)\n",
      "\n",
      "# First we create the data to be passed to the plot\n",
      "data = [{'name': 'Data {}'.format(i+1), \n",
      "         'color': 'rgb(100,50,{0})'.format(random.randrange(0,255)), \n",
      "         'y': random.randrange(0,25), \n",
      "         'x': i+1} for i in range(10)] \n",
      "\n",
      "config = {\n",
      "    'chart': {'renderTo': 'hc_ex8'},\n",
      "    'yAxis':  {'title': {'text': 'Temperature (\u00b0C)'}},\n",
      "    'series': [{'data': data, 'type': 'line', 'color': 'black'},\n",
      "               {'data': data, 'type': 'bubble'}]\n",
      "}\n",
      "hc(config)"
     ],
     "language": "python",
     "metadata": {},
     "outputs": [
      {
       "html": [
        "  <script id=\"501668\" type=\"text/python\">\n",
        "from javascript import JSConstructor\n",
        "import __random as random\n",
        "\n",
        "hc = JSConstructor(Highcharts.Chart)\n",
        "\n",
        "# First we create the data to be passed to the plot\n",
        "data = [{'name': 'Data {}'.format(i+1), \n",
        "         'color': 'rgb(100,50,{0})'.format(random.randrange(0,255)), \n",
        "         'y': random.randrange(0,25), \n",
        "         'x': i+1} for i in range(10)] \n",
        "\n",
        "config = {\n",
        "    'chart': {'renderTo': 'hc_ex8'},\n",
        "    'yAxis':  {'title': {'text': 'Temperature (\u00b0C)'}},\n",
        "    'series': [{'data': data, 'type': 'line', 'color': 'black'},\n",
        "               {'data': data, 'type': 'bubble'}]\n",
        "}\n",
        "hc(config)\n",
        "  </script>\n",
        "  <div id=\"brython_container_501668\"><div id=\"hc_ex8\" style=\"width: 700px; height: 300px;\"></div></div>\n",
        "  <script type=\"text/javascript\">brython({debug:1, static_stdlib_import: false, ipy_id: [\"501668\"]});</script>\n"
       ],
       "metadata": {},
       "output_type": "display_data",
       "text": [
        "<IPython.core.display.HTML at 0x7f7c7674acf8>"
       ]
      }
     ],
     "prompt_number": 96
    },
    {
     "cell_type": "markdown",
     "metadata": {},
     "source": [
      "On each data value we have used a `name` (shown in the tooltip), a `color` (used in scatter, bar, column, bubble,..., charts but not in line or area charts, for example) and the `x` and `y` values."
     ]
    },
    {
     "cell_type": "heading",
     "level": 1,
     "metadata": {},
     "source": [
      "Types of charts"
     ]
    },
    {
     "cell_type": "heading",
     "level": 2,
     "metadata": {},
     "source": [
      "Line charts"
     ]
    },
    {
     "cell_type": "heading",
     "level": 2,
     "metadata": {},
     "source": [
      "Area charts"
     ]
    },
    {
     "cell_type": "heading",
     "level": 2,
     "metadata": {},
     "source": [
      "Column and bar charts"
     ]
    },
    {
     "cell_type": "heading",
     "level": 2,
     "metadata": {},
     "source": [
      "Pie charts"
     ]
    },
    {
     "cell_type": "heading",
     "level": 2,
     "metadata": {},
     "source": [
      "Scatter and buble charts"
     ]
    },
    {
     "cell_type": "heading",
     "level": 2,
     "metadata": {},
     "source": [
      "Dynamic charts"
     ]
    },
    {
     "cell_type": "heading",
     "level": 2,
     "metadata": {},
     "source": [
      "Combining different types of charts"
     ]
    },
    {
     "cell_type": "heading",
     "level": 2,
     "metadata": {},
     "source": [
      "3d Charts"
     ]
    },
    {
     "cell_type": "heading",
     "level": 2,
     "metadata": {},
     "source": [
      "Heat map"
     ]
    },
    {
     "cell_type": "heading",
     "level": 2,
     "metadata": {},
     "source": [
      "Polar charts"
     ]
    },
    {
     "cell_type": "heading",
     "level": 2,
     "metadata": {},
     "source": [
      "Other chart types"
     ]
    },
    {
     "cell_type": "markdown",
     "metadata": {},
     "source": [
      "You can create [Pyramid](http://www.highcharts.com/demo/pyramid), [Funnel](http://www.highcharts.com/demo/funnel), [Waterfall](http://www.highcharts.com/demo/waterfall) or [others]8http://www.highcharts.com/demo/renderer)."
     ]
    },
    {
     "cell_type": "code",
     "collapsed": false,
     "input": [],
     "language": "python",
     "metadata": {},
     "outputs": []
    }
   ],
   "metadata": {}
  }
 ]
}